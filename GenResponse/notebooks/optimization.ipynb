{
 "cells": [
  {
   "cell_type": "code",
   "execution_count": 1,
   "metadata": {
    "collapsed": true
   },
   "outputs": [],
   "source": [
    "from sklearn.externals import joblib\n",
    "import pandas as pd\n",
    "import numpy as np\n",
    "from sklearn.model_selection import StratifiedKFold\n",
    "from sklearn.model_selection import ParameterSampler\n",
    "from copy import deepcopy\n",
    "from sklearn.metrics import accuracy_score"
   ]
  },
  {
   "cell_type": "code",
   "execution_count": 2,
   "metadata": {
    "collapsed": false
   },
   "outputs": [],
   "source": [
    "X=pd.read_hdf(\"X_train.hd5\")\n",
    "y=pd.read_hdf(\"y_train.hd5\")\n",
    "w=pd.read_hdf(\"w_train.hd5\")\n",
    "classifier = joblib.load('clf.joblib')"
   ]
  },
  {
   "cell_type": "code",
   "execution_count": 3,
   "metadata": {
    "collapsed": false
   },
   "outputs": [],
   "source": [
    "#parameter grid\n",
    "param_grid = {\n",
    "              \"clip_weight\" : [10,15,20],\n",
    "              \"learning_rate\" : [0.001,0.1,0.5],\n",
    "              \"n_estimators\": [300,500,800],\n",
    "              \"subsample\" : [0.6, 0.8, 1],\n",
    "              \"reg_lambda\":[0.1, 0.5, 1, 2, 10],\n",
    "              \"max_depth\": [3,5,7,10],                                                                                                                                                                                                \n",
    "              }"
   ]
  },
  {
   "cell_type": "code",
   "execution_count": 4,
   "metadata": {
    "collapsed": false
   },
   "outputs": [],
   "source": [
    "#10 parameter samples\n",
    "sampler=ParameterSampler(param_grid,10)\n",
    "samples=[params for params in sampler]\n",
    "\n",
    "#array to store accuracy score per parameter set \n",
    "scores=np.array([]) "
   ]
  },
  {
   "cell_type": "code",
   "execution_count": 5,
   "metadata": {
    "collapsed": true
   },
   "outputs": [],
   "source": [
    "def accuracyscore(clf,X_test,y_test,w_test,rw):\n",
    "    X_test.reset_index(drop=True,inplace=True)\n",
    "    y_test.reset_index(drop=True,inplace=True)\n",
    "    w_test.reset_index(drop=True,inplace=True)\n",
    "    #removing category 0 from y_true (and hence those rows are deleted from X_true and w_true too)\n",
    "    y_test_ignore0=y_test[y_test>0]\n",
    "    X_test_ignore0=X_test[y_test>0]\n",
    "    w_test_ignore0=w_test[y_test>0]\n",
    "    #calculating predicted probability of y and removing category 0 probability again\n",
    "    y_pred_prob=clf.predict_proba(X_test_ignore0)\n",
    "    y_pred_prob/=rw.reshape(1,-1) \n",
    "    y_pred_prob/=np.sum(y_pred_prob,axis=1,keepdims=True)\n",
    "    y_pred_prob_ignore0=np.delete(y_pred_prob,0,axis=1)\n",
    "    #obtaining y_pred (without category 0)\n",
    "    y_pred_ignore0=np.argmax(y_pred_prob_ignore0,axis=1)+1\n",
    "    #computing accuracy score\n",
    "    y_pred=y_pred_ignore0.ravel()\n",
    "    y_true=y_test_ignore0.ravel()\n",
    "    w=w_test_ignore0.ravel()\n",
    "    score=accuracy_score(y_true,y_pred,normalize=True,sample_weight=w)\n",
    "    print score\n",
    "    return score"
   ]
  },
  {
   "cell_type": "code",
   "execution_count": 6,
   "metadata": {
    "collapsed": false
   },
   "outputs": [
    {
     "name": "stdout",
     "output_type": "stream",
     "text": [
      "CPU times: user 3min 39s, sys: 4.25 s, total: 3min 43s\n",
      "Wall time: 28 s\n",
      "0.422089192286\n",
      "CPU times: user 3min 34s, sys: 3.63 s, total: 3min 38s\n",
      "Wall time: 27.3 s\n",
      "0.423067693815\n",
      "CPU times: user 3min 50s, sys: 4.82 s, total: 3min 55s\n",
      "Wall time: 29.5 s\n",
      "0.418697307863\n",
      "CPU times: user 3min 37s, sys: 3.94 s, total: 3min 41s\n",
      "Wall time: 27.8 s\n",
      "0.419934520352\n",
      "CPU times: user 2min 54s, sys: 2.3 s, total: 2min 56s\n",
      "Wall time: 22.1 s\n",
      "0.421662281924\n",
      "CPU times: user 6min 21s, sys: 6.81 s, total: 6min 28s\n",
      "Wall time: 48.6 s\n",
      "0.426081607389\n",
      "CPU times: user 5min 32s, sys: 6.25 s, total: 5min 38s\n",
      "Wall time: 42.4 s\n",
      "0.426722404497\n",
      "CPU times: user 6min 47s, sys: 5.84 s, total: 6min 53s\n",
      "Wall time: 51.7 s\n",
      "0.423248523178\n",
      "CPU times: user 4min 37s, sys: 2.76 s, total: 4min 40s\n",
      "Wall time: 35.1 s\n",
      "0.425882048327\n",
      "CPU times: user 5min 41s, sys: 6.27 s, total: 5min 47s\n",
      "Wall time: 43.5 s\n",
      "0.422510390014\n",
      "CPU times: user 10min 31s, sys: 16.8 s, total: 10min 47s\n",
      "Wall time: 1min 21s\n",
      "0.229258331372\n",
      "CPU times: user 14min 14s, sys: 22.9 s, total: 14min 37s\n",
      "Wall time: 1min 49s\n",
      "0.229192631747\n",
      "CPU times: user 9min 58s, sys: 14.9 s, total: 10min 13s\n",
      "Wall time: 1min 16s\n",
      "0.225912114654\n",
      "CPU times: user 11min 28s, sys: 18.9 s, total: 11min 47s\n",
      "Wall time: 1min 28s\n",
      "0.227106227193\n",
      "CPU times: user 10min 39s, sys: 16.9 s, total: 10min 56s\n",
      "Wall time: 1min 22s\n",
      "0.226704045564\n",
      "CPU times: user 9min, sys: 11.4 s, total: 9min 11s\n",
      "Wall time: 1min 9s\n",
      "0.229258331372\n",
      "CPU times: user 10min 34s, sys: 9.7 s, total: 10min 44s\n",
      "Wall time: 1min 20s\n",
      "0.229192631747\n",
      "CPU times: user 10min 23s, sys: 6.77 s, total: 10min 30s\n",
      "Wall time: 1min 18s\n",
      "0.225912114654\n",
      "CPU times: user 10min 10s, sys: 6.69 s, total: 10min 16s\n",
      "Wall time: 1min 17s\n",
      "0.227106227193\n",
      "CPU times: user 9min 19s, sys: 11.1 s, total: 9min 30s\n",
      "Wall time: 1min 11s\n",
      "0.226704045564\n",
      "CPU times: user 4min 26s, sys: 6.62 s, total: 4min 33s\n",
      "Wall time: 34.2 s\n",
      "0.229258331372\n",
      "CPU times: user 4min 15s, sys: 6.52 s, total: 4min 22s\n",
      "Wall time: 32.8 s\n",
      "0.229192631747\n",
      "CPU times: user 4min 19s, sys: 6.94 s, total: 4min 26s\n",
      "Wall time: 33.3 s\n",
      "0.225912114654\n",
      "CPU times: user 5min 12s, sys: 7.2 s, total: 5min 20s\n",
      "Wall time: 40 s\n",
      "0.227106227193\n",
      "CPU times: user 4min 20s, sys: 6.93 s, total: 4min 27s\n",
      "Wall time: 33.4 s\n",
      "0.226704045564\n",
      "CPU times: user 3min 32s, sys: 4.81 s, total: 3min 37s\n",
      "Wall time: 27.2 s\n",
      "0.229258331372\n",
      "CPU times: user 4min 30s, sys: 8 s, total: 4min 38s\n",
      "Wall time: 34.8 s\n",
      "0.229192631747\n",
      "CPU times: user 4min 35s, sys: 7.6 s, total: 4min 43s\n",
      "Wall time: 35.4 s\n",
      "0.225912114654\n",
      "CPU times: user 4min 24s, sys: 6.91 s, total: 4min 31s\n",
      "Wall time: 33.9 s\n",
      "0.227106227193\n",
      "CPU times: user 3min 56s, sys: 6.27 s, total: 4min 2s\n",
      "Wall time: 30.3 s\n",
      "0.226704045564\n",
      "CPU times: user 4min 57s, sys: 5.5 s, total: 5min 2s\n",
      "Wall time: 37.9 s\n",
      "0.229258331372\n",
      "CPU times: user 5min 36s, sys: 6.45 s, total: 5min 42s\n",
      "Wall time: 42.9 s\n",
      "0.229192631747\n",
      "CPU times: user 4min 47s, sys: 5.23 s, total: 4min 52s\n",
      "Wall time: 36.6 s\n",
      "0.225912114654\n",
      "CPU times: user 4min 33s, sys: 4.27 s, total: 4min 37s\n",
      "Wall time: 34.7 s\n",
      "0.227106227193\n",
      "CPU times: user 5min 3s, sys: 5.67 s, total: 5min 9s\n",
      "Wall time: 38.7 s\n",
      "0.226704045564\n",
      "CPU times: user 7min 32s, sys: 10.1 s, total: 7min 42s\n",
      "Wall time: 57.9 s\n",
      "0.421192927249\n",
      "CPU times: user 6min 59s, sys: 10.7 s, total: 7min 10s\n",
      "Wall time: 53.8 s\n",
      "0.421720525285\n",
      "CPU times: user 6min 21s, sys: 9.17 s, total: 6min 30s\n",
      "Wall time: 48.9 s\n",
      "0.417972633838\n",
      "CPU times: user 6min 22s, sys: 8.39 s, total: 6min 30s\n",
      "Wall time: 49 s\n",
      "0.417761741232\n",
      "CPU times: user 6min 45s, sys: 9.12 s, total: 6min 54s\n",
      "Wall time: 52 s\n",
      "0.421152408855\n",
      "CPU times: user 6min 45s, sys: 4.96 s, total: 6min 50s\n",
      "Wall time: 51.3 s\n",
      "0.423382882335\n",
      "CPU times: user 6min 11s, sys: 6.69 s, total: 6min 18s\n",
      "Wall time: 47.4 s\n",
      "0.422949006343\n",
      "CPU times: user 6min 55s, sys: 7.5 s, total: 7min 2s\n",
      "Wall time: 52.9 s\n",
      "0.417836116867\n",
      "CPU times: user 6min 22s, sys: 6.65 s, total: 6min 29s\n",
      "Wall time: 48.7 s\n",
      "0.419774662877\n",
      "CPU times: user 6min 41s, sys: 4.23 s, total: 6min 46s\n",
      "Wall time: 50.8 s\n",
      "0.422011605788\n",
      "CPU times: user 4min 42s, sys: 5.99 s, total: 4min 48s\n",
      "Wall time: 36.1 s\n",
      "0.229258331372\n",
      "CPU times: user 4min 14s, sys: 6.87 s, total: 4min 21s\n",
      "Wall time: 32.7 s\n",
      "0.229192631747\n",
      "CPU times: user 3min 47s, sys: 5.79 s, total: 3min 52s\n",
      "Wall time: 29.1 s\n",
      "0.225912114654\n",
      "CPU times: user 3min 46s, sys: 6.37 s, total: 3min 53s\n",
      "Wall time: 29.2 s\n",
      "0.227106227193\n",
      "CPU times: user 3min 32s, sys: 5.79 s, total: 3min 38s\n",
      "Wall time: 27.4 s\n",
      "0.226704045564\n"
     ]
    }
   ],
   "source": [
    "for params in sampler:\n",
    "    skf = StratifiedKFold(n_splits=5)\n",
    "    totalscore=0.\n",
    "    clip=params.pop('clip_weight')\n",
    "    for train_index, test_index in skf.split(X, y):\n",
    "        #obtaining training annd testing sets\n",
    "        X_train, X_test = X.iloc[train_index], X.iloc[test_index]\n",
    "        y_train, y_test = y.iloc[train_index], y.iloc[test_index]\n",
    "        w_train, w_test = w.iloc[train_index], w.iloc[test_index]\n",
    "        #reweighting with clipped weights\n",
    "        h=np.histogram(y_train,weights=w_train,bins=13,range=[-0.5,12.5])\n",
    "        a=1./h[0]\n",
    "        a/=min(a)\n",
    "        rw=np.clip(a,0,clip)\n",
    "        w_train*=rw[y_train]\n",
    "        #creating classifier with XGBoost parameters\n",
    "        clf=deepcopy(classifier)\n",
    "        clf.set_params(**params)\n",
    "        #computing accuracy score \n",
    "        %time clf.fit(X_train,y_train,w_train)\n",
    "        totalscore+=accuracyscore(clf,X_test,y_test,w_test,rw)\n",
    "    accu_score=totalscore/5.\n",
    "    scores=np.append(scores,accu_score) "
   ]
  },
  {
   "cell_type": "code",
   "execution_count": 7,
   "metadata": {
    "collapsed": false
   },
   "outputs": [
    {
     "name": "stdout",
     "output_type": "stream",
     "text": [
      "Accuracy scores-\n",
      "Parameters:  {'clip_weight': 15, 'learning_rate': 0.001, 'n_estimators': 300, 'subsample': 0.6, 'reg_lambda': 10, 'max_depth': 10}\n",
      "Accuracy:  0.421090199248\n",
      "Parameters:  {'clip_weight': 20, 'learning_rate': 0.5, 'n_estimators': 800, 'subsample': 0.6, 'reg_lambda': 0.5, 'max_depth': 3}\n",
      "Accuracy:  0.424888994681\n",
      "Parameters:  {'clip_weight': 20, 'learning_rate': 0.5, 'n_estimators': 800, 'subsample': 0.6, 'reg_lambda': 10, 'max_depth': 10}\n",
      "Accuracy:  0.227634670106\n",
      "Parameters:  {'clip_weight': 10, 'learning_rate': 0.1, 'n_estimators': 800, 'subsample': 0.8, 'reg_lambda': 10, 'max_depth': 5}\n",
      "Accuracy:  0.227634670106\n",
      "Parameters:  {'clip_weight': 15, 'learning_rate': 0.5, 'n_estimators': 800, 'subsample': 1, 'reg_lambda': 0.5, 'max_depth': 3}\n",
      "Accuracy:  0.227634670106\n",
      "Parameters:  {'clip_weight': 20, 'learning_rate': 0.001, 'n_estimators': 800, 'subsample': 1, 'reg_lambda': 1, 'max_depth': 7}\n",
      "Accuracy:  0.227634670106\n",
      "Parameters:  {'clip_weight': 20, 'learning_rate': 0.1, 'n_estimators': 800, 'subsample': 1, 'reg_lambda': 1, 'max_depth': 3}\n",
      "Accuracy:  0.227634670106\n",
      "Parameters:  {'clip_weight': 10, 'learning_rate': 0.1, 'n_estimators': 300, 'subsample': 0.8, 'reg_lambda': 1, 'max_depth': 3}\n",
      "Accuracy:  0.419960047292\n",
      "Parameters:  {'clip_weight': 15, 'learning_rate': 0.001, 'n_estimators': 800, 'subsample': 1, 'reg_lambda': 0.5, 'max_depth': 5}\n",
      "Accuracy:  0.421190854842\n",
      "Parameters:  {'clip_weight': 15, 'learning_rate': 0.001, 'n_estimators': 800, 'subsample': 0.6, 'reg_lambda': 2, 'max_depth': 10}\n",
      "Accuracy:  0.227634670106\n"
     ]
    }
   ],
   "source": [
    "print \"Accuracy scores-\"\n",
    "for i in range (0,len(samples)):\n",
    "    print \"Parameters: \", samples[i]\n",
    "    print \"Accuracy: \", scores[i]"
   ]
  },
  {
   "cell_type": "code",
   "execution_count": 18,
   "metadata": {
    "collapsed": false
   },
   "outputs": [
    {
     "name": "stdout",
     "output_type": "stream",
     "text": [
      "Best estimator-\n",
      "{'clip_weight': 20, 'learning_rate': 0.5, 'n_estimators': 800, 'subsample': 0.6, 'reg_lambda': 0.5, 'max_depth': 3}\n"
     ]
    }
   ],
   "source": [
    "print \"Best estimator-\"\n",
    "print samples[np.argmax(scores)]"
   ]
  },
  {
   "cell_type": "code",
   "execution_count": null,
   "metadata": {
    "collapsed": true
   },
   "outputs": [],
   "source": []
  }
 ],
 "metadata": {
  "anaconda-cloud": {},
  "kernelspec": {
   "display_name": "Python [conda root]",
   "language": "python",
   "name": "conda-root-py"
  },
  "language_info": {
   "codemirror_mode": {
    "name": "ipython",
    "version": 2
   },
   "file_extension": ".py",
   "mimetype": "text/x-python",
   "name": "python",
   "nbconvert_exporter": "python",
   "pygments_lexer": "ipython2",
   "version": "2.7.12"
  }
 },
 "nbformat": 4,
 "nbformat_minor": 1
}

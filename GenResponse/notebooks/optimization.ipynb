{
 "cells": [
  {
   "cell_type": "code",
   "execution_count": 1,
   "metadata": {
    "collapsed": true
   },
   "outputs": [],
   "source": [
    "from sklearn.externals import joblib\n",
    "import pandas as pd\n",
    "from sklearn import model_selection"
   ]
  },
  {
   "cell_type": "code",
   "execution_count": 2,
   "metadata": {
    "collapsed": true
   },
   "outputs": [],
   "source": [
    "X_train=pd.read_hdf(\"X_train_10.hd5\")\n",
    "y_train=pd.read_hdf(\"y_train_10.hd5\")\n",
    "w_train=pd.read_hdf(\"w_train_10.hd5\")\n",
    "clf = joblib.load('clf_10.joblib')"
   ]
  },
  {
   "cell_type": "code",
   "execution_count": 3,
   "metadata": {
    "collapsed": false
   },
   "outputs": [
    {
     "name": "stdout",
     "output_type": "stream",
     "text": [
      "-Initial Accuracy-\n",
      "Accuracy: 0.80596 (+/- 0.00129)\n"
     ]
    }
   ],
   "source": [
    "#evaluating score of classifier by cross validation\n",
    "scores=model_selection.cross_val_score(clf,X_train, y_train,n_jobs=10,cv=5)                    \n",
    "print \"-Initial Accuracy-\"\n",
    "print \"Accuracy: %0.5f (+/- %0.5f)\"%(scores.mean(), scores.std())"
   ]
  },
  {
   "cell_type": "code",
   "execution_count": 5,
   "metadata": {
    "collapsed": false
   },
   "outputs": [
    {
     "name": "stdout",
     "output_type": "stream",
     "text": [
      "Fitting 5 folds for each of 10 candidates, totalling 50 fits\n"
     ]
    },
    {
     "name": "stderr",
     "output_type": "stream",
     "text": [
      "[Parallel(n_jobs=10)]: Done  30 tasks      | elapsed:  6.1min\n",
      "[Parallel(n_jobs=10)]: Done  50 out of  50 | elapsed:  8.8min finished\n"
     ]
    },
    {
     "name": "stdout",
     "output_type": "stream",
     "text": [
      "Best parameter set found on development set:\n",
      "XGBClassifier(base_score=0.5, booster='gbtree', colsample_bylevel=1,\n",
      "       colsample_bytree=1, gamma=0, learning_rate=0.01, max_delta_step=0,\n",
      "       max_depth=5, min_child_weight=1, missing=nan, n_estimators=300,\n",
      "       n_jobs=8, nthread=None, objective='multi:softprob', random_state=0,\n",
      "       reg_alpha=0, reg_lambda=0.5, scale_pos_weight=1, seed=None,\n",
      "       silent=True, subsample=0.6)\n",
      "Grid scores on a subset of the development set:\n",
      "0.8008 (+/-0.0001) for {'n_estimators': 300, 'subsample': 0.6, 'reg_lambda': 0.5, 'learning_rate': 0.01, 'max_depth': 5}\n",
      "0.8008 (+/-0.0001) for {'n_estimators': 800, 'subsample': 0.8, 'reg_lambda': 1, 'learning_rate': 0.01, 'max_depth': 5}\n",
      "0.8008 (+/-0.0001) for {'n_estimators': 300, 'subsample': 1, 'reg_lambda': 0.1, 'learning_rate': 0.5, 'max_depth': 10}\n",
      "0.8008 (+/-0.0001) for {'n_estimators': 800, 'subsample': 0.8, 'reg_lambda': 1, 'learning_rate': 0.01, 'max_depth': 7}\n",
      "0.8008 (+/-0.0001) for {'n_estimators': 300, 'subsample': 0.8, 'reg_lambda': 10, 'learning_rate': 0.1, 'max_depth': 10}\n",
      "0.8008 (+/-0.0001) for {'n_estimators': 300, 'subsample': 0.6, 'reg_lambda': 10, 'learning_rate': 0.1, 'max_depth': 5}\n",
      "0.8008 (+/-0.0001) for {'n_estimators': 500, 'subsample': 1, 'reg_lambda': 0.5, 'learning_rate': 0.1, 'max_depth': 5}\n",
      "0.8008 (+/-0.0001) for {'n_estimators': 300, 'subsample': 0.8, 'reg_lambda': 0.5, 'learning_rate': 0.5, 'max_depth': 10}\n",
      "0.8008 (+/-0.0001) for {'n_estimators': 300, 'subsample': 0.8, 'reg_lambda': 2, 'learning_rate': 0.01, 'max_depth': 10}\n",
      "0.8008 (+/-0.0001) for {'n_estimators': 500, 'subsample': 1, 'reg_lambda': 0.5, 'learning_rate': 0.5, 'max_depth': 10}\n"
     ]
    },
    {
     "name": "stderr",
     "output_type": "stream",
     "text": [
      "/swshare/anaconda/lib/python2.7/site-packages/sklearn/model_selection/_search.py:662: DeprecationWarning: The grid_scores_ attribute was deprecated in version 0.18 in favor of the more elaborate cv_results_ attribute. The grid_scores_ attribute will not be available from 0.20\n",
      "  DeprecationWarning)\n"
     ]
    }
   ],
   "source": [
    "#randomised search on hyper parameters\n",
    "param_grid = {\"n_estimators\": [300,500,800],\n",
    "              \"max_depth\": [3,5,7,10],                                                                                                                                                                                                \n",
    "              \"reg_lambda\":[0.1, 0.5, 1, 2, 10],\n",
    "              \"learning_rate\": [0.1, 0.01, 0.5],\n",
    "              \"subsample\" : [0.6, 0.8, 1]}\n",
    "\n",
    "clf=model_selection.RandomizedSearchCV(estimator=clf,param_distributions=param_grid,n_iter=10,cv=5,\n",
    "                                           n_jobs=10,verbose=1,\n",
    "                                           fit_params={'sample_weight':w_train})\n",
    "\n",
    "clf.fit(X_train, y_train)\n",
    "    \n",
    "print \"Best parameter set found on development set:\"\n",
    "print clf.best_estimator_\n",
    "print \"Grid scores on a subset of the development set:\"\n",
    "for params, mean_score, scores in clf.grid_scores_:\n",
    "    print \"%0.4f (+/-%0.04f) for %r\"%(mean_score, scores.std(), params)"
   ]
  },
  {
   "cell_type": "code",
   "execution_count": null,
   "metadata": {
    "collapsed": true
   },
   "outputs": [],
   "source": []
  }
 ],
 "metadata": {
  "anaconda-cloud": {},
  "kernelspec": {
   "display_name": "Python [conda root]",
   "language": "python",
   "name": "conda-root-py"
  },
  "language_info": {
   "codemirror_mode": {
    "name": "ipython",
    "version": 2
   },
   "file_extension": ".py",
   "mimetype": "text/x-python",
   "name": "python",
   "nbconvert_exporter": "python",
   "pygments_lexer": "ipython2",
   "version": "2.7.12"
  }
 },
 "nbformat": 4,
 "nbformat_minor": 1
}

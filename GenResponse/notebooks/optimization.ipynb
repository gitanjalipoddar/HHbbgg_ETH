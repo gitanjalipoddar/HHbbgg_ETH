{
 "cells": [
  {
   "cell_type": "code",
   "execution_count": 46,
   "metadata": {
    "collapsed": true
   },
   "outputs": [],
   "source": [
    "from sklearn.externals import joblib\n",
    "import pandas as pd\n",
    "import numpy as np\n",
    "from sklearn.model_selection import StratifiedKFold\n",
    "from sklearn.model_selection import ParameterSampler\n",
    "from copy import deepcopy\n",
    "from sklearn.metrics import accuracy_score\n",
    "from sklearn.preprocessing import OneHotEncoder\n",
    "from sklearn.metrics import log_loss\n",
    "from sklearn.preprocessing import RobustScaler"
   ]
  },
  {
   "cell_type": "code",
   "execution_count": 47,
   "metadata": {
    "collapsed": false
   },
   "outputs": [],
   "source": [
    "X=pd.read_hdf(\"X_train.hd5\")\n",
    "y=pd.read_hdf(\"y_train.hd5\")\n",
    "w=pd.read_hdf(\"w_train.hd5\")\n",
    "classifier = joblib.load('clf.joblib')"
   ]
  },
  {
   "cell_type": "code",
   "execution_count": 48,
   "metadata": {
    "collapsed": false
   },
   "outputs": [],
   "source": [
    "#parameter grid\n",
    "param_grid = {\n",
    "              \"clip_weight\" : [10,20,30,40],\n",
    "              \"learning_rate\" : [0.001,0.1,0.5],\n",
    "              \"n_estimators\": [300,500,800],\n",
    "              \"subsample\" : [0.6, 0.8, 1],\n",
    "              \"reg_lambda\":[0.1, 0.5, 1, 2, 10],  \n",
    "              \"max_depth\": [3,5,7,10],                                                                                                                                                                                                \n",
    "              }"
   ]
  },
  {
   "cell_type": "code",
   "execution_count": 49,
   "metadata": {
    "collapsed": false
   },
   "outputs": [
    {
     "name": "stdout",
     "output_type": "stream",
     "text": [
      "[{'clip_weight': 20, 'learning_rate': 0.5, 'n_estimators': 500, 'subsample': 0.8, 'reg_lambda': 1, 'max_depth': 5}, {'clip_weight': 30, 'learning_rate': 0.001, 'n_estimators': 300, 'subsample': 0.8, 'reg_lambda': 10, 'max_depth': 7}, {'clip_weight': 30, 'learning_rate': 0.1, 'n_estimators': 300, 'subsample': 0.8, 'reg_lambda': 0.1, 'max_depth': 7}]\n"
     ]
    }
   ],
   "source": [
    "#parameter samples\n",
    "sampler=ParameterSampler(param_grid,3)\n",
    "samples=[params for params in sampler]\n",
    "\n",
    "print samples\n",
    "\n",
    "#array to store accuracy scores \n",
    "accu_scores=np.array([]) \n",
    "#array to store cross-entropy\n",
    "cross_scores=np.array([])\n",
    "\n",
    "scaler=RobustScaler()"
   ]
  },
  {
   "cell_type": "code",
   "execution_count": 50,
   "metadata": {
    "collapsed": false
   },
   "outputs": [
    {
     "name": "stdout",
     "output_type": "stream",
     "text": [
      "CPU times: user 3min 12s, sys: 2.1 s, total: 3min 14s\n",
      "Wall time: 24.4 s\n",
      "[ 1  1  2  1  2  1  2  1  2  2  2 10 10  2  1  2  2  1  2  2]\n",
      "[ 5  1  6  1  6  1  6  5  2  6  7  8 12  3  1  2  2  1  2  6]\n",
      "(5965,)\n",
      "(5965,)\n",
      "CPU times: user 3min 10s, sys: 2.24 s, total: 3min 13s\n",
      "Wall time: 24.2 s\n",
      "[ 2  2  2  2  2  2  2  2  2  2  2  2  1  2  2  2  2  2  2 10]\n",
      "[6 4 6 6 6 4 6 4 6 6 6 6 6 6 6 4 6 6 6 6]\n",
      "(5964,)\n",
      "(5964,)\n",
      "CPU times: user 3min 7s, sys: 1.98 s, total: 3min 9s\n",
      "Wall time: 23.7 s\n",
      "[ 2  2  2  2  2  2  2  1  2  2  1  2  2  2  2 10  2  2  2  2]\n",
      "[ 6  6  6  6  6  6  6  6  6  6  6  6  6  6  6 12 12  6  6  6]\n",
      "(5960,)\n",
      "(5960,)\n",
      "CPU times: user 3min 20s, sys: 2.81 s, total: 3min 23s\n",
      "Wall time: 25.4 s\n",
      "[1 1 1 1 1 2 1 1 1 1 1 2 2 2 2 1 2 2 2 2]\n",
      "[ 5  5  5  5  5  5  5  5  5  5  5  6  6  6  6  5  6 10 10  5]\n",
      "(5959,)\n",
      "(5959,)\n",
      "CPU times: user 3min 16s, sys: 2.21 s, total: 3min 18s\n",
      "Wall time: 24.8 s\n",
      "[1 2 2 2 2 2 2 2 2 2 2 2 2 2 2 2 2 2 1 2]\n",
      "[ 6  6  6  6 10  6 10 10  6 10 10 10  6  6  6 10  6 10 10 10]\n",
      "(5957,)\n",
      "(5957,)\n",
      "CPU times: user 11min 34s, sys: 20.9 s, total: 11min 55s\n",
      "Wall time: 1min 29s\n",
      "[1 1 1 1 1 1 1 1 1 1 1 1 1 1 1 1 1 1 1 1]\n",
      "[ 5  1  6  1  6  1  6  5  2  6  7  8 12  3  1  2  2  1  2  6]\n",
      "(5965,)\n",
      "(5965,)\n",
      "CPU times: user 9min 54s, sys: 13.9 s, total: 10min 8s\n",
      "Wall time: 1min 17s\n",
      "[1 1 1 1 1 1 1 1 1 1 1 1 1 1 1 1 1 1 1 1]\n",
      "[6 4 6 6 6 4 6 4 6 6 6 6 6 6 6 4 6 6 6 6]\n",
      "(5964,)\n",
      "(5964,)\n",
      "CPU times: user 9min 37s, sys: 12.1 s, total: 9min 49s\n",
      "Wall time: 1min 13s\n",
      "[1 1 1 1 1 1 1 1 1 1 1 1 1 1 1 1 1 1 1 1]\n",
      "[ 6  6  6  6  6  6  6  6  6  6  6  6  6  6  6 12 12  6  6  6]\n",
      "(5960,)\n",
      "(5960,)\n",
      "CPU times: user 11min 40s, sys: 23.9 s, total: 12min 4s\n",
      "Wall time: 1min 30s\n",
      "[1 1 1 1 1 1 1 1 1 1 1 1 1 1 1 1 1 1 1 1]\n",
      "[ 5  5  5  5  5  5  5  5  5  5  5  6  6  6  6  5  6 10 10  5]\n",
      "(5959,)\n",
      "(5959,)\n",
      "CPU times: user 11min 16s, sys: 22.3 s, total: 11min 38s\n",
      "Wall time: 1min 27s\n",
      "[1 1 1 1 1 1 1 1 1 1 1 1 1 1 1 1 1 1 1 1]\n",
      "[ 6  6  6  6 10  6 10 10  6 10 10 10  6  6  6 10  6 10 10 10]\n",
      "(5957,)\n",
      "(5957,)\n",
      "CPU times: user 7min 24s, sys: 11.3 s, total: 7min 35s\n",
      "Wall time: 57.1 s\n",
      "[1 1 1 1 1 1 1 1 1 1 1 1 1 1 1 1 1 1 1 1]\n",
      "[ 5  1  6  1  6  1  6  5  2  6  7  8 12  3  1  2  2  1  2  6]\n",
      "(5965,)\n",
      "(5965,)\n",
      "CPU times: user 6min 37s, sys: 9.11 s, total: 6min 46s\n",
      "Wall time: 50.8 s\n",
      "[1 1 1 1 1 1 1 1 1 1 1 1 1 1 1 1 1 1 1 1]\n",
      "[6 4 6 6 6 4 6 4 6 6 6 6 6 6 6 4 6 6 6 6]\n",
      "(5964,)\n",
      "(5964,)\n",
      "CPU times: user 7min 3s, sys: 8.41 s, total: 7min 11s\n",
      "Wall time: 54 s\n",
      "[1 1 1 1 1 1 1 1 1 1 1 1 1 1 1 1 1 1 1 1]\n",
      "[ 6  6  6  6  6  6  6  6  6  6  6  6  6  6  6 12 12  6  6  6]\n",
      "(5960,)\n",
      "(5960,)\n",
      "CPU times: user 7min 4s, sys: 10.2 s, total: 7min 14s\n",
      "Wall time: 54.4 s\n",
      "[1 1 1 1 1 1 1 1 1 1 1 1 1 1 1 1 1 1 1 1]\n",
      "[ 5  5  5  5  5  5  5  5  5  5  5  6  6  6  6  5  6 10 10  5]\n",
      "(5959,)\n",
      "(5959,)\n",
      "CPU times: user 6min 27s, sys: 11.6 s, total: 6min 39s\n",
      "Wall time: 50.7 s\n",
      "[1 1 1 1 1 1 1 1 1 1 1 1 1 1 1 1 1 1 1 1]\n",
      "[ 6  6  6  6 10  6 10 10  6 10 10 10  6  6  6 10  6 10 10 10]\n",
      "(5957,)\n",
      "(5957,)\n"
     ]
    }
   ],
   "source": [
    "for params in sampler:\n",
    "    \n",
    "    skf = StratifiedKFold(n_splits=5)\n",
    "    clipweight=params.pop('clip_weight')\n",
    "    for train_index, test_index in skf.split(X, y):\n",
    "\n",
    "        #obtaining training and testing sets\n",
    "        X_train, X_test = X.iloc[train_index], X.iloc[test_index]\n",
    "        y_train, y_test = y.iloc[train_index], y.iloc[test_index]\n",
    "        w_train, w_test = w.iloc[train_index], w.iloc[test_index]\n",
    "        w_train=np.abs(w_train)\n",
    "        \n",
    "        #scale data\n",
    "        X_train=pd.DataFrame(scaler.fit_transform(X_train))\n",
    "        X_test=pd.DataFrame(scaler.transform(X_test))\n",
    "\n",
    "        #reweighting w_train with clipped weights\n",
    "        h=np.histogram(y_train,weights=w_train,bins=13,range=[-0.5,12.5])\n",
    "        a=1./h[0]\n",
    "        a/=min(a)\n",
    "        rw=np.clip(a,0,clipweight)\n",
    "        w_train*=rw[y_train]\n",
    "        \n",
    "        #classifier with XGBoost parameters and training it\n",
    "        clf=deepcopy(classifier)\n",
    "        clf.set_params(**params)\n",
    "        %time clf.fit(X_train,y_train,w_train)\n",
    "    \n",
    "        \n",
    "        #ignoring category 0 from y_true (and hence from X_true and w_true too)\n",
    "        X_test.reset_index(drop=True,inplace=True)\n",
    "        y_test.reset_index(drop=True,inplace=True)\n",
    "        w_test.reset_index(drop=True,inplace=True)\n",
    "        X_test_ignore0=X_test[y_test>0]\n",
    "        y_test_ignore0=y_test[y_test>0]\n",
    "        w_test_ignore0=w_test[y_test>0]\n",
    "        \n",
    "        #getting predicted y probability, ignoring category 0\n",
    "        y_pred_prob=clf.predict_proba(X_test_ignore0)\n",
    "        y_pred_prob/=rw.reshape(1,-1) \n",
    "        y_pred_prob/=np.sum(y_pred_prob,axis=1,keepdims=True)\n",
    "        y_pred_prob_ignore0=np.delete(y_pred_prob,0,axis=1)\n",
    "        y_pred_prob_ignore0/=np.sum(y_pred_prob_ignore0,axis=1,keepdims=True)\n",
    "        \n",
    "        #getting sample weight values, ignoring category 0\n",
    "        weight=w_test_ignore0.ravel()\n",
    "    \n",
    "        #calculating accuracy score\n",
    "        y_pred_ignore0=np.argmax(y_pred_prob_ignore0,axis=1)+1\n",
    "        y_pred=y_pred_ignore0.ravel()\n",
    "        y_true=y_test_ignore0.ravel()\n",
    "        accu_scores=np.append(accu_scores,accuracy_score(y_true,y_pred,normalize=True,sample_weight=weight))\n",
    "        \n",
    "        print y_pred[0:20]\n",
    "        print y_true[0:20]\n",
    "        \n",
    "        print y_pred.shape\n",
    "        print y_true.shape\n",
    "        \n",
    "        #calculation cross entropy score\n",
    "        enc=OneHotEncoder(handle_unknown='ignore')\n",
    "        y_label=enc.fit_transform(y_test_ignore0.reshape(-1,1)).toarray()\n",
    "        cross_scores=np.append(cross_scores,\n",
    "                               log_loss(y_label,y_pred_prob_ignore0,normalize=True,sample_weight=w_test_ignore0))"
   ]
  },
  {
   "cell_type": "code",
   "execution_count": 51,
   "metadata": {
    "collapsed": false
   },
   "outputs": [
    {
     "name": "stdout",
     "output_type": "stream",
     "text": [
      "Parameters:  {'clip_weight': 20, 'learning_rate': 0.5, 'n_estimators': 500, 'subsample': 0.8, 'reg_lambda': 1, 'max_depth': 5}\n",
      "Accuracy with w_test: 0.42707 +/- 0.00227\n",
      "Cross entropy: 1.86280 +/- 0.00631\n",
      "\n",
      "Parameters:  {'clip_weight': 30, 'learning_rate': 0.001, 'n_estimators': 300, 'subsample': 0.8, 'reg_lambda': 10, 'max_depth': 7}\n",
      "Accuracy with w_test: 0.22912 +/- 0.00206\n",
      "Cross entropy: 2.38685 +/- 0.00041\n",
      "\n",
      "Parameters:  {'clip_weight': 30, 'learning_rate': 0.1, 'n_estimators': 300, 'subsample': 0.8, 'reg_lambda': 0.1, 'max_depth': 7}\n",
      "Accuracy with w_test: 0.22912 +/- 0.00206\n",
      "Cross entropy: 2.42764 +/- 0.00025\n",
      "\n"
     ]
    }
   ],
   "source": [
    "scores1=np.split(accu_scores,3)\n",
    "scores2=np.split(cross_scores,3)\n",
    "\n",
    "accu_mean=np.array([])\n",
    "cross_mean=np.array([])\n",
    "\n",
    "for i in range (0,len(scores1)):\n",
    "    print \"Parameters: \", samples[i]\n",
    "    print \"Accuracy with w_test: %0.5f +/- %0.5f\"%(scores1[i].mean(),scores1[i].std())\n",
    "    print \"Cross entropy: %0.5f +/- %0.5f\"%(scores2[i].mean(),scores2[i].std())\n",
    "    print \"\"\n",
    "    \n",
    "    accu_mean=np.append(accu_mean, scores1[i].mean())\n",
    "    cross_mean=np.append(cross_mean, scores2[i].mean())"
   ]
  },
  {
   "cell_type": "code",
   "execution_count": 56,
   "metadata": {
    "collapsed": false
   },
   "outputs": [
    {
     "name": "stdout",
     "output_type": "stream",
     "text": [
      "Accuracy mean in sorted order:  [ 0.2291188   0.2291188   0.42706769]\n",
      "Cross entropy mean in sorted order:  [ 1.86279873  2.38685232  2.42763885]\n"
     ]
    }
   ],
   "source": [
    "#finding highest accuracy and lowest cross entropy\n",
    "cross_mean.sort()\n",
    "accu_mean.sort()\n",
    "\n",
    "print \"Accuracy mean in sorted order: \",accu_mean\n",
    "print \"Cross entropy mean in sorted order: \",cross_mean"
   ]
  },
  {
   "cell_type": "code",
   "execution_count": null,
   "metadata": {
    "collapsed": true
   },
   "outputs": [],
   "source": []
  }
 ],
 "metadata": {
  "anaconda-cloud": {},
  "kernelspec": {
   "display_name": "Python [conda root]",
   "language": "python",
   "name": "conda-root-py"
  },
  "language_info": {
   "codemirror_mode": {
    "name": "ipython",
    "version": 2
   },
   "file_extension": ".py",
   "mimetype": "text/x-python",
   "name": "python",
   "nbconvert_exporter": "python",
   "pygments_lexer": "ipython2",
   "version": "2.7.12"
  }
 },
 "nbformat": 4,
 "nbformat_minor": 1
}

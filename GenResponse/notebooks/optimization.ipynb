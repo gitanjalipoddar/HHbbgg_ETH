{
 "cells": [
  {
   "cell_type": "code",
   "execution_count": 1,
   "metadata": {
    "collapsed": true
   },
   "outputs": [],
   "source": [
    "from sklearn.externals import joblib\n",
    "import pandas as pd\n",
    "import numpy as np\n",
    "from sklearn.model_selection import StratifiedKFold\n",
    "from sklearn.model_selection import ParameterSampler\n",
    "from copy import deepcopy\n",
    "from sklearn.metrics import accuracy_score\n",
    "from sklearn.preprocessing import OneHotEncoder\n",
    "from sklearn.metrics import log_loss\n",
    "from sklearn.preprocessing import RobustScaler"
   ]
  },
  {
   "cell_type": "code",
   "execution_count": 2,
   "metadata": {
    "collapsed": false
   },
   "outputs": [],
   "source": [
    "X=pd.read_hdf(\"X_train.hd5\")\n",
    "y=pd.read_hdf(\"y_train.hd5\")\n",
    "w=pd.read_hdf(\"w_train.hd5\")\n",
    "classifier = joblib.load('clf.joblib')"
   ]
  },
  {
   "cell_type": "code",
   "execution_count": 3,
   "metadata": {
    "collapsed": false
   },
   "outputs": [],
   "source": [
    "#parameter grid\n",
    "param_grid = {\n",
    "              \"clip_weight\" : [10,20,30,40],\n",
    "              \"learning_rate\" : [0.001,0.1,0.5],\n",
    "              \"n_estimators\": [300,500,800],\n",
    "              \"subsample\" : [0.6, 0.8, 1],\n",
    "              \"reg_lambda\":[0.1, 0.5, 1, 2, 10],  \n",
    "              \"max_depth\": [3,5,7,10],                                                                                                                                                                                                \n",
    "              }"
   ]
  },
  {
   "cell_type": "code",
   "execution_count": null,
   "metadata": {
    "collapsed": false
   },
   "outputs": [],
   "source": [
    "#parameter samples\n",
    "sampler=ParameterSampler(param_grid,3)\n",
    "samples=[params for params in sampler]\n"
   ]
  },
  {
   "cell_type": "code",
   "execution_count": 5,
   "metadata": {
    "collapsed": true
   },
   "outputs": [],
   "source": [
    "#array to store accuracy scores \n",
    "accu_scores=np.array([]) \n",
    "\n",
    "\n",
    "#array to store cross-entropy\n",
    "cross_scores=np.array([])\n",
    "\n",
    "\n",
    "scaler=RobustScaler()"
   ]
  },
  {
   "cell_type": "code",
   "execution_count": 19,
   "metadata": {
    "collapsed": false
   },
   "outputs": [
    {
     "name": "stdout",
     "output_type": "stream",
     "text": [
      "   clip_weight  learning_rate  max_depth  n_estimators  reg_lambda  subsample\n",
      "0           20          0.001         10           300           1        0.8\n",
      "1           30          0.100          7           500           2        0.6\n",
      "2           40          0.100          5           800           1        0.8\n"
     ]
    }
   ],
   "source": [
    "accu_mean=np.array([]) \n",
    "accu_stdev=np.array([]) \n",
    "cross_mean=np.array([]) \n",
    "cross_stdev=np.array([])\n",
    "\n",
    "df=pd.DataFrame(samples)\n",
    "print df"
   ]
  },
  {
   "cell_type": "code",
   "execution_count": 6,
   "metadata": {
    "collapsed": false
   },
   "outputs": [
    {
     "name": "stdout",
     "output_type": "stream",
     "text": [
      "CPU times: user 8min 11s, sys: 12.5 s, total: 8min 24s\n",
      "Wall time: 1min 3s\n",
      "[1 1 1 1 1 1 1 1 1 1 1 1 1 1 1 1 1 1 1 1]\n",
      "[ 2  8  1  7 10  7  1  1  2 12 10  7  4  2  1  2  2  1  1  2]\n",
      "(5942,)\n",
      "(5942,)\n",
      "CPU times: user 7min 39s, sys: 12.6 s, total: 7min 51s\n",
      "Wall time: 59 s\n",
      "[1 1 1 1 1 1 1 1 1 1 1 1 1 1 1 1 1 1 1 1]\n",
      "[9 9 9 9 9 9 9 9 9 9 9 9 9 9 9 9 4 4 9 7]\n",
      "(5940,)\n",
      "(5940,)\n",
      "CPU times: user 8min 2s, sys: 11.8 s, total: 8min 13s\n",
      "Wall time: 1min 1s\n",
      "[1 1 1 1 1 1 1 1 1 1 1 1 1 1 1 1 1 1 1 1]\n",
      "[4 4 4 4 4 4 4 4 4 4 4 4 4 4 2 2 4 2 2 2]\n",
      "(5939,)\n",
      "(5939,)\n",
      "CPU times: user 8min 13s, sys: 12.9 s, total: 8min 26s\n",
      "Wall time: 1min 3s\n",
      "[1 1 1 1 1 1 1 1 1 1 1 1 1 1 1 1 1 1 1 1]\n",
      "[ 4  4  4  4  4  4  4  4 10 10 11 10  2  2 11  2  2  2  2 11]\n",
      "(5937,)\n",
      "(5937,)\n",
      "CPU times: user 7min 23s, sys: 13 s, total: 7min 36s\n",
      "Wall time: 57.1 s\n",
      "[1 1 1 1 1 1 1 1 1 1 1 1 1 1 1 1 1 1 1 1]\n",
      "[11 11 11 11 11  5 11 11 11 11 11 11 11  5 11 11 11  9 11 11]\n",
      "(5935,)\n",
      "(5935,)\n",
      "CPU times: user 6min 49s, sys: 10.3 s, total: 6min 59s\n",
      "Wall time: 52.5 s\n",
      "[1 1 1 1 1 1 1 1 1 1 1 1 1 1 1 1 1 1 1 1]\n",
      "[ 2  8  1  7 10  7  1  1  2 12 10  7  4  2  1  2  2  1  1  2]\n",
      "(5942,)\n",
      "(5942,)\n",
      "CPU times: user 7min 44s, sys: 10.8 s, total: 7min 55s\n",
      "Wall time: 59.5 s\n",
      "[1 1 1 1 1 1 1 1 1 1 1 1 1 1 1 1 1 1 1 1]\n",
      "[9 9 9 9 9 9 9 9 9 9 9 9 9 9 9 9 4 4 9 7]\n",
      "(5940,)\n",
      "(5940,)\n",
      "CPU times: user 7min 32s, sys: 10.7 s, total: 7min 43s\n",
      "Wall time: 58 s\n",
      "[1 1 1 1 1 1 1 1 1 1 1 1 1 1 1 1 1 1 1 1]\n",
      "[4 4 4 4 4 4 4 4 4 4 4 4 4 4 2 2 4 2 2 2]\n",
      "(5939,)\n",
      "(5939,)\n",
      "CPU times: user 6min 54s, sys: 12.8 s, total: 7min 7s\n",
      "Wall time: 53.5 s\n",
      "[1 1 1 1 1 1 1 1 1 1 1 1 1 1 1 1 1 1 1 1]\n",
      "[ 4  4  4  4  4  4  4  4 10 10 11 10  2  2 11  2  2  2  2 11]\n",
      "(5937,)\n",
      "(5937,)\n",
      "CPU times: user 6min 41s, sys: 11.2 s, total: 6min 53s\n",
      "Wall time: 51.7 s\n",
      "[1 1 1 1 1 1 1 1 1 1 1 1 1 1 1 1 1 1 1 1]\n",
      "[11 11 11 11 11  5 11 11 11 11 11 11 11  5 11 11 11  9 11 11]\n",
      "(5935,)\n",
      "(5935,)\n",
      "CPU times: user 7min 50s, sys: 12.7 s, total: 8min 3s\n",
      "Wall time: 1min\n",
      "[ 2  2  1 10  2 10  1  1  2 10  2 10  2  2  2  2  2  2  1  2]\n",
      "[ 2  8  1  7 10  7  1  1  2 12 10  7  4  2  1  2  2  1  1  2]\n",
      "(5942,)\n",
      "(5942,)\n",
      "CPU times: user 6min 20s, sys: 9.28 s, total: 6min 30s\n",
      "Wall time: 48.8 s\n",
      "[ 2  1  1  2  1  1  1  2  1  1  2  1  1  1  1  1 10 10  1 10]\n",
      "[9 9 9 9 9 9 9 9 9 9 9 9 9 9 9 9 4 4 9 7]\n",
      "(5940,)\n",
      "(5940,)\n",
      "CPU times: user 6min 22s, sys: 9.23 s, total: 6min 31s\n",
      "Wall time: 49 s\n",
      "[ 2  2 10  2 10  2  2  2  2  2  2  2 10 10  2  2 10  2  2  2]\n",
      "[4 4 4 4 4 4 4 4 4 4 4 4 4 4 2 2 4 2 2 2]\n",
      "(5939,)\n",
      "(5939,)\n",
      "CPU times: user 6min 23s, sys: 9.39 s, total: 6min 32s\n",
      "Wall time: 49.1 s\n",
      "[10 10  2  2  2  2  2  2  2 10  2  2 10  2 10 10  2  2  2 10]\n",
      "[ 4  4  4  4  4  4  4  4 10 10 11 10  2  2 11  2  2  2  2 11]\n",
      "(5937,)\n",
      "(5937,)\n",
      "CPU times: user 7min 47s, sys: 11.6 s, total: 7min 59s\n",
      "Wall time: 60 s\n",
      "[10 10  2 10 10  1 10  2 10 10  2 10 10  1 10  2 10  1 10 10]\n",
      "[11 11 11 11 11  5 11 11 11 11 11 11 11  5 11 11 11  9 11 11]\n",
      "(5935,)\n",
      "(5935,)\n"
     ]
    }
   ],
   "source": [
    "for params in sampler:\n",
    "    \n",
    "    skf = StratifiedKFold(n_splits=5)\n",
    "    clipweight=params.pop('clip_weight')\n",
    "    for train_index, test_index in skf.split(X, y):\n",
    "\n",
    "        #obtaining training and testing sets\n",
    "        X_train, X_test = X.iloc[train_index], X.iloc[test_index]\n",
    "        y_train, y_test = y.iloc[train_index], y.iloc[test_index]\n",
    "        w_train, w_test = w.iloc[train_index], w.iloc[test_index]\n",
    "        w_train=np.abs(w_train)\n",
    "        \n",
    "        #scale data\n",
    "        X_train=pd.DataFrame(scaler.fit_transform(X_train))\n",
    "        X_test=pd.DataFrame(scaler.transform(X_test))\n",
    "\n",
    "        #reweighting w_train with clipped weights\n",
    "        h=np.histogram(y_train,weights=w_train,bins=13,range=[-0.5,12.5])\n",
    "        a=1./h[0]\n",
    "        a/=min(a)\n",
    "        rw=np.clip(a,0,clipweight)\n",
    "        w_train*=rw[y_train]\n",
    "        \n",
    "        #classifier with XGBoost parameters and training it\n",
    "        clf=deepcopy(classifier)\n",
    "        clf.set_params(**params)\n",
    "        %time clf.fit(X_train,y_train,w_train)\n",
    "    \n",
    "        \n",
    "        #ignoring category 0 from y_true (and hence from X_true and w_true too)\n",
    "        X_test.reset_index(drop=True,inplace=True)\n",
    "        y_test.reset_index(drop=True,inplace=True)\n",
    "        w_test.reset_index(drop=True,inplace=True)\n",
    "        X_test_ignore0=X_test[y_test>0]\n",
    "        y_test_ignore0=y_test[y_test>0]\n",
    "        w_test_ignore0=w_test[y_test>0]\n",
    "        \n",
    "        #getting predicted y probability, ignoring category 0\n",
    "        y_pred_prob=clf.predict_proba(X_test_ignore0)\n",
    "        y_pred_prob/=rw.reshape(1,-1) \n",
    "        y_pred_prob/=np.sum(y_pred_prob,axis=1,keepdims=True)\n",
    "        y_pred_prob_ignore0=np.delete(y_pred_prob,0,axis=1)\n",
    "        y_pred_prob_ignore0/=np.sum(y_pred_prob_ignore0,axis=1,keepdims=True)\n",
    "        \n",
    "        #getting sample weight values, ignoring category 0\n",
    "        weight=w_test_ignore0.ravel()\n",
    "    \n",
    "        #calculating accuracy score\n",
    "        y_pred_ignore0=np.argmax(y_pred_prob_ignore0,axis=1)+1\n",
    "        y_pred=y_pred_ignore0.ravel()\n",
    "        y_true=y_test_ignore0.ravel()\n",
    "        accu_scores=np.append(accu_scores,accuracy_score(y_true,y_pred,normalize=True,sample_weight=weight))\n",
    "        \n",
    "        print y_pred[0:20]\n",
    "        print y_true[0:20]\n",
    "        \n",
    "        print y_pred.shape\n",
    "        print y_true.shape\n",
    "        \n",
    "        #calculation cross entropy score\n",
    "        enc=OneHotEncoder(handle_unknown='ignore')\n",
    "        y_label=enc.fit_transform(y_test_ignore0.reshape(-1,1)).toarray()\n",
    "        cross_scores=np.append(cross_scores,\n",
    "                               log_loss(y_label,y_pred_prob_ignore0,normalize=True,sample_weight=w_test_ignore0))"
   ]
  },
  {
   "cell_type": "code",
   "execution_count": 20,
   "metadata": {
    "collapsed": false
   },
   "outputs": [
    {
     "name": "stdout",
     "output_type": "stream",
     "text": [
      "Parameters:  {'clip_weight': 20, 'learning_rate': 0.001, 'n_estimators': 300, 'subsample': 0.8, 'reg_lambda': 1, 'max_depth': 10}\n",
      "Accuracy with w_test: 0.22695 +/- 0.00173\n",
      "Cross entropy: 2.22826 +/- 0.00159\n",
      "\n",
      "Parameters:  {'clip_weight': 30, 'learning_rate': 0.1, 'n_estimators': 500, 'subsample': 0.6, 'reg_lambda': 2, 'max_depth': 7}\n",
      "Accuracy with w_test: 0.22695 +/- 0.00173\n",
      "Cross entropy: 2.45789 +/- 0.00039\n",
      "\n",
      "Parameters:  {'clip_weight': 40, 'learning_rate': 0.1, 'n_estimators': 800, 'subsample': 0.8, 'reg_lambda': 1, 'max_depth': 5}\n",
      "Accuracy with w_test: 0.41736 +/- 0.00420\n",
      "Cross entropy: 1.89480 +/- 0.00796\n",
      "\n"
     ]
    }
   ],
   "source": [
    "scores1=np.split(accu_scores,3)\n",
    "scores2=np.split(cross_scores,3)\n",
    "\n",
    "for i in range (0,len(scores1)):\n",
    "    print \"Parameters: \", samples[i]\n",
    "    print \"Accuracy with w_test: %0.5f +/- %0.5f\"%(scores1[i].mean(),scores1[i].std())\n",
    "    print \"Cross entropy: %0.5f +/- %0.5f\"%(scores2[i].mean(),scores2[i].std())\n",
    "    print \"\"\n",
    "    \n",
    "    accu_mean=np.append(accu_mean,scores1[i].mean())\n",
    "    accu_stdev=np.append(accu_stdev,scores1[i].std())\n",
    "    cross_mean=np.append(cross_mean,scores2[i].mean())\n",
    "    cross_stdev=np.append(cross_stdev,scores2[i].std())\n",
    "    \n",
    "    "
   ]
  },
  {
   "cell_type": "code",
   "execution_count": 21,
   "metadata": {
    "collapsed": false
   },
   "outputs": [
    {
     "name": "stdout",
     "output_type": "stream",
     "text": [
      "   clip_weight  learning_rate  max_depth  n_estimators  reg_lambda  subsample  \\\n",
      "0           20          0.001         10           300           1        0.8   \n",
      "1           30          0.100          7           500           2        0.6   \n",
      "2           40          0.100          5           800           1        0.8   \n",
      "\n",
      "   accu_mean  accu_stdev  cross_mean  cross_stdev  \n",
      "0   0.226947    0.001731    2.228264     0.001587  \n",
      "1   0.226947    0.001731    2.457889     0.000391  \n",
      "2   0.417360    0.004199    1.894798     0.007959  \n"
     ]
    }
   ],
   "source": [
    "#adding mean and stdev\n",
    "df['accu_mean']=accu_mean\n",
    "df['accu_stdev']=accu_stdev\n",
    "df['cross_mean']=cross_mean\n",
    "df['cross_stdev']=cross_stdev\n",
    "\n",
    "print df"
   ]
  },
  {
   "cell_type": "code",
   "execution_count": 30,
   "metadata": {
    "collapsed": false
   },
   "outputs": [
    {
     "name": "stdout",
     "output_type": "stream",
     "text": [
      "   clip_weight  learning_rate  max_depth  n_estimators  reg_lambda  subsample  \\\n",
      "2           40          0.100          5           800           1        0.8   \n",
      "0           20          0.001         10           300           1        0.8   \n",
      "1           30          0.100          7           500           2        0.6   \n",
      "\n",
      "   accu_mean  accu_stdev  cross_mean  cross_stdev  \n",
      "2   0.417360    0.004199    1.894798     0.007959  \n",
      "0   0.226947    0.001731    2.228264     0.001587  \n",
      "1   0.226947    0.001731    2.457889     0.000391  \n"
     ]
    }
   ],
   "source": [
    "#sorting accuracy in descending order\n",
    "df_accu=df.sort_values('accu_mean',ascending=False,inplace=False)\n",
    "print df_accu"
   ]
  },
  {
   "cell_type": "code",
   "execution_count": 31,
   "metadata": {
    "collapsed": false
   },
   "outputs": [
    {
     "name": "stdout",
     "output_type": "stream",
     "text": [
      "   clip_weight  learning_rate  max_depth  n_estimators  reg_lambda  subsample  \\\n",
      "2           40          0.100          5           800           1        0.8   \n",
      "0           20          0.001         10           300           1        0.8   \n",
      "1           30          0.100          7           500           2        0.6   \n",
      "\n",
      "   accu_mean  accu_stdev  cross_mean  cross_stdev  \n",
      "2   0.417360    0.004199    1.894798     0.007959  \n",
      "0   0.226947    0.001731    2.228264     0.001587  \n",
      "1   0.226947    0.001731    2.457889     0.000391  \n"
     ]
    }
   ],
   "source": [
    "#sorting cross entropy in ascending order\n",
    "df_cross=df.sort_values('cross_mean',ascending=True,inplace=False)\n",
    "print df_cross"
   ]
  },
  {
   "cell_type": "code",
   "execution_count": null,
   "metadata": {
    "collapsed": true
   },
   "outputs": [],
   "source": []
  }
 ],
 "metadata": {
  "anaconda-cloud": {},
  "kernelspec": {
   "display_name": "Python [conda root]",
   "language": "python",
   "name": "conda-root-py"
  },
  "language_info": {
   "codemirror_mode": {
    "name": "ipython",
    "version": 2
   },
   "file_extension": ".py",
   "mimetype": "text/x-python",
   "name": "python",
   "nbconvert_exporter": "python",
   "pygments_lexer": "ipython2",
   "version": "2.7.12"
  }
 },
 "nbformat": 4,
 "nbformat_minor": 1
}

{
 "cells": [
  {
   "cell_type": "code",
   "execution_count": 10,
   "metadata": {
    "collapsed": true
   },
   "outputs": [],
   "source": [
    "from sklearn.externals import joblib\n",
    "import pandas as pd\n",
    "import numpy as np\n",
    "from sklearn.model_selection import StratifiedKFold\n",
    "from sklearn.model_selection import ParameterSampler\n",
    "from copy import deepcopy\n",
    "from sklearn.metrics import accuracy_score\n",
    "from sklearn.preprocessing import OneHotEncoder\n",
    "from sklearn.metrics import log_loss"
   ]
  },
  {
   "cell_type": "code",
   "execution_count": 11,
   "metadata": {
    "collapsed": false
   },
   "outputs": [],
   "source": [
    "X=pd.read_hdf(\"X_train.hd5\")\n",
    "y=pd.read_hdf(\"y_train.hd5\")\n",
    "w=pd.read_hdf(\"w_train.hd5\")\n",
    "classifier = joblib.load('clf.joblib')"
   ]
  },
  {
   "cell_type": "code",
   "execution_count": 12,
   "metadata": {
    "collapsed": false
   },
   "outputs": [],
   "source": [
    "#parameter grid\n",
    "param_grid = {\n",
    "              \"clip_weight\" : [30,40,50,60],\n",
    "              \"learning_rate\" : [0.001,0.1,0.5],\n",
    "              \"n_estimators\": [300,500,800],\n",
    "              \"subsample\" : [0.6, 0.8, 1],\n",
    "              \"reg_lambda\":[0.1, 0.5, 1, 2, 10],  \n",
    "              \"max_depth\": [3,5,7,10],                                                                                                                                                                                                \n",
    "              }"
   ]
  },
  {
   "cell_type": "code",
   "execution_count": 13,
   "metadata": {
    "collapsed": false
   },
   "outputs": [],
   "source": [
    "#10 parameter samples\n",
    "sampler=ParameterSampler(param_grid,10)\n",
    "samples=[params for params in sampler]\n",
    "\n",
    "#array to store accuracy scores \n",
    "accu_scores=np.array([]) \n",
    "accu_scores_rw=np.array([])\n",
    "#array to store cross-entropy\n",
    "cross_scores=np.array([])"
   ]
  },
  {
   "cell_type": "code",
   "execution_count": 14,
   "metadata": {
    "collapsed": false
   },
   "outputs": [
    {
     "name": "stdout",
     "output_type": "stream",
     "text": [
      "CPU times: user 6min 25s, sys: 11.1 s, total: 6min 36s\n",
      "Wall time: 49.7 s\n",
      "CPU times: user 6min 32s, sys: 11.2 s, total: 6min 43s\n",
      "Wall time: 50.5 s\n",
      "CPU times: user 6min 26s, sys: 10.1 s, total: 6min 36s\n",
      "Wall time: 49.6 s\n",
      "CPU times: user 6min 33s, sys: 10.9 s, total: 6min 44s\n",
      "Wall time: 50.6 s\n",
      "CPU times: user 6min 32s, sys: 11 s, total: 6min 43s\n",
      "Wall time: 50.5 s\n",
      "CPU times: user 8min 20s, sys: 7.06 s, total: 8min 27s\n",
      "Wall time: 1min 3s\n",
      "CPU times: user 7min 7s, sys: 3.55 s, total: 7min 11s\n",
      "Wall time: 53.9 s\n",
      "CPU times: user 7min 4s, sys: 3.5 s, total: 7min 8s\n",
      "Wall time: 53.6 s\n",
      "CPU times: user 7min 32s, sys: 4.7 s, total: 7min 36s\n",
      "Wall time: 57.2 s\n",
      "CPU times: user 7min 12s, sys: 3.64 s, total: 7min 16s\n",
      "Wall time: 54.6 s\n",
      "CPU times: user 8min 58s, sys: 10.4 s, total: 9min 9s\n",
      "Wall time: 1min 8s\n",
      "CPU times: user 9min 5s, sys: 11.1 s, total: 9min 16s\n",
      "Wall time: 1min 9s\n",
      "CPU times: user 8min 52s, sys: 10.6 s, total: 9min 2s\n",
      "Wall time: 1min 7s\n",
      "CPU times: user 10min 31s, sys: 15.5 s, total: 10min 47s\n",
      "Wall time: 1min 20s\n",
      "CPU times: user 9min 6s, sys: 11.2 s, total: 9min 17s\n",
      "Wall time: 1min 9s\n",
      "CPU times: user 7min 28s, sys: 4.17 s, total: 7min 32s\n",
      "Wall time: 56.6 s\n",
      "CPU times: user 8min 56s, sys: 9.37 s, total: 9min 5s\n",
      "Wall time: 1min 8s\n",
      "CPU times: user 9min 11s, sys: 9.35 s, total: 9min 21s\n",
      "Wall time: 1min 10s\n",
      "CPU times: user 7min 18s, sys: 4.46 s, total: 7min 23s\n",
      "Wall time: 55.5 s\n",
      "CPU times: user 7min 25s, sys: 4.8 s, total: 7min 30s\n",
      "Wall time: 56.4 s\n",
      "CPU times: user 6min 51s, sys: 7 s, total: 6min 58s\n",
      "Wall time: 52.4 s\n",
      "CPU times: user 7min 6s, sys: 7.5 s, total: 7min 13s\n",
      "Wall time: 54.3 s\n",
      "CPU times: user 5min 46s, sys: 3.42 s, total: 5min 50s\n",
      "Wall time: 43.8 s\n",
      "CPU times: user 5min 51s, sys: 3.51 s, total: 5min 54s\n",
      "Wall time: 44.4 s\n",
      "CPU times: user 5min 47s, sys: 3.29 s, total: 5min 50s\n",
      "Wall time: 43.9 s\n",
      "CPU times: user 7min 9s, sys: 6.5 s, total: 7min 15s\n",
      "Wall time: 54.5 s\n",
      "CPU times: user 6min 8s, sys: 3.65 s, total: 6min 11s\n",
      "Wall time: 46.5 s\n",
      "CPU times: user 6min 6s, sys: 3.77 s, total: 6min 10s\n",
      "Wall time: 46.4 s\n",
      "CPU times: user 6min 13s, sys: 4.02 s, total: 6min 17s\n",
      "Wall time: 47.2 s\n",
      "CPU times: user 7min 30s, sys: 7.78 s, total: 7min 38s\n",
      "Wall time: 57.4 s\n",
      "CPU times: user 5min 23s, sys: 2.98 s, total: 5min 26s\n",
      "Wall time: 40.8 s\n",
      "CPU times: user 5min 25s, sys: 3.2 s, total: 5min 28s\n",
      "Wall time: 41.2 s\n",
      "CPU times: user 5min 24s, sys: 2.95 s, total: 5min 27s\n",
      "Wall time: 41 s\n",
      "CPU times: user 5min 17s, sys: 2.52 s, total: 5min 20s\n",
      "Wall time: 40.1 s\n",
      "CPU times: user 5min 12s, sys: 2.29 s, total: 5min 15s\n",
      "Wall time: 39.4 s\n",
      "CPU times: user 5min 23s, sys: 6.69 s, total: 5min 30s\n",
      "Wall time: 41.3 s\n",
      "CPU times: user 6min 19s, sys: 9.42 s, total: 6min 28s\n",
      "Wall time: 48.6 s\n",
      "CPU times: user 5min 32s, sys: 6.87 s, total: 5min 39s\n",
      "Wall time: 42.5 s\n",
      "CPU times: user 5min 27s, sys: 6.97 s, total: 5min 34s\n",
      "Wall time: 41.8 s\n",
      "CPU times: user 5min 29s, sys: 6.97 s, total: 5min 36s\n",
      "Wall time: 42.1 s\n",
      "CPU times: user 6min 23s, sys: 8.57 s, total: 6min 31s\n",
      "Wall time: 49 s\n",
      "CPU times: user 5min 25s, sys: 6.84 s, total: 5min 32s\n",
      "Wall time: 41.6 s\n",
      "CPU times: user 5min 22s, sys: 6.38 s, total: 5min 28s\n",
      "Wall time: 41.2 s\n",
      "CPU times: user 5min 24s, sys: 6.56 s, total: 5min 30s\n",
      "Wall time: 41.4 s\n",
      "CPU times: user 5min 28s, sys: 6.63 s, total: 5min 35s\n",
      "Wall time: 41.9 s\n",
      "CPU times: user 4min 46s, sys: 3.95 s, total: 4min 50s\n",
      "Wall time: 36.3 s\n",
      "CPU times: user 4min 52s, sys: 4.21 s, total: 4min 56s\n",
      "Wall time: 37.1 s\n",
      "CPU times: user 4min 53s, sys: 4.51 s, total: 4min 58s\n",
      "Wall time: 37.3 s\n",
      "CPU times: user 5min, sys: 4.82 s, total: 5min 5s\n",
      "Wall time: 38.2 s\n",
      "CPU times: user 4min 50s, sys: 4.7 s, total: 4min 55s\n",
      "Wall time: 36.9 s\n"
     ]
    }
   ],
   "source": [
    "for params in sampler:\n",
    "    skf = StratifiedKFold(n_splits=5)\n",
    "    clipweight=params.pop('clip_weight')\n",
    "    for train_index, test_index in skf.split(X, y):\n",
    "        \n",
    "        #obtaining training and testing sets\n",
    "        X_train, X_test = X.iloc[train_index], X.iloc[test_index]\n",
    "        y_train, y_test = y.iloc[train_index], y.iloc[test_index]\n",
    "        w_train, w_test = w.iloc[train_index], w.iloc[test_index]\n",
    "        #reweighting w_train with clipped weights\n",
    "        h=np.histogram(y_train,weights=w_train,bins=13,range=[-0.5,12.5])\n",
    "        a=1./h[0]\n",
    "        a/=min(a)\n",
    "        rw_train=np.clip(a,0,clipweight)\n",
    "        w_train*=rw_train[y_train]\n",
    "        #classifier with XGBoost parameters and training it\n",
    "        clf=deepcopy(classifier)\n",
    "        clf.set_params(**params)\n",
    "        %time clf.fit(X_train,y_train,w_train)\n",
    "        \n",
    "        #test metric 1: no reweighting w_test\n",
    "        #test metric 2: reweighting w_test with clip weight 80\n",
    "        h=np.histogram(y_test,weights=w_test,bins=13,range=[-0.5,12.5])\n",
    "        a=1./h[0]\n",
    "        a/=min(a)\n",
    "        rw_test=np.clip(a,0,80)\n",
    "        w_test_rw=w_test*rw_test[y_test]\n",
    "        \n",
    "        #ignoring category 0 from y_true (and hence from X_true and w_true too)\n",
    "        X_test.reset_index(drop=True,inplace=True)\n",
    "        y_test.reset_index(drop=True,inplace=True)\n",
    "        w_test.reset_index(drop=True,inplace=True)\n",
    "        w_test_rw.reset_index(drop=True,inplace=True)\n",
    "        X_test_ignore0=X_test[y_test>0]\n",
    "        y_test_ignore0=y_test[y_test>0]\n",
    "        w_test_ignore0=w_test[y_test>0]\n",
    "        w_test_rw_ignore0=w_test_rw[y_test>0]\n",
    "        #getting predicted y probability, ignoring category 0\n",
    "        y_pred_prob=clf.predict_proba(X_test_ignore0)\n",
    "        y_pred_prob/=rw_train.reshape(1,-1) \n",
    "        y_pred_prob/=np.sum(y_pred_prob,axis=1,keepdims=True)\n",
    "        y_pred_prob_ignore0=np.delete(y_pred_prob,0,axis=1)\n",
    "        y_pred_prob_ignore0/=np.sum(y_pred_prob_ignore0,axis=1,keepdims=True)\n",
    "        #getting sample weight values, ignoring category 0\n",
    "        weight=w_test_ignore0.ravel()\n",
    "        weight_rw=w_test_rw_ignore0.ravel()\n",
    "        \n",
    "        #calculating accuracy score\n",
    "        y_pred_ignore0=np.argmax(y_pred_prob_ignore0,axis=1)+1\n",
    "        y_pred=y_pred_ignore0.ravel()\n",
    "        y_true=y_test_ignore0.ravel()\n",
    "        accu_scores=np.append(accu_scores,accuracy_score(y_true,y_pred,normalize=True,sample_weight=weight))\n",
    "        accu_scores_rw=np.append(accu_scores_rw,accuracy_score(y_true,y_pred,normalize=True,\n",
    "                                                               sample_weight=weight_rw))\n",
    "        \n",
    "        #calculation cross entropy score\n",
    "        enc=OneHotEncoder(handle_unknown='ignore')\n",
    "        y_label=enc.fit_transform(y_test_ignore0.reshape(-1,1)).toarray()\n",
    "        cross_scores=np.append(cross_scores,\n",
    "                               log_loss(y_label,y_pred_prob_ignore0,normalize=True,sample_weight=w_test_ignore0))"
   ]
  },
  {
   "cell_type": "code",
   "execution_count": 18,
   "metadata": {
    "collapsed": false
   },
   "outputs": [
    {
     "name": "stdout",
     "output_type": "stream",
     "text": [
      "Scores ignoring category 0-\n",
      "\n",
      "Parameters:  {'clip_weight': 40, 'learning_rate': 0.1, 'n_estimators': 300, 'subsample': 0.8, 'reg_lambda': 2, 'max_depth': 5}\n",
      "Accuracy with w_test: 0.22734 +/- 0.00205\n",
      "Accuracy with w_test_rw: 0.09792 +/- 0.00055\n",
      "Cross entropy: 2.31641 +/- 0.00211\n",
      "\n",
      "Parameters:  {'clip_weight': 40, 'learning_rate': 0.5, 'n_estimators': 800, 'subsample': 0.8, 'reg_lambda': 1, 'max_depth': 3}\n",
      "Accuracy with w_test: 0.34939 +/- 0.00373\n",
      "Accuracy with w_test_rw: 0.15302 +/- 0.00131\n",
      "Cross entropy: 2.17896 +/- 0.00266\n",
      "\n",
      "Parameters:  {'clip_weight': 60, 'learning_rate': 0.1, 'n_estimators': 800, 'subsample': 1, 'reg_lambda': 0.5, 'max_depth': 10}\n",
      "Accuracy with w_test: 0.41716 +/- 0.00367\n",
      "Accuracy with w_test_rw: 0.19361 +/- 0.00143\n",
      "Cross entropy: 1.89381 +/- 0.00753\n",
      "\n",
      "Parameters:  {'clip_weight': 60, 'learning_rate': 0.5, 'n_estimators': 500, 'subsample': 1, 'reg_lambda': 2, 'max_depth': 7}\n",
      "Accuracy with w_test: 0.46234 +/- 0.00366\n",
      "Accuracy with w_test_rw: 0.24651 +/- 0.00308\n",
      "Cross entropy: 1.80770 +/- 0.00905\n",
      "\n",
      "Parameters:  {'clip_weight': 60, 'learning_rate': 0.5, 'n_estimators': 800, 'subsample': 0.6, 'reg_lambda': 2, 'max_depth': 5}\n",
      "Accuracy with w_test: 0.49874 +/- 0.00436\n",
      "Accuracy with w_test_rw: 0.29257 +/- 0.00446\n",
      "Cross entropy: 1.64839 +/- 0.00988\n",
      "\n",
      "Parameters:  {'clip_weight': 30, 'learning_rate': 0.001, 'n_estimators': 300, 'subsample': 0.8, 'reg_lambda': 0.5, 'max_depth': 10}\n",
      "Accuracy with w_test: 0.50658 +/- 0.00373\n",
      "Accuracy with w_test_rw: 0.31211 +/- 0.00535\n",
      "Cross entropy: 1.51000 +/- 0.00735\n",
      "\n",
      "Parameters:  {'clip_weight': 40, 'learning_rate': 0.5, 'n_estimators': 500, 'subsample': 1, 'reg_lambda': 0.1, 'max_depth': 10}\n",
      "Accuracy with w_test: 0.49622 +/- 0.00444\n",
      "Accuracy with w_test_rw: 0.29625 +/- 0.00362\n",
      "Cross entropy: 1.61821 +/- 0.00920\n",
      "\n",
      "Parameters:  {'clip_weight': 50, 'learning_rate': 0.5, 'n_estimators': 800, 'subsample': 0.6, 'reg_lambda': 0.5, 'max_depth': 7}\n",
      "Accuracy with w_test: 0.22734 +/- 0.00205\n",
      "Accuracy with w_test_rw: 0.09792 +/- 0.00055\n",
      "Cross entropy: 2.30325 +/- 0.00222\n",
      "\n",
      "Parameters:  {'clip_weight': 40, 'learning_rate': 0.5, 'n_estimators': 500, 'subsample': 1, 'reg_lambda': 2, 'max_depth': 10}\n",
      "Accuracy with w_test: 0.22734 +/- 0.00205\n",
      "Accuracy with w_test_rw: 0.09792 +/- 0.00055\n",
      "Cross entropy: 2.21881 +/- 0.00391\n",
      "\n",
      "Parameters:  {'clip_weight': 40, 'learning_rate': 0.001, 'n_estimators': 300, 'subsample': 0.6, 'reg_lambda': 0.1, 'max_depth': 5}\n",
      "Accuracy with w_test: 0.22734 +/- 0.00205\n",
      "Accuracy with w_test_rw: 0.09792 +/- 0.00055\n",
      "Cross entropy: 2.25310 +/- 0.00307\n",
      "\n"
     ]
    }
   ],
   "source": [
    "print \"Scores ignoring category 0-\"\n",
    "print \"\"\n",
    "scores1=np.split(accu_scores,10)\n",
    "scores2=np.split(accu_scores_rw,10)\n",
    "scores3=np.split(cross_scores,10)\n",
    "for i in range (0,len(scores)):\n",
    "    print \"Parameters: \", samples[i]\n",
    "    print \"Accuracy with w_test: %0.5f +/- %0.5f\"%(scores1[i].mean(),scores1[i].std())\n",
    "    print \"Accuracy with w_test_rw: %0.5f +/- %0.5f\"%(scores2[i].mean(),scores2[i].std())\n",
    "    print \"Cross entropy: %0.5f +/- %0.5f\"%(scores3[i].mean(),scores3[i].std())\n",
    "    print \"\""
   ]
  },
  {
   "cell_type": "code",
   "execution_count": 22,
   "metadata": {
    "collapsed": false
   },
   "outputs": [
    {
     "name": "stdout",
     "output_type": "stream",
     "text": [
      "Best estimator:\n",
      "{'clip_weight': 30, 'learning_rate': 0.001, 'n_estimators': 300, 'subsample': 0.8, 'reg_lambda': 0.5, 'max_depth': 10}\n"
     ]
    }
   ],
   "source": [
    "print \"Best estimator:\"\n",
    "print samples[5]"
   ]
  },
  {
   "cell_type": "code",
   "execution_count": null,
   "metadata": {
    "collapsed": true
   },
   "outputs": [],
   "source": []
  }
 ],
 "metadata": {
  "anaconda-cloud": {},
  "kernelspec": {
   "display_name": "Python [conda root]",
   "language": "python",
   "name": "conda-root-py"
  },
  "language_info": {
   "codemirror_mode": {
    "name": "ipython",
    "version": 2
   },
   "file_extension": ".py",
   "mimetype": "text/x-python",
   "name": "python",
   "nbconvert_exporter": "python",
   "pygments_lexer": "ipython2",
   "version": "2.7.12"
  }
 },
 "nbformat": 4,
 "nbformat_minor": 1
}

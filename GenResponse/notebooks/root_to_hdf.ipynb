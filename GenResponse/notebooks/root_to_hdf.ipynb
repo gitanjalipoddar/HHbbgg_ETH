{
 "cells": [
  {
   "cell_type": "code",
   "execution_count": 1,
   "metadata": {
    "collapsed": false
   },
   "outputs": [
    {
     "data": {
      "application/javascript": [
       "require(['codemirror/mode/clike/clike'], function(Clike) { console.log('ROOTaaS - C++ CodeMirror module loaded'); });"
      ]
     },
     "metadata": {},
     "output_type": "display_data"
    },
    {
     "data": {
      "application/javascript": [
       "IPython.CodeCell.config_defaults.highlight_modes['magic_text/x-c++src'] = {'reg':[/^%%cpp/]};"
      ]
     },
     "metadata": {},
     "output_type": "display_data"
    },
    {
     "name": "stdout",
     "output_type": "stream",
     "text": [
      "Welcome to ROOTaaS 6.06/05\n"
     ]
    }
   ],
   "source": [
    "import hhgen.io as io\n",
    "import hhgen.utils as utils\n",
    "import matplotlib.pyplot as plt\n",
    "import numpy as np\n",
    "import skhep.math as skp\n",
    "import pandas as pd"
   ]
  },
  {
   "cell_type": "code",
   "execution_count": 2,
   "metadata": {
    "collapsed": true
   },
   "outputs": [],
   "source": [
    "files = ! ls /t3home/musella/Analysis/HH_8_0_28/src/HHbbgg_ETH/Flashgg/work/gen_analysis/*madgraph.root"
   ]
  },
  {
   "cell_type": "code",
   "execution_count": 3,
   "metadata": {
    "collapsed": true
   },
   "outputs": [],
   "source": [
    "reload(io)\n",
    "def get_data(fname,proc):\n",
    "    tdir = 'genDiphotonDumper/trees'\n",
    "\n",
    "    untagged = tdir+'/'+proc+'_13TeV_NoTag_0'\n",
    "    tagged = tdir+'/'+proc+'_13TeV_DoubleHTag_%d'\n",
    "\n",
    "    return io.read_trees(fname,untagged,tagged,12) "
   ]
  },
  {
   "cell_type": "code",
   "execution_count": 4,
   "metadata": {
    "collapsed": false
   },
   "outputs": [],
   "source": [
    "#hgg=H to 2 photons\n",
    "#hbb=H to 2 b jets\n",
    "#hh=H to 2 Higgs\n",
    "reload(utils)\n",
    "def calc_features(df):\n",
    "    for part in \"leadPho\",\"subleadPho\",\"leadJet\",\"subleadJet\":\n",
    "        utils.calc_p4extra(df,part) #calculating pt, eta, phi, m for each \n",
    "    utils.calc_sump4(df,\"hgg\",\"leadPho\",\"subleadPho\") #calculating pt, eta, phi, m for sum of 2 photons\n",
    "    utils.calc_sump4(df,\"hbb\",\"leadJet\",\"subleadJet\") #calculating pt, eta, phi, m for sum of 2 b jets\n",
    "    utils.calc_sump4(df,\"hh\",\"hbb\",\"hgg\") #calculating pt, eta, phi, m for sum of 2 Higgs\n",
    "    \n",
    "    df[\"mtilda_x\"]=df[\"hh_m\"]-df[\"mgg\"]-df[\"mbb\"]+250.0 \n",
    "    df[\"hgg_pt_hh_m\"]=df[\"hgg_pt\"]/df[\"hh_m\"]\n",
    "    df[\"hbb_pt_hh_m\"]=df[\"hbb_pt\"]/df[\"hh_m\"]\n",
    "    \n",
    "    utils.calc_cos_theta_cs(df) #angle in Collins Sopper frame\n",
    "    utils.calc_cos_theta(df,\"hbb\",\"leadJet\") #helicity angles\n",
    "    utils.calc_cos_theta(df,\"hgg\",\"leadPho\")"
   ]
  },
  {
   "cell_type": "code",
   "execution_count": 5,
   "metadata": {
    "collapsed": false
   },
   "outputs": [],
   "source": [
    "import os\n",
    "\n",
    "dfs = {}\n",
    "for ifil in files:\n",
    "    fname = os.path.basename(ifil) #output_GluGluToHHTo2B2G_node_10_13TeV-madgraph.root\n",
    "    proc = fname.replace(\"output_\",\"\").replace(\".root\",\"\").replace(\"-\",\"_\") #GluGluToHHTo2B2G_node_10_13TeV_madgraph\n",
    "    df = get_data(ifil,proc)\n",
    "    proc = proc.replace(\"GluGluToHHTo2B2G_\",\"\").replace(\"_13TeV_madgraph\",\"\")#node_10\n",
    "    calc_features(df)\n",
    "    dfs[proc] = df"
   ]
  },
  {
   "cell_type": "code",
   "execution_count": 6,
   "metadata": {
    "collapsed": false
   },
   "outputs": [],
   "source": [
    "#hdf: hierarchial data format\n",
    "\n",
    "for proc,df in dfs.items():\n",
    "    df.to_hdf(proc+\".hd5\",proc,mode=\"w\") #mode w: write"
   ]
  },
  {
   "cell_type": "code",
   "execution_count": 7,
   "metadata": {
    "collapsed": false
   },
   "outputs": [],
   "source": [
    "#dfs[\"node_SM\"].columns"
   ]
  },
  {
   "cell_type": "code",
   "execution_count": 8,
   "metadata": {
    "collapsed": false
   },
   "outputs": [],
   "source": [
    "plt.figure(1)\n",
    "dfs[\"node_box\"].hh_m.hist(range=[250,1000],bins=150)\n",
    "plt.ylabel(\"Events\")\n",
    "plt.xlabel(\"hh$_m$ (in GeV/c$^2$)\")\n",
    "#plt.show()\n",
    "plt.savefig(\"hh_m.png\")\n",
    "plt.close()"
   ]
  },
  {
   "cell_type": "code",
   "execution_count": 9,
   "metadata": {
    "collapsed": false
   },
   "outputs": [],
   "source": [
    "plt.figure(2)\n",
    "gbybdtcat=dfs[\"node_box\"].groupby('bdtcat')\n",
    "for icat in range(0,4):\n",
    "    dfc=gbybdtcat.get_group(icat)\n",
    "    dfc.hh_m.hist(range=[250,1000],bins=20,normed=True,histtype=\"step\",label=\"bdtcat %d\" % icat) \n",
    "plt.ylabel(\"Events\")\n",
    "plt.xlabel(\"hh$_m$ (in GeV/c$^2$)\")\n",
    "plt.legend()\n",
    "#plt.show()\n",
    "plt.savefig(\"hh_m_category_bdt.png\")\n",
    "plt.close()"
   ]
  },
  {
   "cell_type": "code",
   "execution_count": 10,
   "metadata": {
    "collapsed": false
   },
   "outputs": [],
   "source": [
    "plt.figure(3)\n",
    "gbymxcat=dfs[\"node_box\"].groupby('mxcat')\n",
    "for icat in range(0,5):\n",
    "    dfc=gbymxcat.get_group(icat)\n",
    "    dfc.hh_m.hist(range=[250,1000],bins=20,normed=True,histtype=\"step\",label=\"mxcat %d\" % icat) \n",
    "plt.ylabel(\"Events\")\n",
    "plt.xlabel(\"hh$_m$ (in GeV/c$^2$)\")\n",
    "plt.legend()\n",
    "#plt.show()\n",
    "plt.savefig(\"hh_m_category_mx.png\")\n",
    "plt.close()"
   ]
  },
  {
   "cell_type": "code",
   "execution_count": 11,
   "metadata": {
    "collapsed": false
   },
   "outputs": [],
   "source": [
    "plt.figure(4)\n",
    "gbycat=dfs[\"node_box\"].groupby('cat')\n",
    "for icat in range(0,5):\n",
    "    dfc=gbycat.get_group(icat)\n",
    "    dfc.hh_m.hist(range=[250,1000],bins=20,normed=True,histtype=\"step\",label=\"cat %d\" % icat) \n",
    "plt.ylabel(\"Events\")\n",
    "plt.xlabel(\"hh$_m$ (in GeV/c$^2$)\")\n",
    "plt.legend()\n",
    "#plt.show()\n",
    "plt.savefig(\"hh_m_category_1-4.png\")\n",
    "plt.close()"
   ]
  },
  {
   "cell_type": "code",
   "execution_count": 12,
   "metadata": {
    "collapsed": false
   },
   "outputs": [],
   "source": [
    "plt.figure(5)\n",
    "gbycat=dfs[\"node_box\"].groupby('cat')\n",
    "dfc=gbycat.get_group(0)\n",
    "dfc.hh_m.hist(range=[250,1000],bins=20,normed=True,histtype=\"step\",label=\"cat %d\" % 0)\n",
    "for icat in range(5,9):\n",
    "    dfc=gbycat.get_group(icat)\n",
    "    dfc.hh_m.hist(range=[250,1000],bins=20,normed=True,histtype=\"step\",label=\"cat %d\" % icat) \n",
    "plt.ylabel(\"Events\")\n",
    "plt.xlabel(\"hh$_m$ (in GeV/c$^2$)\")\n",
    "plt.legend()\n",
    "#plt.show()\n",
    "plt.savefig(\"hh_m_category_5-8.png\")\n",
    "plt.close()"
   ]
  },
  {
   "cell_type": "code",
   "execution_count": 13,
   "metadata": {
    "collapsed": false
   },
   "outputs": [],
   "source": [
    "plt.figure(6)\n",
    "gbycat=dfs[\"node_box\"].groupby('cat')\n",
    "dfc=gbycat.get_group(0)\n",
    "dfc.hh_m.hist(range=[250,1000],bins=20,normed=True,histtype=\"step\",label=\"cat %d\" % 0)\n",
    "for icat in range(9,13):\n",
    "    dfc=gbycat.get_group(icat)\n",
    "    dfc.hh_m.hist(range=[250,1000],bins=20,normed=True,histtype=\"step\",label=\"cat %d\" % icat) \n",
    "plt.ylabel(\"Events\")\n",
    "plt.xlabel(\"hh$_m$ (in GeV/c$^2$)\")\n",
    "plt.legend()\n",
    "#plt.show()\n",
    "plt.savefig(\"hh_m_category_9-12.png\")\n",
    "plt.close()"
   ]
  },
  {
   "cell_type": "code",
   "execution_count": 14,
   "metadata": {
    "collapsed": false
   },
   "outputs": [],
   "source": [
    "plt.figure(6)\n",
    "dfs[\"node_box\"].hh_pt.hist(range=[250,1000],bins=150)\n",
    "plt.ylabel(\"Events\")\n",
    "plt.xlabel(\"hh$_{pT}$ (in GeV/c)\")\n",
    "#plt.show()\n",
    "plt.savefig(\"hh_pt.png\")\n",
    "plt.close()"
   ]
  },
  {
   "cell_type": "code",
   "execution_count": 15,
   "metadata": {
    "collapsed": false
   },
   "outputs": [],
   "source": [
    "plt.figure(8)\n",
    "gbybdtcat=dfs[\"node_box\"].groupby('bdtcat')\n",
    "for icat in range(0,4):\n",
    "    dfc=gbybdtcat.get_group(icat)\n",
    "    dfc.hh_pt.hist(range=[250,1000],bins=20,normed=True,histtype=\"step\",label=\"bdtcat %d\" % icat) \n",
    "plt.ylabel(\"Events\")\n",
    "plt.xlabel(\"hh$_{pT}$ (in GeV/c)\")\n",
    "plt.legend()\n",
    "#plt.show()\n",
    "plt.savefig(\"hh_pt_category_bdt.png\")\n",
    "plt.close()"
   ]
  },
  {
   "cell_type": "code",
   "execution_count": 16,
   "metadata": {
    "collapsed": false
   },
   "outputs": [],
   "source": [
    "plt.figure(9)\n",
    "gbymxcat=dfs[\"node_box\"].groupby('mxcat')\n",
    "for icat in range(0,5):\n",
    "    dfc=gbymxcat.get_group(icat)\n",
    "    dfc.hh_pt.hist(range=[250,1000],bins=20,normed=True,histtype=\"step\",label=\"mxcat %d\" % icat) \n",
    "plt.ylabel(\"Events\")\n",
    "plt.xlabel(\"hh$_{pT}$ (in GeV/c)\")\n",
    "plt.legend()\n",
    "#plt.show()\n",
    "plt.savefig(\"hh_pt_category_mx.png\")\n",
    "plt.close()"
   ]
  },
  {
   "cell_type": "code",
   "execution_count": 17,
   "metadata": {
    "collapsed": false
   },
   "outputs": [],
   "source": [
    "plt.figure(10)\n",
    "gbycat=dfs[\"node_box\"].groupby('cat')\n",
    "for icat in range(0,5):\n",
    "    dfc=gbycat.get_group(icat)\n",
    "    dfc.hh_pt.hist(range=[250,1000],bins=20,normed=True,histtype=\"step\",label=\"cat %d\" % icat) \n",
    "plt.ylabel(\"Events\")\n",
    "plt.xlabel(\"hh$_{pT}$ (in GeV/c)\")\n",
    "plt.legend()\n",
    "#plt.show()\n",
    "plt.savefig(\"hh_pt_category_1-4.png\")\n",
    "plt.close()"
   ]
  },
  {
   "cell_type": "code",
   "execution_count": 18,
   "metadata": {
    "collapsed": false
   },
   "outputs": [],
   "source": [
    "plt.figure(11)\n",
    "gbycat=dfs[\"node_box\"].groupby('cat')\n",
    "dfc=gbycat.get_group(0)\n",
    "dfc.hh_pt.hist(range=[250,1000],bins=20,normed=True,histtype=\"step\",label=\"cat %d\" % 0)\n",
    "for icat in range(5,9):\n",
    "    dfc=gbycat.get_group(icat)\n",
    "    dfc.hh_pt.hist(range=[250,1000],bins=20,normed=True,histtype=\"step\",label=\"cat %d\" % icat) \n",
    "plt.ylabel(\"Events\")\n",
    "plt.xlabel(\"hh$_{pT}$ (in GeV/c)\")\n",
    "plt.legend()\n",
    "#plt.show()\n",
    "plt.savefig(\"hh_pt_category_5-8.png\")\n",
    "plt.close()"
   ]
  },
  {
   "cell_type": "code",
   "execution_count": 19,
   "metadata": {
    "collapsed": false
   },
   "outputs": [],
   "source": [
    "plt.figure(12)\n",
    "gbycat=dfs[\"node_box\"].groupby('cat')\n",
    "dfc=gbycat.get_group(0)\n",
    "dfc.hh_pt.hist(range=[250,1000],bins=20,normed=True,histtype=\"step\",label=\"cat %d\" % 0)\n",
    "for icat in range(9,13):\n",
    "    dfc=gbycat.get_group(icat)\n",
    "    dfc.hh_pt.hist(range=[250,1000],bins=20,normed=True,histtype=\"step\",label=\"cat %d\" % icat) \n",
    "plt.ylabel(\"Events\")\n",
    "plt.xlabel(\"hh$_{pT}$ (in GeV/c)\")\n",
    "plt.legend()\n",
    "#plt.show()\n",
    "plt.savefig(\"hh_pt_category_9-12.png\")\n",
    "plt.close()"
   ]
  },
  {
   "cell_type": "code",
   "execution_count": 20,
   "metadata": {
    "collapsed": false
   },
   "outputs": [],
   "source": [
    "plt.figure(13)\n",
    "dfs[\"node_box\"].hh_eta.hist(range=[-5,5],bins=150)\n",
    "plt.ylabel(\"Events\")\n",
    "plt.xlabel(\"$hh_{\\eta}$\")\n",
    "#plt.show()\n",
    "plt.savefig(\"hh_eta.png\")\n",
    "plt.close()"
   ]
  },
  {
   "cell_type": "code",
   "execution_count": 21,
   "metadata": {
    "collapsed": false
   },
   "outputs": [],
   "source": [
    "plt.figure(14)\n",
    "gbybdtcat=dfs[\"node_box\"].groupby('bdtcat')\n",
    "for icat in range(0,4):\n",
    "    dfc=gbybdtcat.get_group(icat)\n",
    "    dfc.hh_eta.hist(range=[-5,5],bins=20,normed=True,histtype=\"step\",label=\"bdtcat %d\" % icat) \n",
    "plt.ylabel(\"Events\")\n",
    "plt.xlabel(\"$hh_{\\eta}$\")\n",
    "plt.legend()\n",
    "#plt.show()\n",
    "plt.savefig(\"hh_eta_category_bdt.png\")\n",
    "plt.close()"
   ]
  },
  {
   "cell_type": "code",
   "execution_count": 22,
   "metadata": {
    "collapsed": false
   },
   "outputs": [],
   "source": [
    "plt.figure(15)\n",
    "gbymxcat=dfs[\"node_box\"].groupby('mxcat')\n",
    "for icat in range(0,5):\n",
    "    dfc=gbymxcat.get_group(icat)\n",
    "    dfc.hh_eta.hist(range=[-5,5],bins=20,normed=True,histtype=\"step\",label=\"mxcat %d\" % icat) \n",
    "plt.ylabel(\"Events\")\n",
    "plt.xlabel(\"$hh_{\\eta}$\")\n",
    "plt.legend()\n",
    "#plt.show()\n",
    "plt.savefig(\"hh_eta_category_mx.png\")\n",
    "plt.close()"
   ]
  },
  {
   "cell_type": "code",
   "execution_count": 23,
   "metadata": {
    "collapsed": false
   },
   "outputs": [],
   "source": [
    "plt.figure(16)\n",
    "gbycat=dfs[\"node_box\"].groupby('cat')\n",
    "for icat in range(0,5):\n",
    "    dfc=gbycat.get_group(icat)\n",
    "    dfc.hh_eta.hist(range=[-5,5],bins=20,normed=True,histtype=\"step\",label=\"cat %d\" % icat) \n",
    "plt.ylabel(\"Events\")\n",
    "plt.xlabel(\"$hh_{\\eta}$\")\n",
    "plt.legend()\n",
    "#plt.show()\n",
    "plt.savefig(\"hh_eta_category_1-4.png\")\n",
    "plt.close()"
   ]
  },
  {
   "cell_type": "code",
   "execution_count": 24,
   "metadata": {
    "collapsed": false
   },
   "outputs": [],
   "source": [
    "plt.figure(17)\n",
    "gbycat=dfs[\"node_box\"].groupby('cat')\n",
    "dfc=gbycat.get_group(0)\n",
    "dfc.hh_eta.hist(range=[-5,5],bins=20,normed=True,histtype=\"step\",label=\"cat %d\" % 0)\n",
    "for icat in range(5,9):\n",
    "    dfc=gbycat.get_group(icat)\n",
    "    dfc.hh_eta.hist(range=[-5,5],bins=20,normed=True,histtype=\"step\",label=\"cat %d\" % icat) \n",
    "plt.ylabel(\"Events\")\n",
    "plt.xlabel(\"$hh_{\\eta}$\")\n",
    "plt.legend()\n",
    "#plt.show()\n",
    "plt.savefig(\"hh_eta_category_5-8.png\")\n",
    "plt.close()"
   ]
  },
  {
   "cell_type": "code",
   "execution_count": 25,
   "metadata": {
    "collapsed": false
   },
   "outputs": [],
   "source": [
    "plt.figure(18)\n",
    "gbycat=dfs[\"node_box\"].groupby('cat')\n",
    "dfc=gbycat.get_group(0)\n",
    "dfc.hh_eta.hist(range=[-5,5],bins=20,normed=True,histtype=\"step\",label=\"cat %d\" % 0)\n",
    "for icat in range(9,13):\n",
    "    dfc=gbycat.get_group(icat)\n",
    "    dfc.hh_eta.hist(range=[-5,5],bins=20,normed=True,histtype=\"step\",label=\"cat %d\" % icat) \n",
    "plt.ylabel(\"Events\")\n",
    "plt.xlabel(\"$hh_{\\eta}$\")\n",
    "plt.legend()\n",
    "#plt.show()\n",
    "plt.savefig(\"hh_eta_category_9-12.png\")\n",
    "plt.close()"
   ]
  },
  {
   "cell_type": "code",
   "execution_count": 26,
   "metadata": {
    "collapsed": false
   },
   "outputs": [],
   "source": [
    "plt.figure(19)\n",
    "dfs[\"node_box\"].mtilda_x.hist(range=[250,1000],bins=150)\n",
    "plt.ylabel(\"Events\")\n",
    "plt.xlabel(\"$\\~{m}_X$ (in GeV/c$^2$)\")\n",
    "#plt.show()\n",
    "plt.savefig(\"hh_mtilda_x.png\")\n",
    "plt.close()"
   ]
  },
  {
   "cell_type": "code",
   "execution_count": 27,
   "metadata": {
    "collapsed": false
   },
   "outputs": [],
   "source": [
    "plt.figure(20)\n",
    "gbybdtcat=dfs[\"node_box\"].groupby('bdtcat')\n",
    "for icat in range(0,4):\n",
    "    dfc=gbybdtcat.get_group(icat)\n",
    "    dfc.mtilda_x.hist(range=[250,1000],bins=20,normed=True,histtype=\"step\",label=\"bdtcat %d\" % icat) \n",
    "plt.ylabel(\"Events\")\n",
    "plt.xlabel(\"$\\~{m}_X$ (in GeV/c$^2$)\")\n",
    "plt.legend()\n",
    "#plt.show()\n",
    "plt.savefig(\"hh_mtilda_x_category_bdt.png\")\n",
    "plt.close()"
   ]
  },
  {
   "cell_type": "code",
   "execution_count": 28,
   "metadata": {
    "collapsed": false
   },
   "outputs": [],
   "source": [
    "plt.figure(21)\n",
    "gbymxcat=dfs[\"node_box\"].groupby('mxcat')\n",
    "for icat in range(0,5):\n",
    "    dfc=gbymxcat.get_group(icat)\n",
    "    dfc.mtilda_x.hist(range=[250,1000],bins=20,normed=True,histtype=\"step\",label=\"mxcat %d\" % icat) \n",
    "plt.ylabel(\"Events\")\n",
    "plt.xlabel(\"$\\~{m}_X$ (in GeV/c$^2$)\")\n",
    "plt.legend()\n",
    "#plt.show()\n",
    "plt.savefig(\"hh_mtilda_x_category_mx.png\")\n",
    "plt.close()"
   ]
  },
  {
   "cell_type": "code",
   "execution_count": 29,
   "metadata": {
    "collapsed": false
   },
   "outputs": [],
   "source": [
    "plt.figure(22)\n",
    "gbycat=dfs[\"node_box\"].groupby('cat')\n",
    "for icat in range(0,5):\n",
    "    dfc=gbycat.get_group(icat)\n",
    "    dfc.mtilda_x.hist(range=[250,1000],bins=20,normed=True,histtype=\"step\",label=\"cat %d\" % icat) \n",
    "plt.ylabel(\"Events\")\n",
    "plt.xlabel(\"$\\~{m}_X$ (in GeV/c$^2$)\")\n",
    "plt.legend()\n",
    "#plt.show()\n",
    "plt.savefig(\"hh_mtilda_x_category_1-4.png\")\n",
    "plt.close()"
   ]
  },
  {
   "cell_type": "code",
   "execution_count": 30,
   "metadata": {
    "collapsed": false
   },
   "outputs": [],
   "source": [
    "plt.figure(23)\n",
    "gbycat=dfs[\"node_box\"].groupby('cat')\n",
    "dfc=gbycat.get_group(0)\n",
    "dfc.mtilda_x.hist(range=[250,1000],bins=20,normed=True,histtype=\"step\",label=\"cat %d\" % 0)\n",
    "for icat in range(5,9):\n",
    "    dfc=gbycat.get_group(icat)\n",
    "    dfc.mtilda_x.hist(range=[250,1000],bins=20,normed=True,histtype=\"step\",label=\"cat %d\" % icat) \n",
    "plt.ylabel(\"Events\")\n",
    "plt.xlabel(\"$\\~{m}_X$ (in GeV/c$^2$)\")\n",
    "plt.legend()\n",
    "#plt.show()\n",
    "plt.savefig(\"hh_mtilda_x_category_5-8.png\")\n",
    "plt.close()"
   ]
  },
  {
   "cell_type": "code",
   "execution_count": 31,
   "metadata": {
    "collapsed": false
   },
   "outputs": [],
   "source": [
    "plt.figure(24)\n",
    "gbycat=dfs[\"node_box\"].groupby('cat')\n",
    "dfc=gbycat.get_group(0)\n",
    "dfc.mtilda_x.hist(range=[250,1000],bins=20,normed=True,histtype=\"step\",label=\"cat %d\" % 0)\n",
    "for icat in range(9,13):\n",
    "    dfc=gbycat.get_group(icat)\n",
    "    dfc.mtilda_x.hist(range=[250,1000],bins=20,normed=True,histtype=\"step\",label=\"cat %d\" % icat) \n",
    "plt.ylabel(\"Events\")\n",
    "plt.xlabel(\"$\\~{m}_X$ (in GeV/c$^2$)\")\n",
    "plt.legend()\n",
    "#plt.show()\n",
    "plt.savefig(\"hh_mtilda_x_category_9-12.png\")\n",
    "plt.close()"
   ]
  },
  {
   "cell_type": "code",
   "execution_count": 32,
   "metadata": {
    "collapsed": false
   },
   "outputs": [],
   "source": [
    "plt.figure(25)\n",
    "dfs[\"node_box\"].hgg_pt_hh_m.hist(range=[0,1],bins=150)\n",
    "plt.ylabel(\"Events\")\n",
    "plt.xlabel(\"pT($\\gamma\\gamma$)/M(jj$\\gamma\\gamma$) (in c)\")\n",
    "#plt.show()\n",
    "plt.savefig(\"hgg_pt_hh_m.png\")\n",
    "plt.close()"
   ]
  },
  {
   "cell_type": "code",
   "execution_count": 33,
   "metadata": {
    "collapsed": false
   },
   "outputs": [],
   "source": [
    "plt.figure(26)\n",
    "gbybdtcat=dfs[\"node_box\"].groupby('bdtcat')\n",
    "for icat in range(0,4):\n",
    "    dfc=gbybdtcat.get_group(icat)\n",
    "    dfc.hgg_pt_hh_m.hist(range=[0,1],bins=20,normed=True,histtype=\"step\",label=\"bdtcat %d\" % icat) \n",
    "plt.ylabel(\"Events\")\n",
    "plt.xlabel(\"pT($\\gamma\\gamma$)/M(jj$\\gamma\\gamma$) (in c)\")\n",
    "plt.legend()\n",
    "#plt.show()\n",
    "plt.savefig(\"hgg_pt_hh_m_category_bdt.png\")\n",
    "plt.close()"
   ]
  },
  {
   "cell_type": "code",
   "execution_count": 34,
   "metadata": {
    "collapsed": false
   },
   "outputs": [],
   "source": [
    "plt.figure(27)\n",
    "gbymxcat=dfs[\"node_box\"].groupby('mxcat')\n",
    "for icat in range(0,5):\n",
    "    dfc=gbymxcat.get_group(icat)\n",
    "    dfc.hgg_pt_hh_m.hist(range=[0,1],bins=20,normed=True,histtype=\"step\",label=\"mxcat %d\" % icat) \n",
    "plt.ylabel(\"Events\")\n",
    "plt.xlabel(\"pT($\\gamma\\gamma$)/M(jj$\\gamma\\gamma$) (in c)\")\n",
    "plt.legend()\n",
    "#plt.show()\n",
    "plt.savefig(\"hgg_pt_hh_m_category_mx.png\")\n",
    "plt.close()"
   ]
  },
  {
   "cell_type": "code",
   "execution_count": 35,
   "metadata": {
    "collapsed": false
   },
   "outputs": [],
   "source": [
    "plt.figure(28)\n",
    "gbycat=dfs[\"node_box\"].groupby('cat')\n",
    "for icat in range(0,5):\n",
    "    dfc=gbycat.get_group(icat)\n",
    "    dfc.hgg_pt_hh_m.hist(range=[0,1],bins=20,normed=True,histtype=\"step\",label=\"cat %d\" % icat) \n",
    "plt.ylabel(\"Events\")\n",
    "plt.xlabel(\"pT($\\gamma\\gamma$)/M(jj$\\gamma\\gamma$) (in c)\")\n",
    "plt.legend()\n",
    "#plt.show()\n",
    "plt.savefig(\"hgg_pt_hh_m_category_1-4.png\")\n",
    "plt.close()"
   ]
  },
  {
   "cell_type": "code",
   "execution_count": 36,
   "metadata": {
    "collapsed": false
   },
   "outputs": [],
   "source": [
    "plt.figure(29)\n",
    "gbycat=dfs[\"node_box\"].groupby('cat')\n",
    "dfc=gbycat.get_group(0)\n",
    "dfc.hgg_pt_hh_m.hist(range=[0,1],bins=20,normed=True,histtype=\"step\",label=\"cat %d\" % 0)\n",
    "for icat in range(5,9):\n",
    "    dfc=gbycat.get_group(icat)\n",
    "    dfc.hgg_pt_hh_m.hist(range=[0,1],bins=20,normed=True,histtype=\"step\",label=\"cat %d\" % icat) \n",
    "plt.ylabel(\"Events\")\n",
    "plt.xlabel(\"pT($\\gamma\\gamma$)/M(jj$\\gamma\\gamma$) (in c)\")\n",
    "plt.legend()\n",
    "#plt.show()\n",
    "plt.savefig(\"hgg_pt_hh_m_category_5-8.png\")\n",
    "plt.close()"
   ]
  },
  {
   "cell_type": "code",
   "execution_count": 37,
   "metadata": {
    "collapsed": false
   },
   "outputs": [],
   "source": [
    "plt.figure(30)\n",
    "gbycat=dfs[\"node_box\"].groupby('cat')\n",
    "dfc=gbycat.get_group(0)\n",
    "dfc.hgg_pt_hh_m.hist(range=[0,1],bins=20,normed=True,histtype=\"step\",label=\"cat %d\" % 0)\n",
    "for icat in range(9,13):\n",
    "    dfc=gbycat.get_group(icat)\n",
    "    dfc.hgg_pt_hh_m.hist(range=[0,1],bins=20,normed=True,histtype=\"step\",label=\"cat %d\" % icat) \n",
    "plt.ylabel(\"Events\")\n",
    "plt.xlabel(\"pT($\\gamma\\gamma$)/M(jj$\\gamma\\gamma$) (in c)\")\n",
    "plt.legend()\n",
    "#plt.show()\n",
    "plt.savefig(\"hgg_pt_hh_m_category_9-12.png\")\n",
    "plt.close()"
   ]
  },
  {
   "cell_type": "code",
   "execution_count": 38,
   "metadata": {
    "collapsed": false
   },
   "outputs": [],
   "source": [
    "plt.figure(31)\n",
    "dfs[\"node_box\"].hbb_pt_hh_m.hist(range=[0,1],bins=150)\n",
    "plt.ylabel(\"Events\")\n",
    "plt.xlabel(\"pT(jj)/M(jj$\\gamma\\gamma$) (in c)\")\n",
    "#plt.show()\n",
    "plt.savefig(\"hbb_pt_hh_m.png\")\n",
    "plt.close()"
   ]
  },
  {
   "cell_type": "code",
   "execution_count": 39,
   "metadata": {
    "collapsed": false
   },
   "outputs": [],
   "source": [
    "plt.figure(32)\n",
    "gbybdtcat=dfs[\"node_box\"].groupby('bdtcat')\n",
    "for icat in range(0,4):\n",
    "    dfc=gbybdtcat.get_group(icat)\n",
    "    dfc.hbb_pt_hh_m.hist(range=[0,1],bins=20,normed=True,histtype=\"step\",label=\"bdtcat %d\" % icat) \n",
    "plt.ylabel(\"Events\")\n",
    "plt.xlabel(\"pT(jj)/M(jj$\\gamma\\gamma$) (in c)\")\n",
    "plt.legend()\n",
    "#plt.show()\n",
    "plt.savefig(\"hbb_pt_hh_m_category_bdt.png\")\n",
    "plt.close()"
   ]
  },
  {
   "cell_type": "code",
   "execution_count": 40,
   "metadata": {
    "collapsed": false
   },
   "outputs": [],
   "source": [
    "plt.figure(33)\n",
    "gbymxcat=dfs[\"node_box\"].groupby('mxcat')\n",
    "for icat in range(0,5):\n",
    "    dfc=gbymxcat.get_group(icat)\n",
    "    dfc.hbb_pt_hh_m.hist(range=[0,1],bins=20,normed=True,histtype=\"step\",label=\"mxcat %d\" % icat) \n",
    "plt.ylabel(\"Events\")\n",
    "plt.xlabel(\"pT(jj)/M(jj$\\gamma\\gamma$) (in c)\")\n",
    "plt.legend()\n",
    "#plt.show()\n",
    "plt.savefig(\"hbb_pt_hh_m_category_mx.png\")\n",
    "plt.close()"
   ]
  },
  {
   "cell_type": "code",
   "execution_count": 41,
   "metadata": {
    "collapsed": false
   },
   "outputs": [],
   "source": [
    "plt.figure(34)\n",
    "gbycat=dfs[\"node_box\"].groupby('cat')\n",
    "for icat in range(0,5):\n",
    "    dfc=gbycat.get_group(icat)\n",
    "    dfc.hbb_pt_hh_m.hist(range=[0,1],bins=20,normed=True,histtype=\"step\",label=\"cat %d\" % icat) \n",
    "plt.ylabel(\"Events\")\n",
    "plt.xlabel(\"pT(jj)/M(jj$\\gamma\\gamma$) (in c)\")\n",
    "plt.legend()\n",
    "#plt.show()\n",
    "plt.savefig(\"hbb_pt_hh_m_category_1-4.png\")\n",
    "plt.close()"
   ]
  },
  {
   "cell_type": "code",
   "execution_count": 42,
   "metadata": {
    "collapsed": false
   },
   "outputs": [],
   "source": [
    "plt.figure(35)\n",
    "gbycat=dfs[\"node_box\"].groupby('cat')\n",
    "dfc=gbycat.get_group(0)\n",
    "dfc.hbb_pt_hh_m.hist(range=[0,1],bins=20,normed=True,histtype=\"step\",label=\"cat %d\" % 0)\n",
    "for icat in range(5,9):\n",
    "    dfc=gbycat.get_group(icat)\n",
    "    dfc.hbb_pt_hh_m.hist(range=[0,1],bins=20,normed=True,histtype=\"step\",label=\"cat %d\" % icat) \n",
    "plt.ylabel(\"Events\")\n",
    "plt.xlabel(\"pT(jj)/M(jj$\\gamma\\gamma$) (in c)\")\n",
    "plt.legend()\n",
    "#plt.show()\n",
    "plt.savefig(\"hbb_pt_hh_m_category_5-8.png\")\n",
    "plt.close()"
   ]
  },
  {
   "cell_type": "code",
   "execution_count": 43,
   "metadata": {
    "collapsed": false
   },
   "outputs": [],
   "source": [
    "plt.figure(36)\n",
    "gbycat=dfs[\"node_box\"].groupby('cat')\n",
    "dfc=gbycat.get_group(0)\n",
    "dfc.hbb_pt_hh_m.hist(range=[0,1],bins=20,normed=True,histtype=\"step\",label=\"cat %d\" % 0)\n",
    "for icat in range(9,13):\n",
    "    dfc=gbycat.get_group(icat)\n",
    "    dfc.hbb_pt_hh_m.hist(range=[0,1],bins=20,normed=True,histtype=\"step\",label=\"cat %d\" % icat) \n",
    "plt.ylabel(\"Events\")\n",
    "plt.xlabel(\"pT(jj)/M(jj$\\gamma\\gamma$) (in c)\")\n",
    "plt.legend()\n",
    "#plt.show()\n",
    "plt.savefig(\"hbb_pt_hh_m_category_9-12.png\")\n",
    "plt.close()"
   ]
  },
  {
   "cell_type": "code",
   "execution_count": 44,
   "metadata": {
    "collapsed": false
   },
   "outputs": [],
   "source": [
    "plt.figure(37)\n",
    "np.abs(dfs[\"node_SM\"].cos_theta_cs).hist(bins=150)\n",
    "plt.ylabel(\"Events\")\n",
    "plt.xlabel(\"|cos$\\Theta_{CS}^*$|\")\n",
    "#plt.show()\n",
    "plt.savefig(\"cos_theta_cs.png\")\n",
    "plt.close()"
   ]
  },
  {
   "cell_type": "code",
   "execution_count": 45,
   "metadata": {
    "collapsed": false
   },
   "outputs": [],
   "source": [
    "plt.figure(38)\n",
    "gbybdtcat=dfs[\"node_SM\"].groupby('bdtcat')\n",
    "for icat in range(0,4):\n",
    "    dfc=gbybdtcat.get_group(icat)\n",
    "    np.abs(dfc.cos_theta_cs).hist(bins=20,normed=True,histtype=\"step\",label=\"bdtcat %d\" % icat) \n",
    "plt.ylabel(\"Events\")\n",
    "plt.xlabel(\"|cos$\\Theta_{CS}^*$|\")\n",
    "plt.legend()\n",
    "#plt.show()\n",
    "plt.savefig(\"cos_theta_cs_category_bdt.png\")\n",
    "plt.close()"
   ]
  },
  {
   "cell_type": "code",
   "execution_count": 46,
   "metadata": {
    "collapsed": false
   },
   "outputs": [],
   "source": [
    "plt.figure(39)\n",
    "gbymxcat=dfs[\"node_SM\"].groupby('mxcat')\n",
    "for icat in range(0,5):\n",
    "    dfc=gbymxcat.get_group(icat)\n",
    "    np.abs(dfc.cos_theta_cs).hist(bins=20,normed=True,histtype=\"step\",label=\"mxcat %d\" % icat) \n",
    "plt.ylabel(\"Events\")\n",
    "plt.xlabel(\"|cos$\\Theta_{CS}^*$|\")\n",
    "plt.legend()\n",
    "#plt.show()\n",
    "plt.savefig(\"cos_theta_cs_category_mx.png\")\n",
    "plt.close()"
   ]
  },
  {
   "cell_type": "code",
   "execution_count": 47,
   "metadata": {
    "collapsed": false
   },
   "outputs": [],
   "source": [
    "plt.figure(40)\n",
    "gbycat=dfs[\"node_SM\"].groupby('cat')\n",
    "for icat in range(0,5):\n",
    "    dfc=gbycat.get_group(icat)\n",
    "    np.abs(dfc.cos_theta_cs).hist(bins=20,normed=True,histtype=\"step\",label=\"cat %d\" % icat) \n",
    "plt.ylabel(\"Events\")\n",
    "plt.xlabel(\"|cos$\\Theta_{CS}^*$|\")\n",
    "plt.legend()\n",
    "#plt.show()\n",
    "plt.savefig(\"cos_theta_cs_category_1-4.png\")\n",
    "plt.close()"
   ]
  },
  {
   "cell_type": "code",
   "execution_count": 48,
   "metadata": {
    "collapsed": false
   },
   "outputs": [],
   "source": [
    "plt.figure(41)\n",
    "gbycat=dfs[\"node_SM\"].groupby('cat')\n",
    "dfc=gbycat.get_group(0)\n",
    "np.abs(dfc.cos_theta_cs).hist(bins=20,normed=True,histtype=\"step\",label=\"cat %d\" % 0)\n",
    "for icat in range(5,9):\n",
    "    dfc=gbycat.get_group(icat)\n",
    "    np.abs(dfc.cos_theta_cs).hist(bins=20,normed=True,histtype=\"step\",label=\"cat %d\" % icat) \n",
    "plt.ylabel(\"Events\")\n",
    "plt.xlabel(\"|cos$\\Theta_{CS}^*$|\")\n",
    "plt.legend()\n",
    "#plt.show()\n",
    "plt.savefig(\"cos_theta_cs_category_5-8.png\")\n",
    "plt.close()"
   ]
  },
  {
   "cell_type": "code",
   "execution_count": 49,
   "metadata": {
    "collapsed": false
   },
   "outputs": [],
   "source": [
    "plt.figure(42)\n",
    "gbycat=dfs[\"node_SM\"].groupby('cat')\n",
    "dfc=gbycat.get_group(0)\n",
    "np.abs(dfc.cos_theta_cs).hist(bins=20,normed=True,histtype=\"step\",label=\"cat %d\" % 0)\n",
    "for icat in range(9,13):\n",
    "    dfc=gbycat.get_group(icat)\n",
    "    np.abs(dfc.cos_theta_cs).hist(bins=20,normed=True,histtype=\"step\",label=\"cat %d\" % icat) \n",
    "plt.ylabel(\"Events\")\n",
    "plt.xlabel(\"|cos$\\Theta_{CS}^*$|\")\n",
    "plt.legend()\n",
    "#plt.show()\n",
    "plt.savefig(\"cos_theta_cs_category_9-12.png\")\n",
    "plt.close()"
   ]
  },
  {
   "cell_type": "code",
   "execution_count": 50,
   "metadata": {
    "collapsed": false
   },
   "outputs": [],
   "source": [
    "plt.figure(43)\n",
    "np.abs(dfs[\"node_box\"].cos_theta_hbb).hist(bins=150)\n",
    "plt.ylabel(\"Events\")\n",
    "plt.xlabel(\"|cos$\\Theta_{bb}^*$|\")\n",
    "#plt.show()\n",
    "plt.savefig(\"cos_theta_bb.png\")\n",
    "plt.close()"
   ]
  },
  {
   "cell_type": "code",
   "execution_count": 51,
   "metadata": {
    "collapsed": false
   },
   "outputs": [],
   "source": [
    "plt.figure(44)\n",
    "gbybdtcat=dfs[\"node_box\"].groupby('bdtcat')\n",
    "for icat in range(0,4):\n",
    "    dfc=gbybdtcat.get_group(icat)\n",
    "    np.abs(dfc.cos_theta_hbb).hist(bins=20,normed=True,histtype=\"step\",label=\"bdtcat %d\" % icat) \n",
    "plt.ylabel(\"Events\")\n",
    "plt.xlabel(\"|cos$\\Theta_{bb}^*$|\")\n",
    "plt.legend()\n",
    "#plt.show()\n",
    "plt.savefig(\"cos_theta_bb_category_bdt.png\")\n",
    "plt.close()"
   ]
  },
  {
   "cell_type": "code",
   "execution_count": 52,
   "metadata": {
    "collapsed": false
   },
   "outputs": [],
   "source": [
    "plt.figure(45)\n",
    "gbymxcat=dfs[\"node_box\"].groupby('mxcat')\n",
    "for icat in range(0,5):\n",
    "    dfc=gbymxcat.get_group(icat)\n",
    "    np.abs(dfc.cos_theta_hbb).hist(bins=20,normed=True,histtype=\"step\",label=\"mxcat %d\" % icat) \n",
    "plt.ylabel(\"Events\")\n",
    "plt.xlabel(\"|cos$\\Theta_{bb}^*$|\")\n",
    "plt.legend()\n",
    "#plt.show()\n",
    "plt.savefig(\"cos_theta_bb_category_mx.png\")\n",
    "plt.close()"
   ]
  },
  {
   "cell_type": "code",
   "execution_count": 53,
   "metadata": {
    "collapsed": false
   },
   "outputs": [],
   "source": [
    "plt.figure(46)\n",
    "gbycat=dfs[\"node_box\"].groupby('cat')\n",
    "for icat in range(0,5):\n",
    "    dfc=gbycat.get_group(icat)\n",
    "    np.abs(dfc.cos_theta_hbb).hist(bins=20,normed=True,histtype=\"step\",label=\"cat %d\" % icat) \n",
    "plt.ylabel(\"Events\")\n",
    "plt.xlabel(\"|cos$\\Theta_{bb}^*$|\")\n",
    "plt.legend()\n",
    "#plt.show()\n",
    "plt.savefig(\"cos_theta_bb_category_1-4.png\")\n",
    "plt.close()"
   ]
  },
  {
   "cell_type": "code",
   "execution_count": 54,
   "metadata": {
    "collapsed": false
   },
   "outputs": [],
   "source": [
    "plt.figure(47)\n",
    "gbycat=dfs[\"node_box\"].groupby('cat')\n",
    "dfc=gbycat.get_group(0)\n",
    "np.abs(dfc.cos_theta_hbb).hist(bins=20,normed=True,histtype=\"step\",label=\"cat %d\" % 0) \n",
    "for icat in range(5,9):\n",
    "    dfc=gbycat.get_group(icat)\n",
    "    np.abs(dfc.cos_theta_hbb).hist(bins=20,normed=True,histtype=\"step\",label=\"cat %d\" % icat) \n",
    "plt.ylabel(\"Events\")\n",
    "plt.xlabel(\"|cos$\\Theta_{bb}^*$|\")\n",
    "plt.legend()\n",
    "#plt.show()\n",
    "plt.savefig(\"cos_theta_bb_category_5-8.png\")\n",
    "plt.close()"
   ]
  },
  {
   "cell_type": "code",
   "execution_count": 55,
   "metadata": {
    "collapsed": false
   },
   "outputs": [],
   "source": [
    "plt.figure(48)\n",
    "gbycat=dfs[\"node_box\"].groupby('cat')\n",
    "dfc=gbycat.get_group(0)\n",
    "np.abs(dfc.cos_theta_hbb).hist(bins=20,normed=True,histtype=\"step\",label=\"cat %d\" % 0) \n",
    "for icat in range(9,13):\n",
    "    dfc=gbycat.get_group(icat)\n",
    "    np.abs(dfc.cos_theta_hbb).hist(bins=20,normed=True,histtype=\"step\",label=\"cat %d\" % icat) \n",
    "plt.ylabel(\"Events\")\n",
    "plt.xlabel(\"|cos$\\Theta_{bb}^*$|\")\n",
    "plt.legend()\n",
    "#plt.show()\n",
    "plt.savefig(\"cos_theta_bb_category_9-12.png\")\n",
    "plt.close()"
   ]
  },
  {
   "cell_type": "code",
   "execution_count": 56,
   "metadata": {
    "collapsed": false
   },
   "outputs": [],
   "source": [
    "plt.figure(49)\n",
    "np.abs(dfs[\"node_box\"].cos_theta_hgg).hist(bins=150)\n",
    "plt.ylabel(\"Events\")\n",
    "plt.xlabel(\"|cos$\\Theta_{\\gamma\\gamma}^*$|\")\n",
    "#plt.show()\n",
    "plt.savefig(\"cos_theta_gg.png\")\n",
    "plt.close()"
   ]
  },
  {
   "cell_type": "code",
   "execution_count": 57,
   "metadata": {
    "collapsed": false
   },
   "outputs": [],
   "source": [
    "plt.figure(50)\n",
    "gbybdtcat=dfs[\"node_box\"].groupby('bdtcat')\n",
    "for icat in range(0,4):\n",
    "    dfc=gbybdtcat.get_group(icat)\n",
    "    np.abs(dfc.cos_theta_hgg).hist(bins=20,normed=True,histtype=\"step\",label=\"bdtcat %d\" % icat) \n",
    "plt.ylabel(\"Events\")\n",
    "plt.xlabel(\"|cos$\\Theta_{\\gamma\\gamma}^*$|\")\n",
    "plt.legend()\n",
    "#plt.show()\n",
    "plt.savefig(\"cos_theta_gg_category_bdt.png\")\n",
    "plt.close()"
   ]
  },
  {
   "cell_type": "code",
   "execution_count": 58,
   "metadata": {
    "collapsed": false
   },
   "outputs": [],
   "source": [
    "plt.figure(51)\n",
    "gbymxcat=dfs[\"node_box\"].groupby('mxcat')\n",
    "for icat in range(0,5):\n",
    "    dfc=gbymxcat.get_group(icat)\n",
    "    np.abs(dfc.cos_theta_hgg).hist(bins=20,normed=True,histtype=\"step\",label=\"mxcat %d\" % icat) \n",
    "plt.ylabel(\"Events\")\n",
    "plt.xlabel(\"|cos$\\Theta_{\\gamma\\gamma}^*$|\")\n",
    "plt.legend()\n",
    "#plt.show()\n",
    "plt.savefig(\"cos_theta_gg_category_mx.png\")\n",
    "plt.close()"
   ]
  },
  {
   "cell_type": "code",
   "execution_count": 59,
   "metadata": {
    "collapsed": false
   },
   "outputs": [],
   "source": [
    "plt.figure(52)\n",
    "gbycat=dfs[\"node_box\"].groupby('cat')\n",
    "for icat in range(0,5):\n",
    "    dfc=gbycat.get_group(icat)\n",
    "    np.abs(dfc.cos_theta_hgg).hist(bins=20,normed=True,histtype=\"step\",label=\"cat %d\" % icat) \n",
    "plt.ylabel(\"Events\")\n",
    "plt.xlabel(\"|cos$\\Theta_{\\gamma\\gamma}^*$|\")\n",
    "plt.legend()\n",
    "#plt.show()\n",
    "plt.savefig(\"cos_theta_gg_category_1-4.png\")\n",
    "plt.close()"
   ]
  },
  {
   "cell_type": "code",
   "execution_count": 60,
   "metadata": {
    "collapsed": false
   },
   "outputs": [],
   "source": [
    "plt.figure(53)\n",
    "gbycat=dfs[\"node_box\"].groupby('cat')\n",
    "dfc=gbycat.get_group(0)\n",
    "np.abs(dfc.cos_theta_hgg).hist(bins=20,normed=True,histtype=\"step\",label=\"cat %d\" % 0) \n",
    "for icat in range(5,9):\n",
    "    dfc=gbycat.get_group(icat)\n",
    "    np.abs(dfc.cos_theta_hgg).hist(bins=20,normed=True,histtype=\"step\",label=\"cat %d\" % icat) \n",
    "plt.ylabel(\"Events\")\n",
    "plt.xlabel(\"|cos$\\Theta_{\\gamma\\gamma}^*$|\")\n",
    "plt.legend()\n",
    "#plt.show()\n",
    "plt.savefig(\"cos_theta_gg_category_5-8.png\")\n",
    "plt.close()"
   ]
  },
  {
   "cell_type": "code",
   "execution_count": 61,
   "metadata": {
    "collapsed": false
   },
   "outputs": [],
   "source": [
    "plt.figure(54)\n",
    "gbycat=dfs[\"node_box\"].groupby('cat')\n",
    "dfc=gbycat.get_group(0)\n",
    "np.abs(dfc.cos_theta_hgg).hist(bins=20,normed=True,histtype=\"step\",label=\"cat %d\" % 0) \n",
    "for icat in range(9,13):\n",
    "    dfc=gbycat.get_group(icat)\n",
    "    np.abs(dfc.cos_theta_hgg).hist(bins=20,normed=True,histtype=\"step\",label=\"cat %d\" % icat) \n",
    "plt.ylabel(\"Events\")\n",
    "plt.xlabel(\"|cos$\\Theta_{\\gamma\\gamma}^*$|\")\n",
    "plt.legend()\n",
    "#plt.show()\n",
    "plt.savefig(\"cos_theta_gg_category_9-12.png\")\n",
    "plt.close()"
   ]
  },
  {
   "cell_type": "code",
   "execution_count": 62,
   "metadata": {
    "collapsed": false
   },
   "outputs": [
    {
     "name": "stdout",
     "output_type": "stream",
     "text": [
      "node_10.hd5  node_13.hd5  node_4.hd5  node_7.hd5  node_box.hd5\r\n",
      "node_11.hd5  node_2.hd5   node_5.hd5  node_8.hd5  node_SM.hd5\r\n",
      "node_12.hd5  node_3.hd5   node_6.hd5  node_9.hd5\r\n"
     ]
    }
   ],
   "source": [
    "! ls *.hd5"
   ]
  },
  {
   "cell_type": "code",
   "execution_count": 63,
   "metadata": {
    "collapsed": false
   },
   "outputs": [
    {
     "name": "stdout",
     "output_type": "stream",
     "text": [
      "              leadJet_px  leadJet_py  leadJet_pz   leadJet_e     hbb_px  \\\n",
      "random_index                                                              \n",
      "0             -38.994972  -71.019943  159.694016  179.133209  12.360569   \n",
      "\n",
      "                 hbb_py      hbb_pz       hbb_e  \n",
      "random_index                                     \n",
      "0            -63.745907  201.814835  246.114975  \n",
      "\n",
      "angle between parent and daughter:  13.9223028783\n",
      "angle between parent and daughter_boost1:  61.5810367216\n",
      "angle between parent and daughter_boost2:  2.87104639853\n",
      "\n",
      "conclusion-booster boosts backward (angle increases), negative booster boosts forward (angle decreases)\n"
     ]
    }
   ],
   "source": [
    "#checking boost stuff\n",
    "\n",
    "subset= dfs[\"node_SM\"][0:1][[\"leadJet_px\",\"leadJet_py\",\"leadJet_pz\",\"leadJet_e\",\"hbb_px\",\"hbb_py\",\"hbb_pz\",\"hbb_e\"]]\n",
    "print subset\n",
    "print \"\"\n",
    "\n",
    "#daughter- LeadJet, parent- hbb\n",
    "daughter=skp.LorentzVector(-108.967827,147.97934,-134.65498,227.87262)\n",
    "parent=skp.LorentzVector(-138.614395,135.423813,-217.983994,317.328613)\n",
    "daughter_vector=daughter.vector.unit()\n",
    "parent_vector=parent.vector.unit()\n",
    "print \"angle between parent and daughter: \",np.degrees(parent_vector.angle(daughter_vector))\n",
    "booster=parent.boostvector\n",
    "negativebooster=(-booster.x,-booster.y,-booster.z)\n",
    "daughter_boost1=daughter.boost(booster)\n",
    "daughter_boost2=daughter.boost(negativebooster)\n",
    "daughter_boost1_vector=daughter_boost1.vector.unit()\n",
    "daughter_boost2_vector=daughter_boost2.vector.unit()\n",
    "\n",
    "print \"angle between parent and daughter_boost1: \",np.degrees(parent_vector.angle(daughter_boost1_vector))\n",
    "print \"angle between parent and daughter_boost2: \",np.degrees(parent_vector.angle(daughter_boost2_vector))\n",
    "print \"\"\n",
    "print \"conclusion-booster boosts backward (angle increases), negative booster boosts forward (angle decreases)\""
   ]
  }
 ],
 "metadata": {
  "anaconda-cloud": {},
  "kernelspec": {
   "display_name": "Python [conda root]",
   "language": "python",
   "name": "conda-root-py"
  },
  "language_info": {
   "codemirror_mode": {
    "name": "ipython",
    "version": 2
   },
   "file_extension": ".py",
   "mimetype": "text/x-python",
   "name": "python",
   "nbconvert_exporter": "python",
   "pygments_lexer": "ipython2",
   "version": "2.7.12"
  }
 },
 "nbformat": 4,
 "nbformat_minor": 1
}

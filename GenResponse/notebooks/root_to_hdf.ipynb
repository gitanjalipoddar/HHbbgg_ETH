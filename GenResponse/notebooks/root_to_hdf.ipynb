{
 "cells": [
  {
   "cell_type": "code",
   "execution_count": 1,
   "metadata": {
    "collapsed": false
   },
   "outputs": [
    {
     "data": {
      "application/javascript": [
       "require(['codemirror/mode/clike/clike'], function(Clike) { console.log('ROOTaaS - C++ CodeMirror module loaded'); });"
      ]
     },
     "metadata": {},
     "output_type": "display_data"
    },
    {
     "data": {
      "application/javascript": [
       "IPython.CodeCell.config_defaults.highlight_modes['magic_text/x-c++src'] = {'reg':[/^%%cpp/]};"
      ]
     },
     "metadata": {},
     "output_type": "display_data"
    },
    {
     "name": "stdout",
     "output_type": "stream",
     "text": [
      "Welcome to ROOTaaS 6.06/05\n"
     ]
    }
   ],
   "source": [
    "import hhgen.io as io\n",
    "import hhgen.utils as utils\n",
    "import matplotlib.pyplot as plt\n",
    "import numpy as np\n",
    "import skhep.math as skp"
   ]
  },
  {
   "cell_type": "code",
   "execution_count": 2,
   "metadata": {
    "collapsed": true
   },
   "outputs": [],
   "source": [
    "files = ! ls /t3home/musella/Analysis/HH_8_0_28/src/HHbbgg_ETH/Flashgg/work/gen_analysis/*madgraph.root"
   ]
  },
  {
   "cell_type": "code",
   "execution_count": 3,
   "metadata": {
    "collapsed": true
   },
   "outputs": [],
   "source": [
    "reload(io)\n",
    "def get_data(fname,proc):\n",
    "    tdir = 'genDiphotonDumper/trees'\n",
    "\n",
    "    untagged = tdir+'/'+proc+'_13TeV_NoTag_0'\n",
    "    tagged = tdir+'/'+proc+'_13TeV_DoubleHTag_%d'\n",
    "\n",
    "    return io.read_trees(fname,untagged,tagged,12) "
   ]
  },
  {
   "cell_type": "code",
   "execution_count": 4,
   "metadata": {
    "collapsed": false
   },
   "outputs": [],
   "source": [
    "#hgg=H to 2 photons\n",
    "#hbb=H to 2 b jets\n",
    "#hh=H to 2 Higgs\n",
    "reload(utils)\n",
    "def calc_features(df):\n",
    "    for part in \"leadPho\",\"subleadPho\",\"leadJet\",\"subleadJet\":\n",
    "        utils.calc_p4extra(df,part) #calculating pt, eta, phi, m for each \n",
    "    utils.calc_sump4(df,\"hgg\",\"leadPho\",\"subleadPho\") #calculating pt, eta, phi, m for sum of 2 photons\n",
    "    utils.calc_sump4(df,\"hbb\",\"leadJet\",\"subleadJet\") #calculating pt, eta, phi, m for sum of 2 b jets\n",
    "    utils.calc_sump4(df,\"hh\",\"hbb\",\"hgg\") #calculating pt, eta, phi, m for sum of 2 Higgs\n",
    "    \n",
    "    df[\"mtilda_x\"]=df[\"hh_m\"]-df[\"mgg\"]-df[\"mbb\"]+250.0 \n",
    "    df[\"hgg_pt_hh_m\"]=df[\"hgg_pt\"]/df[\"hh_m\"]\n",
    "    df[\"hbb_pt_hh_m\"]=df[\"hbb_pt\"]/df[\"hh_m\"]\n",
    "    \n",
    "    utils.calc_cos_theta_cs(df) #angle in Collins Sopper frame\n",
    "    utils.calc_cos_theta(df,\"hbb\",\"leadJet\") #helicity angles\n",
    "    utils.calc_cos_theta(df,\"hgg\",\"leadPho\")"
   ]
  },
  {
   "cell_type": "code",
   "execution_count": 5,
   "metadata": {
    "collapsed": false
   },
   "outputs": [],
   "source": [
    "import os\n",
    "\n",
    "dfs = {}\n",
    "for ifil in files:\n",
    "    fname = os.path.basename(ifil) #output_GluGluToHHTo2B2G_node_10_13TeV-madgraph.root\n",
    "    proc = fname.replace(\"output_\",\"\").replace(\".root\",\"\").replace(\"-\",\"_\") #GluGluToHHTo2B2G_node_10_13TeV_madgraph\n",
    "    df = get_data(ifil,proc)\n",
    "    proc = proc.replace(\"GluGluToHHTo2B2G_\",\"\").replace(\"_13TeV_madgraph\",\"\")#node_10\n",
    "    calc_features(df)\n",
    "    dfs[proc] = df"
   ]
  },
  {
   "cell_type": "code",
   "execution_count": 6,
   "metadata": {
    "collapsed": false
   },
   "outputs": [],
   "source": [
    "#dfs[\"node_SM\"].columns"
   ]
  },
  {
   "cell_type": "code",
   "execution_count": 1135,
   "metadata": {
    "collapsed": false
   },
   "outputs": [],
   "source": [
    "dfs[\"node_box\"].hh_m.hist(range=[250,1000],bins=150)\n",
    "plt.ylabel(\"Events\")\n",
    "plt.xlabel(\"hh$_m$ (in GeV/c$^2$)\")\n",
    "#plt.show()\n",
    "plt.savefig(\"hh_m.png\")"
   ]
  },
  {
   "cell_type": "code",
   "execution_count": 1138,
   "metadata": {
    "collapsed": false
   },
   "outputs": [],
   "source": [
    "plt.figure(2)\n",
    "gbybdtcat=dfs[\"node_box\"].groupby('bdtcat')\n",
    "for icat in range(0,4):\n",
    "    dfc=gbybdtcat.get_group(icat)\n",
    "    dfc.hh_m.hist(range=[250,1000],bins=100,normed=True,histtype=\"step\",label=\"bdtcat %d\" % icat) \n",
    "plt.ylabel(\"Events\")\n",
    "plt.xlabel(\"hh$_m$ (in GeV/c$^2$)\")\n",
    "plt.legend()\n",
    "#plt.show()\n",
    "plt.savefig(\"hh_m_category_bdt.png\")"
   ]
  },
  {
   "cell_type": "code",
   "execution_count": 1141,
   "metadata": {
    "collapsed": false
   },
   "outputs": [],
   "source": [
    "plt.figure(3)\n",
    "gbymxcat=dfs[\"node_box\"].groupby('mxcat')\n",
    "for icat in range(0,5):\n",
    "    dfc=gbymxcat.get_group(icat)\n",
    "    dfc.hh_m.hist(range=[250,1000],bins=100,normed=True,histtype=\"step\",label=\"mxcat %d\" % icat) \n",
    "plt.ylabel(\"Events\")\n",
    "plt.xlabel(\"hh$_m$ (in GeV/c$^2$)\")\n",
    "plt.legend()\n",
    "#plt.show()\n",
    "plt.savefig(\"hh_m_category_mx.png\")"
   ]
  },
  {
   "cell_type": "code",
   "execution_count": 1144,
   "metadata": {
    "collapsed": false
   },
   "outputs": [],
   "source": [
    "plt.figure(4)\n",
    "dfs[\"node_box\"].hh_pt.hist(range=[250,1000],bins=150)\n",
    "plt.ylabel(\"Events\")\n",
    "plt.xlabel(\"hh$_{pT}$ (in GeV/c)\")\n",
    "#plt.show()\n",
    "plt.savefig(\"hh_pt.png\")"
   ]
  },
  {
   "cell_type": "code",
   "execution_count": 1147,
   "metadata": {
    "collapsed": false
   },
   "outputs": [],
   "source": [
    "plt.figure(5)\n",
    "gbybdtcat=dfs[\"node_box\"].groupby('bdtcat')\n",
    "for icat in range(0,4):\n",
    "    dfc=gbybdtcat.get_group(icat)\n",
    "    dfc.hh_pt.hist(range=[250,1000],bins=100,normed=True,histtype=\"step\",label=\"bdtcat %d\" % icat) \n",
    "plt.ylabel(\"Events\")\n",
    "plt.xlabel(\"hh$_{pT}$ (in GeV/c)\")\n",
    "plt.legend()\n",
    "#plt.show()\n",
    "plt.savefig(\"hh_pt_category_bdt.png\")"
   ]
  },
  {
   "cell_type": "code",
   "execution_count": 1150,
   "metadata": {
    "collapsed": false
   },
   "outputs": [],
   "source": [
    "plt.figure(6)\n",
    "gbymxcat=dfs[\"node_box\"].groupby('mxcat')\n",
    "for icat in range(0,5):\n",
    "    dfc=gbymxcat.get_group(icat)\n",
    "    dfc.hh_pt.hist(range=[250,1000],bins=100,normed=True,histtype=\"step\",label=\"mxcat %d\" % icat) \n",
    "plt.ylabel(\"Events\")\n",
    "plt.xlabel(\"hh$_{pT}$ (in GeV/c)\")\n",
    "plt.legend()\n",
    "#plt.show()\n",
    "plt.savefig(\"hh_pt_category_mx.png\")"
   ]
  },
  {
   "cell_type": "code",
   "execution_count": 1153,
   "metadata": {
    "collapsed": false
   },
   "outputs": [],
   "source": [
    "plt.figure(7)\n",
    "dfs[\"node_box\"].hh_eta.hist(range=[-5,5],bins=150)\n",
    "plt.ylabel(\"Events\")\n",
    "plt.xlabel(\"$hh_{\\eta}$\")\n",
    "#plt.show()\n",
    "plt.savefig(\"hh_eta.png\")"
   ]
  },
  {
   "cell_type": "code",
   "execution_count": 1156,
   "metadata": {
    "collapsed": false
   },
   "outputs": [],
   "source": [
    "plt.figure(8)\n",
    "gbybdtcat=dfs[\"node_box\"].groupby('bdtcat')\n",
    "for icat in range(0,4):\n",
    "    dfc=gbybdtcat.get_group(icat)\n",
    "    dfc.hh_eta.hist(range=[-5,5],bins=100,normed=True,histtype=\"step\",label=\"bdtcat %d\" % icat) \n",
    "plt.ylabel(\"Events\")\n",
    "plt.xlabel(\"$hh_{\\eta}$\")\n",
    "plt.legend()\n",
    "#plt.show()\n",
    "plt.savefig(\"hh_eta_category_bdt.png\")"
   ]
  },
  {
   "cell_type": "code",
   "execution_count": 1159,
   "metadata": {
    "collapsed": false
   },
   "outputs": [],
   "source": [
    "plt.figure(9)\n",
    "gbymxcat=dfs[\"node_box\"].groupby('mxcat')\n",
    "for icat in range(0,5):\n",
    "    dfc=gbymxcat.get_group(icat)\n",
    "    dfc.hh_eta.hist(range=[-5,5],bins=100,normed=True,histtype=\"step\",label=\"mxcat %d\" % icat) \n",
    "plt.ylabel(\"Events\")\n",
    "plt.xlabel(\"$hh_{\\eta}$\")\n",
    "plt.legend()\n",
    "#plt.show()\n",
    "plt.savefig(\"hh_eta_category_mx.png\")"
   ]
  },
  {
   "cell_type": "code",
   "execution_count": 1162,
   "metadata": {
    "collapsed": false
   },
   "outputs": [],
   "source": [
    "plt.figure(10)\n",
    "dfs[\"node_box\"].mtilda_x.hist(range=[250,1000],bins=150)\n",
    "plt.ylabel(\"Events\")\n",
    "plt.xlabel(\"$\\~{m}_X$ (in GeV/c$^2$)\")\n",
    "#plt.show()\n",
    "plt.savefig(\"hh_mtilda_x.png\")"
   ]
  },
  {
   "cell_type": "code",
   "execution_count": 1165,
   "metadata": {
    "collapsed": false
   },
   "outputs": [],
   "source": [
    "plt.figure(11)\n",
    "gbybdtcat=dfs[\"node_box\"].groupby('bdtcat')\n",
    "for icat in range(0,4):\n",
    "    dfc=gbybdtcat.get_group(icat)\n",
    "    dfc.mtilda_x.hist(range=[250,1000],bins=100,normed=True,histtype=\"step\",label=\"bdtcat %d\" % icat) \n",
    "plt.ylabel(\"Events\")\n",
    "plt.xlabel(\"$\\~{m}_X$ (in GeV/c$^2$)\")\n",
    "plt.legend()\n",
    "#plt.show()\n",
    "plt.savefig(\"hh_mtilda_x_category_bdt.png\")"
   ]
  },
  {
   "cell_type": "code",
   "execution_count": 1168,
   "metadata": {
    "collapsed": false
   },
   "outputs": [],
   "source": [
    "plt.figure(12)\n",
    "gbymxcat=dfs[\"node_box\"].groupby('mxcat')\n",
    "for icat in range(0,5):\n",
    "    dfc=gbymxcat.get_group(icat)\n",
    "    dfc.mtilda_x.hist(range=[250,1000],bins=100,normed=True,histtype=\"step\",label=\"mxcat %d\" % icat) \n",
    "plt.ylabel(\"Events\")\n",
    "plt.xlabel(\"$\\~{m}_X$ (in GeV/c$^2$)\")\n",
    "plt.legend()\n",
    "#plt.show()\n",
    "plt.savefig(\"hh_mtilda_x_category_mx.png\")"
   ]
  },
  {
   "cell_type": "code",
   "execution_count": 1171,
   "metadata": {
    "collapsed": false
   },
   "outputs": [],
   "source": [
    "plt.figure(13)\n",
    "dfs[\"node_box\"].hgg_pt_hh_m.hist(range=[0,1],bins=150)\n",
    "plt.ylabel(\"Events\")\n",
    "plt.xlabel(\"pT($\\gamma\\gamma$)/M(jj$\\gamma\\gamma$) (in c)\")\n",
    "#plt.show()\n",
    "plt.savefig(\"hgg_pt_hh_m.png\")"
   ]
  },
  {
   "cell_type": "code",
   "execution_count": 1174,
   "metadata": {
    "collapsed": false
   },
   "outputs": [],
   "source": [
    "plt.figure(14)\n",
    "gbybdtcat=dfs[\"node_box\"].groupby('bdtcat')\n",
    "for icat in range(0,4):\n",
    "    dfc=gbybdtcat.get_group(icat)\n",
    "    dfc.hgg_pt_hh_m.hist(range=[0,1],bins=100,normed=True,histtype=\"step\",label=\"bdtcat %d\" % icat) \n",
    "plt.ylabel(\"Events\")\n",
    "plt.xlabel(\"pT($\\gamma\\gamma$)/M(jj$\\gamma\\gamma$) (in c)\")\n",
    "plt.legend()\n",
    "#plt.show()\n",
    "plt.savefig(\"hgg_pt_hh_m_category_bdt.png\")"
   ]
  },
  {
   "cell_type": "code",
   "execution_count": 1177,
   "metadata": {
    "collapsed": false
   },
   "outputs": [],
   "source": [
    "plt.figure(15)\n",
    "gbymxcat=dfs[\"node_box\"].groupby('mxcat')\n",
    "for icat in range(0,5):\n",
    "    dfc=gbymxcat.get_group(icat)\n",
    "    dfc.hgg_pt_hh_m.hist(range=[0,1],bins=100,normed=True,histtype=\"step\",label=\"mxcat %d\" % icat) \n",
    "plt.ylabel(\"Events\")\n",
    "plt.xlabel(\"pT($\\gamma\\gamma$)/M(jj$\\gamma\\gamma$) (in c)\")\n",
    "plt.legend()\n",
    "#plt.show()\n",
    "plt.savefig(\"hgg_pt_hh_m_category_mx.png\")"
   ]
  },
  {
   "cell_type": "code",
   "execution_count": 1180,
   "metadata": {
    "collapsed": false
   },
   "outputs": [],
   "source": [
    "plt.figure(16)\n",
    "dfs[\"node_box\"].hbb_pt_hh_m.hist(range=[0,1],bins=150)\n",
    "plt.ylabel(\"Events\")\n",
    "plt.xlabel(\"pT(jj)/M(jj$\\gamma\\gamma$) (in c)\")\n",
    "#plt.show()\n",
    "plt.savefig(\"hbb_pt_hh_m.png\")"
   ]
  },
  {
   "cell_type": "code",
   "execution_count": 1183,
   "metadata": {
    "collapsed": false
   },
   "outputs": [],
   "source": [
    "plt.figure(17)\n",
    "gbybdtcat=dfs[\"node_box\"].groupby('bdtcat')\n",
    "for icat in range(0,4):\n",
    "    dfc=gbybdtcat.get_group(icat)\n",
    "    dfc.hbb_pt_hh_m.hist(range=[0,1],bins=100,normed=True,histtype=\"step\",label=\"bdtcat %d\" % icat) \n",
    "plt.ylabel(\"Events\")\n",
    "plt.xlabel(\"pT(jj)/M(jj$\\gamma\\gamma$) (in c)\")\n",
    "plt.legend()\n",
    "#plt.show()\n",
    "plt.savefig(\"hbb_pt_hh_m_category_bdt.png\")"
   ]
  },
  {
   "cell_type": "code",
   "execution_count": 1186,
   "metadata": {
    "collapsed": false
   },
   "outputs": [],
   "source": [
    "plt.figure(18)\n",
    "gbymxcat=dfs[\"node_box\"].groupby('mxcat')\n",
    "for icat in range(0,5):\n",
    "    dfc=gbymxcat.get_group(icat)\n",
    "    dfc.hbb_pt_hh_m.hist(range=[0,1],bins=100,normed=True,histtype=\"step\",label=\"mxcat %d\" % icat) \n",
    "plt.ylabel(\"Events\")\n",
    "plt.xlabel(\"pT(jj)/M(jj$\\gamma\\gamma$) (in c)\")\n",
    "plt.legend()\n",
    "#plt.show()\n",
    "plt.savefig(\"hbb_pt_hh_m_category_mx.png\")"
   ]
  },
  {
   "cell_type": "code",
   "execution_count": 1189,
   "metadata": {
    "collapsed": false
   },
   "outputs": [],
   "source": [
    "plt.figure(19)\n",
    "np.abs(dfs[\"node_box\"].cos_theta_cs).hist(bins=150)\n",
    "plt.ylabel(\"Events\")\n",
    "plt.xlabel(\"|cos$\\Theta_{CS}^*$|\")\n",
    "#plt.show()\n",
    "plt.savefig(\"cos_theta_cs.png\")"
   ]
  },
  {
   "cell_type": "code",
   "execution_count": 1192,
   "metadata": {
    "collapsed": false
   },
   "outputs": [],
   "source": [
    "plt.figure(20)\n",
    "gbybdtcat=dfs[\"node_box\"].groupby('bdtcat')\n",
    "for icat in range(0,4):\n",
    "    dfc=gbybdtcat.get_group(icat)\n",
    "    np.abs(dfc.cos_theta_cs).hist(bins=100,normed=True,histtype=\"step\",label=\"bdtcat %d\" % icat) \n",
    "plt.ylabel(\"Events\")\n",
    "plt.xlabel(\"|cos$\\Theta_{CS}^*$|\")\n",
    "plt.legend()\n",
    "#plt.show()\n",
    "plt.savefig(\"cos_theta_cs_category_bdt.png\")"
   ]
  },
  {
   "cell_type": "code",
   "execution_count": 1195,
   "metadata": {
    "collapsed": false
   },
   "outputs": [],
   "source": [
    "plt.figure(21)\n",
    "gbymxcat=dfs[\"node_box\"].groupby('mxcat')\n",
    "for icat in range(0,5):\n",
    "    dfc=gbymxcat.get_group(icat)\n",
    "    np.abs(dfc.cos_theta_cs).hist(bins=100,normed=True,histtype=\"step\",label=\"mxcat %d\" % icat) \n",
    "plt.ylabel(\"Events\")\n",
    "plt.xlabel(\"|cos$\\Theta_{CS}^*$|\")\n",
    "plt.legend()\n",
    "#plt.show()\n",
    "plt.savefig(\"cos_theta_cs_category_mx.png\")"
   ]
  },
  {
   "cell_type": "code",
   "execution_count": 1198,
   "metadata": {
    "collapsed": false
   },
   "outputs": [],
   "source": [
    "plt.figure(22)\n",
    "np.abs(dfs[\"node_box\"].cos_theta_hbb).hist(bins=150)\n",
    "plt.ylabel(\"Events\")\n",
    "plt.xlabel(\"|cos$\\Theta_{bb}^*$|\")\n",
    "#plt.show()\n",
    "plt.savefig(\"cos_theta_bb.png\")"
   ]
  },
  {
   "cell_type": "code",
   "execution_count": 1201,
   "metadata": {
    "collapsed": false
   },
   "outputs": [],
   "source": [
    "plt.figure(23)\n",
    "gbybdtcat=dfs[\"node_box\"].groupby('bdtcat')\n",
    "for icat in range(0,4):\n",
    "    dfc=gbybdtcat.get_group(icat)\n",
    "    np.abs(dfc.cos_theta_hbb).hist(bins=100,normed=True,histtype=\"step\",label=\"bdtcat %d\" % icat) \n",
    "plt.ylabel(\"Events\")\n",
    "plt.xlabel(\"|cos$\\Theta_{bb}^*$|\")\n",
    "plt.legend()\n",
    "#plt.show()\n",
    "plt.savefig(\"cos_theta_bb_category_bdt.png\")"
   ]
  },
  {
   "cell_type": "code",
   "execution_count": 1204,
   "metadata": {
    "collapsed": false
   },
   "outputs": [],
   "source": [
    "plt.figure(24)\n",
    "gbymxcat=dfs[\"node_box\"].groupby('mxcat')\n",
    "for icat in range(0,5):\n",
    "    dfc=gbymxcat.get_group(icat)\n",
    "    np.abs(dfc.cos_theta_hbb).hist(bins=100,normed=True,histtype=\"step\",label=\"mxcat %d\" % icat) \n",
    "plt.ylabel(\"Events\")\n",
    "plt.xlabel(\"|cos$\\Theta_{bb}^*$|\")\n",
    "plt.legend()\n",
    "#plt.show()\n",
    "plt.savefig(\"cos_theta_bb_category_mx.png\")"
   ]
  },
  {
   "cell_type": "code",
   "execution_count": 1207,
   "metadata": {
    "collapsed": false
   },
   "outputs": [],
   "source": [
    "plt.figure(25)\n",
    "np.abs(dfs[\"node_box\"].cos_theta_hgg).hist(bins=150)\n",
    "plt.ylabel(\"Events\")\n",
    "plt.xlabel(\"|cos$\\Theta_{\\gamma\\gamma}^*$|\")\n",
    "#plt.show()\n",
    "plt.savefig(\"cos_theta_gg.png\")"
   ]
  },
  {
   "cell_type": "code",
   "execution_count": 1210,
   "metadata": {
    "collapsed": false
   },
   "outputs": [],
   "source": [
    "plt.figure(26)\n",
    "gbybdtcat=dfs[\"node_box\"].groupby('bdtcat')\n",
    "for icat in range(0,4):\n",
    "    dfc=gbybdtcat.get_group(icat)\n",
    "    np.abs(dfc.cos_theta_hgg).hist(bins=100,normed=True,histtype=\"step\",label=\"bdtcat %d\" % icat) \n",
    "plt.ylabel(\"Events\")\n",
    "plt.xlabel(\"|cos$\\Theta_{\\gamma\\gamma}^*$|\")\n",
    "plt.legend()\n",
    "#plt.show()\n",
    "plt.savefig(\"cos_theta_gg_category_bdt.png\")"
   ]
  },
  {
   "cell_type": "code",
   "execution_count": 1213,
   "metadata": {
    "collapsed": false
   },
   "outputs": [],
   "source": [
    "plt.figure(27)\n",
    "gbymxcat=dfs[\"node_box\"].groupby('mxcat')\n",
    "for icat in range(0,5):\n",
    "    dfc=gbymxcat.get_group(icat)\n",
    "    np.abs(dfc.cos_theta_hgg).hist(bins=100,normed=True,histtype=\"step\",label=\"mxcat %d\" % icat) \n",
    "plt.ylabel(\"Events\")\n",
    "plt.xlabel(\"|cos$\\Theta_{\\gamma\\gamma}^*$|\")\n",
    "plt.legend()\n",
    "#plt.show()\n",
    "plt.savefig(\"cos_theta_gg_category_mx.png\")"
   ]
  },
  {
   "cell_type": "code",
   "execution_count": 280,
   "metadata": {
    "collapsed": false
   },
   "outputs": [],
   "source": [
    "#hdf: hierarchial data format\n",
    "\n",
    "for proc,df in dfs.items():\n",
    "    df.to_hdf(proc+\".hd5\",proc,mode=\"w\") #mode w: write"
   ]
  },
  {
   "cell_type": "code",
   "execution_count": 281,
   "metadata": {
    "collapsed": false
   },
   "outputs": [
    {
     "name": "stdout",
     "output_type": "stream",
     "text": [
      "node_10.hd5  node_13.hd5  node_4.hd5  node_7.hd5  node_box.hd5\r\n",
      "node_11.hd5  node_2.hd5   node_5.hd5  node_8.hd5  node_SM.hd5\r\n",
      "node_12.hd5  node_3.hd5   node_6.hd5  node_9.hd5\r\n"
     ]
    }
   ],
   "source": [
    "! ls *.hd5"
   ]
  },
  {
   "cell_type": "code",
   "execution_count": null,
   "metadata": {
    "collapsed": false
   },
   "outputs": [],
   "source": []
  }
 ],
 "metadata": {
  "anaconda-cloud": {},
  "kernelspec": {
   "display_name": "Python [conda root]",
   "language": "python",
   "name": "conda-root-py"
  },
  "language_info": {
   "codemirror_mode": {
    "name": "ipython",
    "version": 2
   },
   "file_extension": ".py",
   "mimetype": "text/x-python",
   "name": "python",
   "nbconvert_exporter": "python",
   "pygments_lexer": "ipython2",
   "version": "2.7.12"
  }
 },
 "nbformat": 4,
 "nbformat_minor": 1
}

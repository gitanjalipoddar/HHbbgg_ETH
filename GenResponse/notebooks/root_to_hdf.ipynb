{
 "cells": [
  {
   "cell_type": "code",
   "execution_count": 936,
   "metadata": {
    "collapsed": false
   },
   "outputs": [],
   "source": [
    "import hhgen.io as io\n",
    "import hhgen.utils as utils\n",
    "import matplotlib.pyplot as plt\n",
    "import numpy as np\n",
    "import skhep.math as skp"
   ]
  },
  {
   "cell_type": "code",
   "execution_count": 937,
   "metadata": {
    "collapsed": true
   },
   "outputs": [],
   "source": [
    "files = ! ls /t3home/musella/Analysis/HH_8_0_28/src/HHbbgg_ETH/Flashgg/work/gen_analysis/*madgraph.root"
   ]
  },
  {
   "cell_type": "code",
   "execution_count": 938,
   "metadata": {
    "collapsed": true
   },
   "outputs": [],
   "source": [
    "reload(io)\n",
    "def get_data(fname,proc):\n",
    "    tdir = 'genDiphotonDumper/trees'\n",
    "\n",
    "    untagged = tdir+'/'+proc+'_13TeV_NoTag_0'\n",
    "    tagged = tdir+'/'+proc+'_13TeV_DoubleHTag_%d'\n",
    "\n",
    "    return io.read_trees(fname,untagged,tagged,12) "
   ]
  },
  {
   "cell_type": "code",
   "execution_count": 939,
   "metadata": {
    "collapsed": false
   },
   "outputs": [],
   "source": [
    "#hgg=H to 2 photons\n",
    "#hbb=H to 2 b jets\n",
    "#hh=H to 2 Higgs\n",
    "reload(utils)\n",
    "def calc_features(df):\n",
    "    for part in \"leadPho\",\"subleadPho\",\"leadJet\",\"subleadJet\":\n",
    "        utils.calc_p4extra(df,part) #calculating pt, eta, phi, m for each \n",
    "    utils.calc_sump4(df,\"hgg\",\"leadPho\",\"subleadPho\") #calculating pt, eta, phi, m for sum of 2 photons\n",
    "    utils.calc_sump4(df,\"hbb\",\"leadJet\",\"subleadJet\") #calculating pt, eta, phi, m for sum of 2 b jets\n",
    "    utils.calc_sump4(df,\"hh\",\"hbb\",\"hgg\") #calculating pt, eta, phi, m for sum of 2 Higgs\n",
    "    \n",
    "    df[\"mtilda_x\"]=df[\"hh_m\"]-df[\"mgg\"]-df[\"mbb\"]+250.0 \n",
    "    df[\"hgg_pt_hh_m\"]=df[\"hgg_pt\"]/df[\"hh_m\"]\n",
    "    df[\"hbb_pt_hh_m\"]=df[\"hbb_pt\"]/df[\"hh_m\"]\n",
    "    \n",
    "    utils.calc_cos_theta_cs(df) #angle in Collins Sopper frame\n",
    "    utils.calc_cos_theta(df,\"hbb\",\"leadJet\") #helicity angles\n",
    "    utils.calc_cos_theta(df,\"hgg\",\"leadPho\")"
   ]
  },
  {
   "cell_type": "code",
   "execution_count": 940,
   "metadata": {
    "collapsed": false
   },
   "outputs": [],
   "source": [
    "import os\n",
    "\n",
    "dfs = {}\n",
    "for ifil in files:\n",
    "    fname = os.path.basename(ifil) #output_GluGluToHHTo2B2G_node_10_13TeV-madgraph.root\n",
    "    proc = fname.replace(\"output_\",\"\").replace(\".root\",\"\").replace(\"-\",\"_\") #GluGluToHHTo2B2G_node_10_13TeV_madgraph\n",
    "    df = get_data(ifil,proc)\n",
    "    proc = proc.replace(\"GluGluToHHTo2B2G_\",\"\").replace(\"_13TeV_madgraph\",\"\")#node_10\n",
    "    calc_features(df)\n",
    "    dfs[proc] = df"
   ]
  },
  {
   "cell_type": "code",
   "execution_count": 1302,
   "metadata": {
    "collapsed": false
   },
   "outputs": [],
   "source": [
    "#dfs[\"node_SM\"].columns"
   ]
  },
  {
   "cell_type": "code",
   "execution_count": 1303,
   "metadata": {
    "collapsed": false
   },
   "outputs": [],
   "source": [
    "plt.figure(1)\n",
    "dfs[\"node_box\"].hh_m.hist(range=[250,1000],bins=150)\n",
    "plt.ylabel(\"Events\")\n",
    "plt.xlabel(\"hh$_m$ (in GeV/c$^2$)\")\n",
    "#plt.show()\n",
    "plt.savefig(\"hh_m.png\")\n",
    "plt.close()"
   ]
  },
  {
   "cell_type": "code",
   "execution_count": 1304,
   "metadata": {
    "collapsed": false
   },
   "outputs": [],
   "source": [
    "plt.figure(2)\n",
    "gbybdtcat=dfs[\"node_box\"].groupby('bdtcat')\n",
    "for icat in range(0,4):\n",
    "    dfc=gbybdtcat.get_group(icat)\n",
    "    dfc.hh_m.hist(range=[250,1000],bins=20,normed=True,histtype=\"step\",label=\"bdtcat %d\" % icat) \n",
    "plt.ylabel(\"Events\")\n",
    "plt.xlabel(\"hh$_m$ (in GeV/c$^2$)\")\n",
    "plt.legend()\n",
    "#plt.show()\n",
    "plt.savefig(\"hh_m_category_bdt.png\")\n",
    "plt.close()"
   ]
  },
  {
   "cell_type": "code",
   "execution_count": 1305,
   "metadata": {
    "collapsed": false
   },
   "outputs": [],
   "source": [
    "plt.figure(3)\n",
    "gbymxcat=dfs[\"node_box\"].groupby('mxcat')\n",
    "for icat in range(0,5):\n",
    "    dfc=gbymxcat.get_group(icat)\n",
    "    dfc.hh_m.hist(range=[250,1000],bins=20,normed=True,histtype=\"step\",label=\"mxcat %d\" % icat) \n",
    "plt.ylabel(\"Events\")\n",
    "plt.xlabel(\"hh$_m$ (in GeV/c$^2$)\")\n",
    "plt.legend()\n",
    "#plt.show()\n",
    "plt.savefig(\"hh_m_category_mx.png\")\n",
    "plt.close()"
   ]
  },
  {
   "cell_type": "code",
   "execution_count": 1306,
   "metadata": {
    "collapsed": false
   },
   "outputs": [],
   "source": [
    "plt.figure(4)\n",
    "gbycat=dfs[\"node_box\"].groupby('cat')\n",
    "for icat in range(0,5):\n",
    "    dfc=gbycat.get_group(icat)\n",
    "    dfc.hh_m.hist(range=[250,1000],bins=20,normed=True,histtype=\"step\",label=\"cat %d\" % icat) \n",
    "plt.ylabel(\"Events\")\n",
    "plt.xlabel(\"hh$_m$ (in GeV/c$^2$)\")\n",
    "plt.legend()\n",
    "#plt.show()\n",
    "plt.savefig(\"hh_m_category_1-4.png\")\n",
    "plt.close()"
   ]
  },
  {
   "cell_type": "code",
   "execution_count": 1307,
   "metadata": {
    "collapsed": false
   },
   "outputs": [],
   "source": [
    "plt.figure(5)\n",
    "gbycat=dfs[\"node_box\"].groupby('cat')\n",
    "dfc=gbycat.get_group(0)\n",
    "dfc.hh_m.hist(range=[250,1000],bins=20,normed=True,histtype=\"step\",label=\"cat %d\" % 0)\n",
    "for icat in range(5,9):\n",
    "    dfc=gbycat.get_group(icat)\n",
    "    dfc.hh_m.hist(range=[250,1000],bins=20,normed=True,histtype=\"step\",label=\"cat %d\" % icat) \n",
    "plt.ylabel(\"Events\")\n",
    "plt.xlabel(\"hh$_m$ (in GeV/c$^2$)\")\n",
    "plt.legend()\n",
    "#plt.show()\n",
    "plt.savefig(\"hh_m_category_5-8.png\")\n",
    "plt.close()"
   ]
  },
  {
   "cell_type": "code",
   "execution_count": 1308,
   "metadata": {
    "collapsed": false
   },
   "outputs": [],
   "source": [
    "plt.figure(6)\n",
    "gbycat=dfs[\"node_box\"].groupby('cat')\n",
    "dfc=gbycat.get_group(0)\n",
    "dfc.hh_m.hist(range=[250,1000],bins=20,normed=True,histtype=\"step\",label=\"cat %d\" % 0)\n",
    "for icat in range(9,13):\n",
    "    dfc=gbycat.get_group(icat)\n",
    "    dfc.hh_m.hist(range=[250,1000],bins=20,normed=True,histtype=\"step\",label=\"cat %d\" % icat) \n",
    "plt.ylabel(\"Events\")\n",
    "plt.xlabel(\"hh$_m$ (in GeV/c$^2$)\")\n",
    "plt.legend()\n",
    "#plt.show()\n",
    "plt.savefig(\"hh_m_category_9-12.png\")\n",
    "plt.close()"
   ]
  },
  {
   "cell_type": "code",
   "execution_count": 1309,
   "metadata": {
    "collapsed": false
   },
   "outputs": [],
   "source": [
    "plt.figure(6)\n",
    "dfs[\"node_box\"].hh_pt.hist(range=[250,1000],bins=150)\n",
    "plt.ylabel(\"Events\")\n",
    "plt.xlabel(\"hh$_{pT}$ (in GeV/c)\")\n",
    "#plt.show()\n",
    "plt.savefig(\"hh_pt.png\")\n",
    "plt.close()"
   ]
  },
  {
   "cell_type": "code",
   "execution_count": 1310,
   "metadata": {
    "collapsed": false
   },
   "outputs": [],
   "source": [
    "plt.figure(8)\n",
    "gbybdtcat=dfs[\"node_box\"].groupby('bdtcat')\n",
    "for icat in range(0,4):\n",
    "    dfc=gbybdtcat.get_group(icat)\n",
    "    dfc.hh_pt.hist(range=[250,1000],bins=20,normed=True,histtype=\"step\",label=\"bdtcat %d\" % icat) \n",
    "plt.ylabel(\"Events\")\n",
    "plt.xlabel(\"hh$_{pT}$ (in GeV/c)\")\n",
    "plt.legend()\n",
    "#plt.show()\n",
    "plt.savefig(\"hh_pt_category_bdt.png\")\n",
    "plt.close()"
   ]
  },
  {
   "cell_type": "code",
   "execution_count": 1311,
   "metadata": {
    "collapsed": false
   },
   "outputs": [],
   "source": [
    "plt.figure(9)\n",
    "gbymxcat=dfs[\"node_box\"].groupby('mxcat')\n",
    "for icat in range(0,5):\n",
    "    dfc=gbymxcat.get_group(icat)\n",
    "    dfc.hh_pt.hist(range=[250,1000],bins=20,normed=True,histtype=\"step\",label=\"mxcat %d\" % icat) \n",
    "plt.ylabel(\"Events\")\n",
    "plt.xlabel(\"hh$_{pT}$ (in GeV/c)\")\n",
    "plt.legend()\n",
    "#plt.show()\n",
    "plt.savefig(\"hh_pt_category_mx.png\")\n",
    "plt.close()"
   ]
  },
  {
   "cell_type": "code",
   "execution_count": 1312,
   "metadata": {
    "collapsed": false
   },
   "outputs": [],
   "source": [
    "plt.figure(10)\n",
    "gbycat=dfs[\"node_box\"].groupby('cat')\n",
    "for icat in range(0,5):\n",
    "    dfc=gbycat.get_group(icat)\n",
    "    dfc.hh_pt.hist(range=[250,1000],bins=20,normed=True,histtype=\"step\",label=\"cat %d\" % icat) \n",
    "plt.ylabel(\"Events\")\n",
    "plt.xlabel(\"hh$_{pT}$ (in GeV/c)\")\n",
    "plt.legend()\n",
    "#plt.show()\n",
    "plt.savefig(\"hh_pt_category_1-4.png\")\n",
    "plt.close()"
   ]
  },
  {
   "cell_type": "code",
   "execution_count": 1313,
   "metadata": {
    "collapsed": false
   },
   "outputs": [],
   "source": [
    "plt.figure(11)\n",
    "gbycat=dfs[\"node_box\"].groupby('cat')\n",
    "dfc=gbycat.get_group(0)\n",
    "dfc.hh_pt.hist(range=[250,1000],bins=20,normed=True,histtype=\"step\",label=\"cat %d\" % 0)\n",
    "for icat in range(5,9):\n",
    "    dfc=gbycat.get_group(icat)\n",
    "    dfc.hh_pt.hist(range=[250,1000],bins=20,normed=True,histtype=\"step\",label=\"cat %d\" % icat) \n",
    "plt.ylabel(\"Events\")\n",
    "plt.xlabel(\"hh$_{pT}$ (in GeV/c)\")\n",
    "plt.legend()\n",
    "#plt.show()\n",
    "plt.savefig(\"hh_pt_category_5-8.png\")\n",
    "plt.close()"
   ]
  },
  {
   "cell_type": "code",
   "execution_count": 1314,
   "metadata": {
    "collapsed": false
   },
   "outputs": [],
   "source": [
    "plt.figure(12)\n",
    "gbycat=dfs[\"node_box\"].groupby('cat')\n",
    "dfc=gbycat.get_group(0)\n",
    "dfc.hh_pt.hist(range=[250,1000],bins=20,normed=True,histtype=\"step\",label=\"cat %d\" % 0)\n",
    "for icat in range(9,13):\n",
    "    dfc=gbycat.get_group(icat)\n",
    "    dfc.hh_pt.hist(range=[250,1000],bins=20,normed=True,histtype=\"step\",label=\"cat %d\" % icat) \n",
    "plt.ylabel(\"Events\")\n",
    "plt.xlabel(\"hh$_{pT}$ (in GeV/c)\")\n",
    "plt.legend()\n",
    "#plt.show()\n",
    "plt.savefig(\"hh_pt_category_9-12.png\")\n",
    "plt.close()"
   ]
  },
  {
   "cell_type": "code",
   "execution_count": 1315,
   "metadata": {
    "collapsed": false
   },
   "outputs": [],
   "source": [
    "plt.figure(13)\n",
    "dfs[\"node_box\"].hh_eta.hist(range=[-5,5],bins=150)\n",
    "plt.ylabel(\"Events\")\n",
    "plt.xlabel(\"$hh_{\\eta}$\")\n",
    "#plt.show()\n",
    "plt.savefig(\"hh_eta.png\")\n",
    "plt.close()"
   ]
  },
  {
   "cell_type": "code",
   "execution_count": 1316,
   "metadata": {
    "collapsed": false
   },
   "outputs": [],
   "source": [
    "plt.figure(14)\n",
    "gbybdtcat=dfs[\"node_box\"].groupby('bdtcat')\n",
    "for icat in range(0,4):\n",
    "    dfc=gbybdtcat.get_group(icat)\n",
    "    dfc.hh_eta.hist(range=[-5,5],bins=20,normed=True,histtype=\"step\",label=\"bdtcat %d\" % icat) \n",
    "plt.ylabel(\"Events\")\n",
    "plt.xlabel(\"$hh_{\\eta}$\")\n",
    "plt.legend()\n",
    "#plt.show()\n",
    "plt.savefig(\"hh_eta_category_bdt.png\")\n",
    "plt.close()"
   ]
  },
  {
   "cell_type": "code",
   "execution_count": 1317,
   "metadata": {
    "collapsed": false
   },
   "outputs": [],
   "source": [
    "plt.figure(15)\n",
    "gbymxcat=dfs[\"node_box\"].groupby('mxcat')\n",
    "for icat in range(0,5):\n",
    "    dfc=gbymxcat.get_group(icat)\n",
    "    dfc.hh_eta.hist(range=[-5,5],bins=20,normed=True,histtype=\"step\",label=\"mxcat %d\" % icat) \n",
    "plt.ylabel(\"Events\")\n",
    "plt.xlabel(\"$hh_{\\eta}$\")\n",
    "plt.legend()\n",
    "#plt.show()\n",
    "plt.savefig(\"hh_eta_category_mx.png\")\n",
    "plt.close()"
   ]
  },
  {
   "cell_type": "code",
   "execution_count": 1318,
   "metadata": {
    "collapsed": false
   },
   "outputs": [],
   "source": [
    "plt.figure(16)\n",
    "gbycat=dfs[\"node_box\"].groupby('cat')\n",
    "for icat in range(0,5):\n",
    "    dfc=gbycat.get_group(icat)\n",
    "    dfc.hh_eta.hist(range=[-5,5],bins=20,normed=True,histtype=\"step\",label=\"cat %d\" % icat) \n",
    "plt.ylabel(\"Events\")\n",
    "plt.xlabel(\"$hh_{\\eta}$\")\n",
    "plt.legend()\n",
    "#plt.show()\n",
    "plt.savefig(\"hh_eta_category_1-4.png\")\n",
    "plt.close()"
   ]
  },
  {
   "cell_type": "code",
   "execution_count": 1319,
   "metadata": {
    "collapsed": false
   },
   "outputs": [],
   "source": [
    "plt.figure(17)\n",
    "gbycat=dfs[\"node_box\"].groupby('cat')\n",
    "dfc=gbycat.get_group(0)\n",
    "dfc.hh_eta.hist(range=[-5,5],bins=20,normed=True,histtype=\"step\",label=\"cat %d\" % 0)\n",
    "for icat in range(5,9):\n",
    "    dfc=gbycat.get_group(icat)\n",
    "    dfc.hh_eta.hist(range=[-5,5],bins=20,normed=True,histtype=\"step\",label=\"cat %d\" % icat) \n",
    "plt.ylabel(\"Events\")\n",
    "plt.xlabel(\"$hh_{\\eta}$\")\n",
    "plt.legend()\n",
    "#plt.show()\n",
    "plt.savefig(\"hh_eta_category_5-8.png\")\n",
    "plt.close()"
   ]
  },
  {
   "cell_type": "code",
   "execution_count": 1320,
   "metadata": {
    "collapsed": false
   },
   "outputs": [],
   "source": [
    "plt.figure(18)\n",
    "gbycat=dfs[\"node_box\"].groupby('cat')\n",
    "dfc=gbycat.get_group(0)\n",
    "dfc.hh_eta.hist(range=[-5,5],bins=20,normed=True,histtype=\"step\",label=\"cat %d\" % 0)\n",
    "for icat in range(9,13):\n",
    "    dfc=gbycat.get_group(icat)\n",
    "    dfc.hh_eta.hist(range=[-5,5],bins=20,normed=True,histtype=\"step\",label=\"cat %d\" % icat) \n",
    "plt.ylabel(\"Events\")\n",
    "plt.xlabel(\"$hh_{\\eta}$\")\n",
    "plt.legend()\n",
    "#plt.show()\n",
    "plt.savefig(\"hh_eta_category_9-12.png\")\n",
    "plt.close()"
   ]
  },
  {
   "cell_type": "code",
   "execution_count": 1321,
   "metadata": {
    "collapsed": false
   },
   "outputs": [],
   "source": [
    "plt.figure(19)\n",
    "dfs[\"node_box\"].mtilda_x.hist(range=[250,1000],bins=150)\n",
    "plt.ylabel(\"Events\")\n",
    "plt.xlabel(\"$\\~{m}_X$ (in GeV/c$^2$)\")\n",
    "#plt.show()\n",
    "plt.savefig(\"hh_mtilda_x.png\")\n",
    "plt.close()"
   ]
  },
  {
   "cell_type": "code",
   "execution_count": 1322,
   "metadata": {
    "collapsed": false
   },
   "outputs": [],
   "source": [
    "plt.figure(20)\n",
    "gbybdtcat=dfs[\"node_box\"].groupby('bdtcat')\n",
    "for icat in range(0,4):\n",
    "    dfc=gbybdtcat.get_group(icat)\n",
    "    dfc.mtilda_x.hist(range=[250,1000],bins=20,normed=True,histtype=\"step\",label=\"bdtcat %d\" % icat) \n",
    "plt.ylabel(\"Events\")\n",
    "plt.xlabel(\"$\\~{m}_X$ (in GeV/c$^2$)\")\n",
    "plt.legend()\n",
    "#plt.show()\n",
    "plt.savefig(\"hh_mtilda_x_category_bdt.png\")\n",
    "plt.close()"
   ]
  },
  {
   "cell_type": "code",
   "execution_count": 1323,
   "metadata": {
    "collapsed": false
   },
   "outputs": [],
   "source": [
    "plt.figure(21)\n",
    "gbymxcat=dfs[\"node_box\"].groupby('mxcat')\n",
    "for icat in range(0,5):\n",
    "    dfc=gbymxcat.get_group(icat)\n",
    "    dfc.mtilda_x.hist(range=[250,1000],bins=20,normed=True,histtype=\"step\",label=\"mxcat %d\" % icat) \n",
    "plt.ylabel(\"Events\")\n",
    "plt.xlabel(\"$\\~{m}_X$ (in GeV/c$^2$)\")\n",
    "plt.legend()\n",
    "#plt.show()\n",
    "plt.savefig(\"hh_mtilda_x_category_mx.png\")\n",
    "plt.close()"
   ]
  },
  {
   "cell_type": "code",
   "execution_count": 1324,
   "metadata": {
    "collapsed": false
   },
   "outputs": [],
   "source": [
    "plt.figure(22)\n",
    "gbycat=dfs[\"node_box\"].groupby('cat')\n",
    "for icat in range(0,5):\n",
    "    dfc=gbycat.get_group(icat)\n",
    "    dfc.mtilda_x.hist(range=[250,1000],bins=20,normed=True,histtype=\"step\",label=\"cat %d\" % icat) \n",
    "plt.ylabel(\"Events\")\n",
    "plt.xlabel(\"$\\~{m}_X$ (in GeV/c$^2$)\")\n",
    "plt.legend()\n",
    "#plt.show()\n",
    "plt.savefig(\"hh_mtilda_x_category_1-4.png\")\n",
    "plt.close()"
   ]
  },
  {
   "cell_type": "code",
   "execution_count": 1325,
   "metadata": {
    "collapsed": false
   },
   "outputs": [],
   "source": [
    "plt.figure(23)\n",
    "gbycat=dfs[\"node_box\"].groupby('cat')\n",
    "dfc=gbycat.get_group(0)\n",
    "dfc.mtilda_x.hist(range=[250,1000],bins=20,normed=True,histtype=\"step\",label=\"cat %d\" % 0)\n",
    "for icat in range(5,9):\n",
    "    dfc=gbycat.get_group(icat)\n",
    "    dfc.mtilda_x.hist(range=[250,1000],bins=20,normed=True,histtype=\"step\",label=\"cat %d\" % icat) \n",
    "plt.ylabel(\"Events\")\n",
    "plt.xlabel(\"$\\~{m}_X$ (in GeV/c$^2$)\")\n",
    "plt.legend()\n",
    "#plt.show()\n",
    "plt.savefig(\"hh_mtilda_x_category_5-8.png\")\n",
    "plt.close()"
   ]
  },
  {
   "cell_type": "code",
   "execution_count": 1326,
   "metadata": {
    "collapsed": false
   },
   "outputs": [],
   "source": [
    "plt.figure(24)\n",
    "gbycat=dfs[\"node_box\"].groupby('cat')\n",
    "dfc=gbycat.get_group(0)\n",
    "dfc.mtilda_x.hist(range=[250,1000],bins=20,normed=True,histtype=\"step\",label=\"cat %d\" % 0)\n",
    "for icat in range(9,13):\n",
    "    dfc=gbycat.get_group(icat)\n",
    "    dfc.mtilda_x.hist(range=[250,1000],bins=20,normed=True,histtype=\"step\",label=\"cat %d\" % icat) \n",
    "plt.ylabel(\"Events\")\n",
    "plt.xlabel(\"$\\~{m}_X$ (in GeV/c$^2$)\")\n",
    "plt.legend()\n",
    "#plt.show()\n",
    "plt.savefig(\"hh_mtilda_x_category_9-12.png\")\n",
    "plt.close()"
   ]
  },
  {
   "cell_type": "code",
   "execution_count": 1327,
   "metadata": {
    "collapsed": false
   },
   "outputs": [],
   "source": [
    "plt.figure(25)\n",
    "dfs[\"node_box\"].hgg_pt_hh_m.hist(range=[0,1],bins=150)\n",
    "plt.ylabel(\"Events\")\n",
    "plt.xlabel(\"pT($\\gamma\\gamma$)/M(jj$\\gamma\\gamma$) (in c)\")\n",
    "#plt.show()\n",
    "plt.savefig(\"hgg_pt_hh_m.png\")\n",
    "plt.close()"
   ]
  },
  {
   "cell_type": "code",
   "execution_count": 1328,
   "metadata": {
    "collapsed": false
   },
   "outputs": [],
   "source": [
    "plt.figure(26)\n",
    "gbybdtcat=dfs[\"node_box\"].groupby('bdtcat')\n",
    "for icat in range(0,4):\n",
    "    dfc=gbybdtcat.get_group(icat)\n",
    "    dfc.hgg_pt_hh_m.hist(range=[0,1],bins=20,normed=True,histtype=\"step\",label=\"bdtcat %d\" % icat) \n",
    "plt.ylabel(\"Events\")\n",
    "plt.xlabel(\"pT($\\gamma\\gamma$)/M(jj$\\gamma\\gamma$) (in c)\")\n",
    "plt.legend()\n",
    "#plt.show()\n",
    "plt.savefig(\"hgg_pt_hh_m_category_bdt.png\")\n",
    "plt.close()"
   ]
  },
  {
   "cell_type": "code",
   "execution_count": 1329,
   "metadata": {
    "collapsed": false
   },
   "outputs": [],
   "source": [
    "plt.figure(27)\n",
    "gbymxcat=dfs[\"node_box\"].groupby('mxcat')\n",
    "for icat in range(0,5):\n",
    "    dfc=gbymxcat.get_group(icat)\n",
    "    dfc.hgg_pt_hh_m.hist(range=[0,1],bins=20,normed=True,histtype=\"step\",label=\"mxcat %d\" % icat) \n",
    "plt.ylabel(\"Events\")\n",
    "plt.xlabel(\"pT($\\gamma\\gamma$)/M(jj$\\gamma\\gamma$) (in c)\")\n",
    "plt.legend()\n",
    "#plt.show()\n",
    "plt.savefig(\"hgg_pt_hh_m_category_mx.png\")\n",
    "plt.close()"
   ]
  },
  {
   "cell_type": "code",
   "execution_count": 1330,
   "metadata": {
    "collapsed": false
   },
   "outputs": [],
   "source": [
    "plt.figure(28)\n",
    "gbycat=dfs[\"node_box\"].groupby('cat')\n",
    "for icat in range(0,5):\n",
    "    dfc=gbycat.get_group(icat)\n",
    "    dfc.hgg_pt_hh_m.hist(range=[0,1],bins=20,normed=True,histtype=\"step\",label=\"cat %d\" % icat) \n",
    "plt.ylabel(\"Events\")\n",
    "plt.xlabel(\"pT($\\gamma\\gamma$)/M(jj$\\gamma\\gamma$) (in c)\")\n",
    "plt.legend()\n",
    "#plt.show()\n",
    "plt.savefig(\"hgg_pt_hh_m_category_1-4.png\")\n",
    "plt.close()"
   ]
  },
  {
   "cell_type": "code",
   "execution_count": 1331,
   "metadata": {
    "collapsed": false
   },
   "outputs": [],
   "source": [
    "plt.figure(29)\n",
    "gbycat=dfs[\"node_box\"].groupby('cat')\n",
    "dfc=gbycat.get_group(0)\n",
    "dfc.hgg_pt_hh_m.hist(range=[0,1],bins=20,normed=True,histtype=\"step\",label=\"cat %d\" % 0)\n",
    "for icat in range(5,9):\n",
    "    dfc=gbycat.get_group(icat)\n",
    "    dfc.hgg_pt_hh_m.hist(range=[0,1],bins=20,normed=True,histtype=\"step\",label=\"cat %d\" % icat) \n",
    "plt.ylabel(\"Events\")\n",
    "plt.xlabel(\"pT($\\gamma\\gamma$)/M(jj$\\gamma\\gamma$) (in c)\")\n",
    "plt.legend()\n",
    "#plt.show()\n",
    "plt.savefig(\"hgg_pt_hh_m_category_5-8.png\")\n",
    "plt.close()"
   ]
  },
  {
   "cell_type": "code",
   "execution_count": 1332,
   "metadata": {
    "collapsed": false
   },
   "outputs": [],
   "source": [
    "plt.figure(30)\n",
    "gbycat=dfs[\"node_box\"].groupby('cat')\n",
    "dfc=gbycat.get_group(0)\n",
    "dfc.hgg_pt_hh_m.hist(range=[0,1],bins=20,normed=True,histtype=\"step\",label=\"cat %d\" % 0)\n",
    "for icat in range(9,13):\n",
    "    dfc=gbycat.get_group(icat)\n",
    "    dfc.hgg_pt_hh_m.hist(range=[0,1],bins=20,normed=True,histtype=\"step\",label=\"cat %d\" % icat) \n",
    "plt.ylabel(\"Events\")\n",
    "plt.xlabel(\"pT($\\gamma\\gamma$)/M(jj$\\gamma\\gamma$) (in c)\")\n",
    "plt.legend()\n",
    "#plt.show()\n",
    "plt.savefig(\"hgg_pt_hh_m_category_9-12.png\")\n",
    "plt.close()"
   ]
  },
  {
   "cell_type": "code",
   "execution_count": 1333,
   "metadata": {
    "collapsed": false
   },
   "outputs": [],
   "source": [
    "plt.figure(31)\n",
    "dfs[\"node_box\"].hbb_pt_hh_m.hist(range=[0,1],bins=150)\n",
    "plt.ylabel(\"Events\")\n",
    "plt.xlabel(\"pT(jj)/M(jj$\\gamma\\gamma$) (in c)\")\n",
    "#plt.show()\n",
    "plt.savefig(\"hbb_pt_hh_m.png\")\n",
    "plt.close()"
   ]
  },
  {
   "cell_type": "code",
   "execution_count": 1334,
   "metadata": {
    "collapsed": false
   },
   "outputs": [],
   "source": [
    "plt.figure(32)\n",
    "gbybdtcat=dfs[\"node_box\"].groupby('bdtcat')\n",
    "for icat in range(0,4):\n",
    "    dfc=gbybdtcat.get_group(icat)\n",
    "    dfc.hbb_pt_hh_m.hist(range=[0,1],bins=20,normed=True,histtype=\"step\",label=\"bdtcat %d\" % icat) \n",
    "plt.ylabel(\"Events\")\n",
    "plt.xlabel(\"pT(jj)/M(jj$\\gamma\\gamma$) (in c)\")\n",
    "plt.legend()\n",
    "#plt.show()\n",
    "plt.savefig(\"hbb_pt_hh_m_category_bdt.png\")\n",
    "plt.close()"
   ]
  },
  {
   "cell_type": "code",
   "execution_count": 1335,
   "metadata": {
    "collapsed": false
   },
   "outputs": [],
   "source": [
    "plt.figure(33)\n",
    "gbymxcat=dfs[\"node_box\"].groupby('mxcat')\n",
    "for icat in range(0,5):\n",
    "    dfc=gbymxcat.get_group(icat)\n",
    "    dfc.hbb_pt_hh_m.hist(range=[0,1],bins=20,normed=True,histtype=\"step\",label=\"mxcat %d\" % icat) \n",
    "plt.ylabel(\"Events\")\n",
    "plt.xlabel(\"pT(jj)/M(jj$\\gamma\\gamma$) (in c)\")\n",
    "plt.legend()\n",
    "#plt.show()\n",
    "plt.savefig(\"hbb_pt_hh_m_category_mx.png\")\n",
    "plt.close()"
   ]
  },
  {
   "cell_type": "code",
   "execution_count": 1336,
   "metadata": {
    "collapsed": false
   },
   "outputs": [],
   "source": [
    "plt.figure(34)\n",
    "gbycat=dfs[\"node_box\"].groupby('cat')\n",
    "for icat in range(0,5):\n",
    "    dfc=gbycat.get_group(icat)\n",
    "    dfc.hbb_pt_hh_m.hist(range=[0,1],bins=20,normed=True,histtype=\"step\",label=\"cat %d\" % icat) \n",
    "plt.ylabel(\"Events\")\n",
    "plt.xlabel(\"pT(jj)/M(jj$\\gamma\\gamma$) (in c)\")\n",
    "plt.legend()\n",
    "#plt.show()\n",
    "plt.savefig(\"hbb_pt_hh_m_category_1-4.png\")\n",
    "plt.close()"
   ]
  },
  {
   "cell_type": "code",
   "execution_count": 1337,
   "metadata": {
    "collapsed": false
   },
   "outputs": [],
   "source": [
    "plt.figure(35)\n",
    "gbycat=dfs[\"node_box\"].groupby('cat')\n",
    "dfc=gbycat.get_group(0)\n",
    "dfc.hbb_pt_hh_m.hist(range=[0,1],bins=20,normed=True,histtype=\"step\",label=\"cat %d\" % 0)\n",
    "for icat in range(5,9):\n",
    "    dfc=gbycat.get_group(icat)\n",
    "    dfc.hbb_pt_hh_m.hist(range=[0,1],bins=20,normed=True,histtype=\"step\",label=\"cat %d\" % icat) \n",
    "plt.ylabel(\"Events\")\n",
    "plt.xlabel(\"pT(jj)/M(jj$\\gamma\\gamma$) (in c)\")\n",
    "plt.legend()\n",
    "#plt.show()\n",
    "plt.savefig(\"hbb_pt_hh_m_category_5-8.png\")\n",
    "plt.close()"
   ]
  },
  {
   "cell_type": "code",
   "execution_count": 1338,
   "metadata": {
    "collapsed": false
   },
   "outputs": [],
   "source": [
    "plt.figure(36)\n",
    "gbycat=dfs[\"node_box\"].groupby('cat')\n",
    "dfc=gbycat.get_group(0)\n",
    "dfc.hbb_pt_hh_m.hist(range=[0,1],bins=20,normed=True,histtype=\"step\",label=\"cat %d\" % 0)\n",
    "for icat in range(9,13):\n",
    "    dfc=gbycat.get_group(icat)\n",
    "    dfc.hbb_pt_hh_m.hist(range=[0,1],bins=20,normed=True,histtype=\"step\",label=\"cat %d\" % icat) \n",
    "plt.ylabel(\"Events\")\n",
    "plt.xlabel(\"pT(jj)/M(jj$\\gamma\\gamma$) (in c)\")\n",
    "plt.legend()\n",
    "#plt.show()\n",
    "plt.savefig(\"hbb_pt_hh_m_category_9-12.png\")\n",
    "plt.close()"
   ]
  },
  {
   "cell_type": "code",
   "execution_count": 1339,
   "metadata": {
    "collapsed": false
   },
   "outputs": [],
   "source": [
    "plt.figure(37)\n",
    "np.abs(dfs[\"node_box\"].cos_theta_cs).hist(bins=150)\n",
    "plt.ylabel(\"Events\")\n",
    "plt.xlabel(\"|cos$\\Theta_{CS}^*$|\")\n",
    "#plt.show()\n",
    "plt.savefig(\"cos_theta_cs.png\")\n",
    "plt.close()"
   ]
  },
  {
   "cell_type": "code",
   "execution_count": 1340,
   "metadata": {
    "collapsed": false
   },
   "outputs": [],
   "source": [
    "plt.figure(38)\n",
    "gbybdtcat=dfs[\"node_box\"].groupby('bdtcat')\n",
    "for icat in range(0,4):\n",
    "    dfc=gbybdtcat.get_group(icat)\n",
    "    np.abs(dfc.cos_theta_cs).hist(bins=20,normed=True,histtype=\"step\",label=\"bdtcat %d\" % icat) \n",
    "plt.ylabel(\"Events\")\n",
    "plt.xlabel(\"|cos$\\Theta_{CS}^*$|\")\n",
    "plt.legend()\n",
    "#plt.show()\n",
    "plt.savefig(\"cos_theta_cs_category_bdt.png\")\n",
    "plt.close()"
   ]
  },
  {
   "cell_type": "code",
   "execution_count": 1341,
   "metadata": {
    "collapsed": false
   },
   "outputs": [],
   "source": [
    "plt.figure(39)\n",
    "gbymxcat=dfs[\"node_box\"].groupby('mxcat')\n",
    "for icat in range(0,5):\n",
    "    dfc=gbymxcat.get_group(icat)\n",
    "    np.abs(dfc.cos_theta_cs).hist(bins=20,normed=True,histtype=\"step\",label=\"mxcat %d\" % icat) \n",
    "plt.ylabel(\"Events\")\n",
    "plt.xlabel(\"|cos$\\Theta_{CS}^*$|\")\n",
    "plt.legend()\n",
    "#plt.show()\n",
    "plt.savefig(\"cos_theta_cs_category_mx.png\")\n",
    "plt.close()"
   ]
  },
  {
   "cell_type": "code",
   "execution_count": 1342,
   "metadata": {
    "collapsed": false
   },
   "outputs": [],
   "source": [
    "plt.figure(40)\n",
    "gbycat=dfs[\"node_box\"].groupby('cat')\n",
    "for icat in range(0,5):\n",
    "    dfc=gbycat.get_group(icat)\n",
    "    np.abs(dfc.cos_theta_cs).hist(bins=20,normed=True,histtype=\"step\",label=\"cat %d\" % icat) \n",
    "plt.ylabel(\"Events\")\n",
    "plt.xlabel(\"|cos$\\Theta_{CS}^*$|\")\n",
    "plt.legend()\n",
    "#plt.show()\n",
    "plt.savefig(\"cos_theta_cs_category_1-4.png\")\n",
    "plt.close()"
   ]
  },
  {
   "cell_type": "code",
   "execution_count": 1343,
   "metadata": {
    "collapsed": false
   },
   "outputs": [],
   "source": [
    "plt.figure(41)\n",
    "gbycat=dfs[\"node_box\"].groupby('cat')\n",
    "dfc=gbycat.get_group(0)\n",
    "np.abs(dfc.cos_theta_cs).hist(bins=20,normed=True,histtype=\"step\",label=\"cat %d\" % 0)\n",
    "for icat in range(5,9):\n",
    "    dfc=gbycat.get_group(icat)\n",
    "    np.abs(dfc.cos_theta_cs).hist(bins=20,normed=True,histtype=\"step\",label=\"cat %d\" % icat) \n",
    "plt.ylabel(\"Events\")\n",
    "plt.xlabel(\"|cos$\\Theta_{CS}^*$|\")\n",
    "plt.legend()\n",
    "#plt.show()\n",
    "plt.savefig(\"cos_theta_cs_category_5-8.png\")\n",
    "plt.close()"
   ]
  },
  {
   "cell_type": "code",
   "execution_count": 1344,
   "metadata": {
    "collapsed": false
   },
   "outputs": [],
   "source": [
    "plt.figure(42)\n",
    "gbycat=dfs[\"node_box\"].groupby('cat')\n",
    "dfc=gbycat.get_group(0)\n",
    "np.abs(dfc.cos_theta_cs).hist(bins=20,normed=True,histtype=\"step\",label=\"cat %d\" % 0)\n",
    "for icat in range(9,13):\n",
    "    dfc=gbycat.get_group(icat)\n",
    "    np.abs(dfc.cos_theta_cs).hist(bins=20,normed=True,histtype=\"step\",label=\"cat %d\" % icat) \n",
    "plt.ylabel(\"Events\")\n",
    "plt.xlabel(\"|cos$\\Theta_{CS}^*$|\")\n",
    "plt.legend()\n",
    "#plt.show()\n",
    "plt.savefig(\"cos_theta_cs_category_9-12.png\")\n",
    "plt.close()"
   ]
  },
  {
   "cell_type": "code",
   "execution_count": 1345,
   "metadata": {
    "collapsed": false
   },
   "outputs": [],
   "source": [
    "plt.figure(43)\n",
    "np.abs(dfs[\"node_box\"].cos_theta_hbb).hist(bins=150)\n",
    "plt.ylabel(\"Events\")\n",
    "plt.xlabel(\"|cos$\\Theta_{bb}^*$|\")\n",
    "#plt.show()\n",
    "plt.savefig(\"cos_theta_bb.png\")\n",
    "plt.close()"
   ]
  },
  {
   "cell_type": "code",
   "execution_count": 1346,
   "metadata": {
    "collapsed": false
   },
   "outputs": [],
   "source": [
    "plt.figure(44)\n",
    "gbybdtcat=dfs[\"node_box\"].groupby('bdtcat')\n",
    "for icat in range(0,4):\n",
    "    dfc=gbybdtcat.get_group(icat)\n",
    "    np.abs(dfc.cos_theta_hbb).hist(bins=20,normed=True,histtype=\"step\",label=\"bdtcat %d\" % icat) \n",
    "plt.ylabel(\"Events\")\n",
    "plt.xlabel(\"|cos$\\Theta_{bb}^*$|\")\n",
    "plt.legend()\n",
    "#plt.show()\n",
    "plt.savefig(\"cos_theta_bb_category_bdt.png\")\n",
    "plt.close()"
   ]
  },
  {
   "cell_type": "code",
   "execution_count": 1347,
   "metadata": {
    "collapsed": false
   },
   "outputs": [],
   "source": [
    "plt.figure(45)\n",
    "gbymxcat=dfs[\"node_box\"].groupby('mxcat')\n",
    "for icat in range(0,5):\n",
    "    dfc=gbymxcat.get_group(icat)\n",
    "    np.abs(dfc.cos_theta_hbb).hist(bins=20,normed=True,histtype=\"step\",label=\"mxcat %d\" % icat) \n",
    "plt.ylabel(\"Events\")\n",
    "plt.xlabel(\"|cos$\\Theta_{bb}^*$|\")\n",
    "plt.legend()\n",
    "#plt.show()\n",
    "plt.savefig(\"cos_theta_bb_category_mx.png\")\n",
    "plt.close()"
   ]
  },
  {
   "cell_type": "code",
   "execution_count": 1348,
   "metadata": {
    "collapsed": false
   },
   "outputs": [],
   "source": [
    "plt.figure(46)\n",
    "gbycat=dfs[\"node_box\"].groupby('cat')\n",
    "for icat in range(0,5):\n",
    "    dfc=gbycat.get_group(icat)\n",
    "    np.abs(dfc.cos_theta_hbb).hist(bins=20,normed=True,histtype=\"step\",label=\"cat %d\" % icat) \n",
    "plt.ylabel(\"Events\")\n",
    "plt.xlabel(\"|cos$\\Theta_{bb}^*$|\")\n",
    "plt.legend()\n",
    "#plt.show()\n",
    "plt.savefig(\"cos_theta_bb_category_1-4.png\")\n",
    "plt.close()"
   ]
  },
  {
   "cell_type": "code",
   "execution_count": 1349,
   "metadata": {
    "collapsed": false
   },
   "outputs": [],
   "source": [
    "plt.figure(47)\n",
    "gbycat=dfs[\"node_box\"].groupby('cat')\n",
    "dfc=gbycat.get_group(0)\n",
    "np.abs(dfc.cos_theta_hbb).hist(bins=20,normed=True,histtype=\"step\",label=\"cat %d\" % 0) \n",
    "for icat in range(5,9):\n",
    "    dfc=gbycat.get_group(icat)\n",
    "    np.abs(dfc.cos_theta_hbb).hist(bins=20,normed=True,histtype=\"step\",label=\"cat %d\" % icat) \n",
    "plt.ylabel(\"Events\")\n",
    "plt.xlabel(\"|cos$\\Theta_{bb}^*$|\")\n",
    "plt.legend()\n",
    "#plt.show()\n",
    "plt.savefig(\"cos_theta_bb_category_5-8.png\")\n",
    "plt.close()"
   ]
  },
  {
   "cell_type": "code",
   "execution_count": 1350,
   "metadata": {
    "collapsed": false
   },
   "outputs": [],
   "source": [
    "plt.figure(48)\n",
    "gbycat=dfs[\"node_box\"].groupby('cat')\n",
    "dfc=gbycat.get_group(0)\n",
    "np.abs(dfc.cos_theta_hbb).hist(bins=20,normed=True,histtype=\"step\",label=\"cat %d\" % 0) \n",
    "for icat in range(9,13):\n",
    "    dfc=gbycat.get_group(icat)\n",
    "    np.abs(dfc.cos_theta_hbb).hist(bins=20,normed=True,histtype=\"step\",label=\"cat %d\" % icat) \n",
    "plt.ylabel(\"Events\")\n",
    "plt.xlabel(\"|cos$\\Theta_{bb}^*$|\")\n",
    "plt.legend()\n",
    "#plt.show()\n",
    "plt.savefig(\"cos_theta_bb_category_9-12.png\")\n",
    "plt.close()"
   ]
  },
  {
   "cell_type": "code",
   "execution_count": 1351,
   "metadata": {
    "collapsed": false
   },
   "outputs": [],
   "source": [
    "plt.figure(49)\n",
    "np.abs(dfs[\"node_box\"].cos_theta_hgg).hist(bins=150)\n",
    "plt.ylabel(\"Events\")\n",
    "plt.xlabel(\"|cos$\\Theta_{\\gamma\\gamma}^*$|\")\n",
    "#plt.show()\n",
    "plt.savefig(\"cos_theta_gg.png\")\n",
    "plt.close()"
   ]
  },
  {
   "cell_type": "code",
   "execution_count": 1352,
   "metadata": {
    "collapsed": false
   },
   "outputs": [],
   "source": [
    "plt.figure(50)\n",
    "gbybdtcat=dfs[\"node_box\"].groupby('bdtcat')\n",
    "for icat in range(0,4):\n",
    "    dfc=gbybdtcat.get_group(icat)\n",
    "    np.abs(dfc.cos_theta_hgg).hist(bins=20,normed=True,histtype=\"step\",label=\"bdtcat %d\" % icat) \n",
    "plt.ylabel(\"Events\")\n",
    "plt.xlabel(\"|cos$\\Theta_{\\gamma\\gamma}^*$|\")\n",
    "plt.legend()\n",
    "#plt.show()\n",
    "plt.savefig(\"cos_theta_gg_category_bdt.png\")\n",
    "plt.close()"
   ]
  },
  {
   "cell_type": "code",
   "execution_count": 1353,
   "metadata": {
    "collapsed": false
   },
   "outputs": [],
   "source": [
    "plt.figure(51)\n",
    "gbymxcat=dfs[\"node_box\"].groupby('mxcat')\n",
    "for icat in range(0,5):\n",
    "    dfc=gbymxcat.get_group(icat)\n",
    "    np.abs(dfc.cos_theta_hgg).hist(bins=20,normed=True,histtype=\"step\",label=\"mxcat %d\" % icat) \n",
    "plt.ylabel(\"Events\")\n",
    "plt.xlabel(\"|cos$\\Theta_{\\gamma\\gamma}^*$|\")\n",
    "plt.legend()\n",
    "#plt.show()\n",
    "plt.savefig(\"cos_theta_gg_category_mx.png\")\n",
    "plt.close()"
   ]
  },
  {
   "cell_type": "code",
   "execution_count": 1354,
   "metadata": {
    "collapsed": false
   },
   "outputs": [],
   "source": [
    "plt.figure(52)\n",
    "gbycat=dfs[\"node_box\"].groupby('cat')\n",
    "for icat in range(0,5):\n",
    "    dfc=gbycat.get_group(icat)\n",
    "    np.abs(dfc.cos_theta_hgg).hist(bins=20,normed=True,histtype=\"step\",label=\"cat %d\" % icat) \n",
    "plt.ylabel(\"Events\")\n",
    "plt.xlabel(\"|cos$\\Theta_{\\gamma\\gamma}^*$|\")\n",
    "plt.legend()\n",
    "#plt.show()\n",
    "plt.savefig(\"cos_theta_gg_category_1-4.png\")\n",
    "plt.close()"
   ]
  },
  {
   "cell_type": "code",
   "execution_count": 1355,
   "metadata": {
    "collapsed": false
   },
   "outputs": [],
   "source": [
    "plt.figure(53)\n",
    "gbycat=dfs[\"node_box\"].groupby('cat')\n",
    "dfc=gbycat.get_group(0)\n",
    "np.abs(dfc.cos_theta_hgg).hist(bins=20,normed=True,histtype=\"step\",label=\"cat %d\" % 0) \n",
    "for icat in range(5,9):\n",
    "    dfc=gbycat.get_group(icat)\n",
    "    np.abs(dfc.cos_theta_hgg).hist(bins=20,normed=True,histtype=\"step\",label=\"cat %d\" % icat) \n",
    "plt.ylabel(\"Events\")\n",
    "plt.xlabel(\"|cos$\\Theta_{\\gamma\\gamma}^*$|\")\n",
    "plt.legend()\n",
    "#plt.show()\n",
    "plt.savefig(\"cos_theta_gg_category_5-8.png\")\n",
    "plt.close()"
   ]
  },
  {
   "cell_type": "code",
   "execution_count": 1356,
   "metadata": {
    "collapsed": false
   },
   "outputs": [],
   "source": [
    "plt.figure(54)\n",
    "gbycat=dfs[\"node_box\"].groupby('cat')\n",
    "dfc=gbycat.get_group(0)\n",
    "np.abs(dfc.cos_theta_hgg).hist(bins=20,normed=True,histtype=\"step\",label=\"cat %d\" % 0) \n",
    "for icat in range(9,13):\n",
    "    dfc=gbycat.get_group(icat)\n",
    "    np.abs(dfc.cos_theta_hgg).hist(bins=20,normed=True,histtype=\"step\",label=\"cat %d\" % icat) \n",
    "plt.ylabel(\"Events\")\n",
    "plt.xlabel(\"|cos$\\Theta_{\\gamma\\gamma}^*$|\")\n",
    "plt.legend()\n",
    "#plt.show()\n",
    "plt.savefig(\"cos_theta_gg_category_9-12.png\")\n",
    "plt.close()"
   ]
  },
  {
   "cell_type": "code",
   "execution_count": 1357,
   "metadata": {
    "collapsed": false
   },
   "outputs": [],
   "source": [
    "#hdf: hierarchial data format\n",
    "\n",
    "for proc,df in dfs.items():\n",
    "    df.to_hdf(proc+\".hd5\",proc,mode=\"w\") #mode w: write"
   ]
  },
  {
   "cell_type": "code",
   "execution_count": 1358,
   "metadata": {
    "collapsed": false
   },
   "outputs": [
    {
     "name": "stdout",
     "output_type": "stream",
     "text": [
      "node_10.hd5  node_13.hd5  node_4.hd5  node_7.hd5  node_box.hd5\r\n",
      "node_11.hd5  node_2.hd5   node_5.hd5  node_8.hd5  node_SM.hd5\r\n",
      "node_12.hd5  node_3.hd5   node_6.hd5  node_9.hd5\r\n"
     ]
    }
   ],
   "source": [
    "! ls *.hd5"
   ]
  },
  {
   "cell_type": "code",
   "execution_count": 1359,
   "metadata": {
    "collapsed": false
   },
   "outputs": [
    {
     "name": "stdout",
     "output_type": "stream",
     "text": [
      "              leadJet_px  leadJet_py  leadJet_pz   leadJet_e     hbb_px  \\\n",
      "random_index                                                              \n",
      "0             -37.933025  248.354462  136.126709  285.782104  10.607731   \n",
      "\n",
      "                  hbb_py      hbb_pz       hbb_e  \n",
      "random_index                                      \n",
      "0             287.979553  170.442719  357.378418  \n",
      "\n",
      "angle between parent and daughter:  13.9223028783\n",
      "angle between parent and daughter_boost1:  61.5810367216\n",
      "angle between parent and daughter_boost2:  2.87104639853\n",
      "\n",
      "conclusion-booster boosts backward (angle increases), negative booster boosts forward (angle decreases)\n"
     ]
    }
   ],
   "source": [
    "#checking boost stuff\n",
    "\n",
    "subset= dfs[\"node_SM\"][0:1][[\"leadJet_px\",\"leadJet_py\",\"leadJet_pz\",\"leadJet_e\",\"hbb_px\",\"hbb_py\",\"hbb_pz\",\"hbb_e\"]]\n",
    "print subset\n",
    "print \"\"\n",
    "\n",
    "#daughter- LeadJet, parent- hbb\n",
    "daughter=skp.LorentzVector(-108.967827,147.97934,-134.65498,227.87262)\n",
    "parent=skp.LorentzVector(-138.614395,135.423813,-217.983994,317.328613)\n",
    "daughter_vector=daughter.vector.unit()\n",
    "parent_vector=parent.vector.unit()\n",
    "print \"angle between parent and daughter: \",np.degrees(parent_vector.angle(daughter_vector))\n",
    "booster=parent.boostvector\n",
    "negativebooster=(-booster.x,-booster.y,-booster.z)\n",
    "daughter_boost1=daughter.boost(booster)\n",
    "daughter_boost2=daughter.boost(negativebooster)\n",
    "daughter_boost1_vector=daughter_boost1.vector.unit()\n",
    "daughter_boost2_vector=daughter_boost2.vector.unit()\n",
    "\n",
    "print \"angle between parent and daughter_boost1: \",np.degrees(parent_vector.angle(daughter_boost1_vector))\n",
    "print \"angle between parent and daughter_boost2: \",np.degrees(parent_vector.angle(daughter_boost2_vector))\n",
    "print \"\"\n",
    "print \"conclusion-booster boosts backward (angle increases), negative booster boosts forward (angle decreases)\""
   ]
  },
  {
   "cell_type": "code",
   "execution_count": null,
   "metadata": {
    "collapsed": true
   },
   "outputs": [],
   "source": []
  }
 ],
 "metadata": {
  "anaconda-cloud": {},
  "kernelspec": {
   "display_name": "Python [conda root]",
   "language": "python",
   "name": "conda-root-py"
  },
  "language_info": {
   "codemirror_mode": {
    "name": "ipython",
    "version": 2
   },
   "file_extension": ".py",
   "mimetype": "text/x-python",
   "name": "python",
   "nbconvert_exporter": "python",
   "pygments_lexer": "ipython2",
   "version": "2.7.12"
  }
 },
 "nbformat": 4,
 "nbformat_minor": 1
}

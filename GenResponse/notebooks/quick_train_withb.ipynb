{
 "cells": [
  {
   "cell_type": "code",
   "execution_count": 1,
   "metadata": {
    "collapsed": true
   },
   "outputs": [],
   "source": [
    "import pandas as pd\n",
    "import numpy as np\n",
    "import matplotlib.pyplot as plt\n",
    "from sklearn.model_selection import train_test_split\n",
    "import xgboost\n",
    "from xgboost import XGBClassifier\n",
    "from sklearn.externals import joblib\n",
    "from sklearn.preprocessing import RobustScaler"
   ]
  },
  {
   "cell_type": "code",
   "execution_count": 2,
   "metadata": {
    "collapsed": false
   },
   "outputs": [],
   "source": [
    "#merging for BDT training\n",
    "node_6=pd.read_hdf(\"node_6.hd5\")\n",
    "node_9=pd.read_hdf(\"node_9.hd5\")\n",
    "node_4=pd.read_hdf(\"node_4.hd5\")\n",
    "node_SM=pd.read_hdf(\"node_SM.hd5\")\n",
    "\n",
    "frames=[node_6,node_9,node_4,node_SM]\n",
    "df=pd.concat(frames)\n",
    "\n",
    "#indexing\n",
    "random_index = np.arange(df.shape[0]) \n",
    "np.random.shuffle(random_index)\n",
    "df[\"random_index\"]=random_index \n",
    "df.set_index(\"random_index\",inplace=True)\n",
    "df.sort_index(inplace=True)"
   ]
  },
  {
   "cell_type": "code",
   "execution_count": 3,
   "metadata": {
    "collapsed": false
   },
   "outputs": [
    {
     "data": {
      "text/plain": [
       "Index([u'candidate_id', u'weight', u'mgg', u'mbb', u'leadPho_px',\n",
       "       u'leadPho_py', u'leadPho_pz', u'leadPho_e', u'subleadPho_px',\n",
       "       u'subleadPho_py', u'subleadPho_pz', u'subleadPho_e', u'leadJet_px',\n",
       "       u'leadJet_py', u'leadJet_pz', u'leadJet_e', u'subleadJet_px',\n",
       "       u'subleadJet_py', u'subleadJet_pz', u'subleadJet_e', u'rho', u'nvtx',\n",
       "       u'event', u'lumi', u'processIndex', u'run', u'npu', u'puweight', u'cat',\n",
       "       u'bdtcat', u'mxcat', u'leadPho_pt', u'leadPho_eta', u'leadPho_phi',\n",
       "       u'leadPho_m', u'subleadPho_pt', u'subleadPho_eta', u'subleadPho_phi',\n",
       "       u'subleadPho_m', u'leadJet_pt', u'leadJet_eta', u'leadJet_phi',\n",
       "       u'leadJet_m', u'subleadJet_pt', u'subleadJet_eta', u'subleadJet_phi',\n",
       "       u'subleadJet_m', u'hgg_px', u'hgg_py', u'hgg_pz', u'hgg_e', u'hgg_pt',\n",
       "       u'hgg_eta', u'hgg_phi', u'hgg_m', u'hbb_px', u'hbb_py', u'hbb_pz',\n",
       "       u'hbb_e', u'hbb_pt', u'hbb_eta', u'hbb_phi', u'hbb_m', u'hh_px',\n",
       "       u'hh_py', u'hh_pz', u'hh_e', u'hh_pt', u'hh_eta', u'hh_phi', u'hh_m',\n",
       "       u'mtilda_x', u'hgg_pt_hh_m', u'hbb_pt_hh_m', u'cos_theta_cs',\n",
       "       u'cos_theta_hbb', u'cos_theta_hgg'],\n",
       "      dtype='object')"
      ]
     },
     "execution_count": 3,
     "metadata": {},
     "output_type": "execute_result"
    }
   ],
   "source": [
    "df.columns"
   ]
  },
  {
   "cell_type": "code",
   "execution_count": 4,
   "metadata": {
    "collapsed": false
   },
   "outputs": [
    {
     "data": {
      "image/png": "[encoded data removed]",
      "text/plain": [
       "<matplotlib.figure.Figure at 0x7f0318d3b750>"
      ]
     },
     "metadata": {},
     "output_type": "display_data"
    }
   ],
   "source": [
    "plt.figure(1)\n",
    "plt.hist(df['hh_m'],range=[250,1000],bins=150)\n",
    "plt.ylabel(\"Events\")\n",
    "plt.xlabel(\"hh$_m$ (in GeV/c$^2$)\")\n",
    "plt.show()\n",
    "plt.close()"
   ]
  },
  {
   "cell_type": "code",
   "execution_count": 5,
   "metadata": {
    "collapsed": false
   },
   "outputs": [],
   "source": [
    "features = ['hh_m','hh_pt', 'hh_eta','hgg_pt_hh_m','hbb_pt_hh_m','cos_theta_cs','cos_theta_hbb','cos_theta_hgg']\n",
    "features+=['leadJet_pt','leadJet_eta','subleadJet_pt','subleadJet_eta']\n",
    "features+=['leadPho_pt','leadPho_eta','subleadPho_pt','subleadPho_eta']"
   ]
  },
  {
   "cell_type": "code",
   "execution_count": 6,
   "metadata": {
    "collapsed": false
   },
   "outputs": [
    {
     "data": {
      "text/html": [
       "<div>\n",
       "<table border=\"1\" class=\"dataframe\">\n",
       "  <thead>\n",
       "    <tr style=\"text-align: right;\">\n",
       "      <th></th>\n",
       "      <th>sum</th>\n",
       "      <th>count</th>\n",
       "      <th>mean</th>\n",
       "    </tr>\n",
       "    <tr>\n",
       "      <th>cat</th>\n",
       "      <th></th>\n",
       "      <th></th>\n",
       "      <th></th>\n",
       "    </tr>\n",
       "  </thead>\n",
       "  <tbody>\n",
       "    <tr>\n",
       "      <th>0</th>\n",
       "      <td>2.971749</td>\n",
       "      <td>148936</td>\n",
       "      <td>0.000020</td>\n",
       "    </tr>\n",
       "    <tr>\n",
       "      <th>1</th>\n",
       "      <td>0.159532</td>\n",
       "      <td>8433</td>\n",
       "      <td>0.000019</td>\n",
       "    </tr>\n",
       "    <tr>\n",
       "      <th>2</th>\n",
       "      <td>0.152647</td>\n",
       "      <td>8202</td>\n",
       "      <td>0.000019</td>\n",
       "    </tr>\n",
       "    <tr>\n",
       "      <th>3</th>\n",
       "      <td>0.051188</td>\n",
       "      <td>2788</td>\n",
       "      <td>0.000018</td>\n",
       "    </tr>\n",
       "    <tr>\n",
       "      <th>4</th>\n",
       "      <td>0.013646</td>\n",
       "      <td>750</td>\n",
       "      <td>0.000018</td>\n",
       "    </tr>\n",
       "    <tr>\n",
       "      <th>5</th>\n",
       "      <td>0.030381</td>\n",
       "      <td>1523</td>\n",
       "      <td>0.000020</td>\n",
       "    </tr>\n",
       "    <tr>\n",
       "      <th>6</th>\n",
       "      <td>0.054648</td>\n",
       "      <td>2868</td>\n",
       "      <td>0.000019</td>\n",
       "    </tr>\n",
       "    <tr>\n",
       "      <th>7</th>\n",
       "      <td>0.041555</td>\n",
       "      <td>2245</td>\n",
       "      <td>0.000019</td>\n",
       "    </tr>\n",
       "    <tr>\n",
       "      <th>8</th>\n",
       "      <td>0.019401</td>\n",
       "      <td>1077</td>\n",
       "      <td>0.000018</td>\n",
       "    </tr>\n",
       "    <tr>\n",
       "      <th>9</th>\n",
       "      <td>0.029327</td>\n",
       "      <td>1446</td>\n",
       "      <td>0.000020</td>\n",
       "    </tr>\n",
       "    <tr>\n",
       "      <th>10</th>\n",
       "      <td>0.068618</td>\n",
       "      <td>3490</td>\n",
       "      <td>0.000020</td>\n",
       "    </tr>\n",
       "    <tr>\n",
       "      <th>11</th>\n",
       "      <td>0.056169</td>\n",
       "      <td>2957</td>\n",
       "      <td>0.000019</td>\n",
       "    </tr>\n",
       "    <tr>\n",
       "      <th>12</th>\n",
       "      <td>0.025995</td>\n",
       "      <td>1424</td>\n",
       "      <td>0.000018</td>\n",
       "    </tr>\n",
       "  </tbody>\n",
       "</table>\n",
       "</div>"
      ],
      "text/plain": [
       "          sum   count      mean\n",
       "cat                            \n",
       "0    2.971749  148936  0.000020\n",
       "1    0.159532    8433  0.000019\n",
       "2    0.152647    8202  0.000019\n",
       "3    0.051188    2788  0.000018\n",
       "4    0.013646     750  0.000018\n",
       "5    0.030381    1523  0.000020\n",
       "6    0.054648    2868  0.000019\n",
       "7    0.041555    2245  0.000019\n",
       "8    0.019401    1077  0.000018\n",
       "9    0.029327    1446  0.000020\n",
       "10   0.068618    3490  0.000020\n",
       "11   0.056169    2957  0.000019\n",
       "12   0.025995    1424  0.000018"
      ]
     },
     "execution_count": 6,
     "metadata": {},
     "output_type": "execute_result"
    }
   ],
   "source": [
    "#finding sum, count, mean of each category in weights column\n",
    "df.groupby('cat')['weight'].agg(['sum','count','mean'])"
   ]
  },
  {
   "cell_type": "code",
   "execution_count": 6,
   "metadata": {
    "collapsed": false
   },
   "outputs": [],
   "source": [
    "X = df[features]\n",
    "y = df['cat'] \n",
    "w = df['weight']\n",
    "\n",
    "scaler=RobustScaler()"
   ]
  },
  {
   "cell_type": "code",
   "execution_count": 8,
   "metadata": {
    "collapsed": false
   },
   "outputs": [
    {
     "data": {
      "image/png": "[encoded data removed]",
      "text/plain": [
       "<matplotlib.figure.Figure at 0x7f6798c84950>"
      ]
     },
     "metadata": {},
     "output_type": "display_data"
    }
   ],
   "source": [
    "#plotting truth histogram (weighted histogram of categories with logarithmic y scale)\n",
    "plt.figure(2)\n",
    "plt.hist(y,weights=w,bins=13,range=[-0.5,12.5],alpha=0.5)\n",
    "plt.ylabel('Events')\n",
    "plt.xlabel('Category')\n",
    "plt.yscale('log')\n",
    "plt.show()\n",
    "plt.close()"
   ]
  },
  {
   "cell_type": "code",
   "execution_count": 16,
   "metadata": {
    "collapsed": false
   },
   "outputs": [
    {
     "name": "stdout",
     "output_type": "stream",
     "text": [
      "CPU times: user 4min 12s, sys: 5.66 s, total: 4min 18s\n",
      "Wall time: 32.4 s\n"
     ]
    },
    {
     "data": {
      "text/plain": [
       "['clf.joblib']"
      ]
     },
     "execution_count": 16,
     "metadata": {},
     "output_type": "execute_result"
    }
   ],
   "source": [
    "#slicing data randomly into training and testing sets- we take 20% to be the testing set\n",
    "X_train, X_test, y_train, y_test, w_train, w_test = train_test_split(X,y,w,test_size=0.2,random_state=12345)\n",
    "w_train = np.abs(w_train)\n",
    "\n",
    "#scale data\n",
    "X_train=pd.DataFrame(scaler.fit_transform(X_train))\n",
    "X_test=pd.DataFrame(scaler.transform(X_test))\n",
    "\n",
    "X_test.to_hdf(\"X_test.hd5\",key='df',mode=\"w\")\n",
    "y_test.to_hdf(\"y_test.hd5\",key='df',mode=\"w\")\n",
    "w_test.to_hdf(\"w_test.hd5\",key='df',mode=\"w\")\n",
    "X_train.to_hdf(\"X_train.hd5\",key='df',mode=\"w\")\n",
    "y_train.to_hdf(\"y_train.hd5\",key='df',mode=\"w\")\n",
    "w_train.to_hdf(\"w_train.hd5\",key='df',mode=\"w\")\n",
    "\n",
    "#classifier fitted to training set \n",
    "clf=XGBClassifier(max_depth=10, n_estimators=300, n_jobs=8, objective='multi:softmax', subsample=0.8)\n",
    "%time clf.fit(X_train,y_train,w_train)\n",
    "joblib.dump(clf, 'clf.joblib') "
   ]
  },
  {
   "cell_type": "code",
   "execution_count": 17,
   "metadata": {
    "collapsed": false
   },
   "outputs": [
    {
     "name": "stdout",
     "output_type": "stream",
     "text": [
      "CPU times: user 6min 29s, sys: 6.81 s, total: 6min 35s\n",
      "Wall time: 49.6 s\n"
     ]
    },
    {
     "data": {
      "text/plain": [
       "['clf_50.joblib']"
      ]
     },
     "execution_count": 17,
     "metadata": {},
     "output_type": "execute_result"
    }
   ],
   "source": [
    "#reweighting and clipping it at 50\n",
    "\n",
    "X_train, X_test, y_train, y_test, w_train, w_test = train_test_split(X,y,w,test_size=0.2,random_state=12346)\n",
    "w_train = np.abs(w_train)\n",
    "\n",
    "#scale data\n",
    "X_train=pd.DataFrame(scaler.fit_transform(X_train))\n",
    "X_test=pd.DataFrame(scaler.transform(X_test))\n",
    "\n",
    "X_test.to_hdf(\"X_test_50.hd5\",key='df',mode=\"w\")\n",
    "y_test.to_hdf(\"y_test_50.hd5\",key='df',mode=\"w\")\n",
    "w_test.to_hdf(\"w_test_50.hd5\",key='df',mode=\"w\")\n",
    "\n",
    "h=np.histogram(y_train,weights=w_train,bins=13,range=[-0.5,12.5])\n",
    "a=1./h[0]\n",
    "a/=min(a)\n",
    "rw=np.clip(a,0,50)\n",
    "w_train*=rw[y_train]\n",
    "\n",
    "np.savetxt('rw_50.txt',rw)\n",
    "\n",
    "clf=XGBClassifier(max_depth=10, n_estimators=300, n_jobs=8, objective='multi:softmax', subsample=0.8)\n",
    "%time clf.fit(X_train,y_train,w_train)\n",
    "joblib.dump(clf, 'clf_50.joblib') "
   ]
  },
  {
   "cell_type": "code",
   "execution_count": 18,
   "metadata": {
    "collapsed": false
   },
   "outputs": [
    {
     "name": "stdout",
     "output_type": "stream",
     "text": [
      "CPU times: user 4min 45s, sys: 6.25 s, total: 4min 51s\n",
      "Wall time: 36.5 s\n"
     ]
    },
    {
     "data": {
      "text/plain": [
       "['clf_25.joblib']"
      ]
     },
     "execution_count": 18,
     "metadata": {},
     "output_type": "execute_result"
    }
   ],
   "source": [
    "#reweighting and clipping it at 25\n",
    "\n",
    "X_train, X_test, y_train, y_test, w_train, w_test = train_test_split(X,y,w,test_size=0.2,random_state=12347)\n",
    "w_train = np.abs(w_train)\n",
    "\n",
    "X_train=pd.DataFrame(scaler.fit_transform(X_train))\n",
    "X_test=pd.DataFrame(scaler.transform(X_test))\n",
    "\n",
    "X_test.to_hdf(\"X_test_25.hd5\",key='df',mode=\"w\")\n",
    "y_test.to_hdf(\"y_test_25.hd5\",key='df',mode=\"w\")\n",
    "w_test.to_hdf(\"w_test_25.hd5\",key='df',mode=\"w\")\n",
    "\n",
    "h=np.histogram(y_train,weights=w_train,bins=13,range=[-0.5,12.5])\n",
    "a=1./h[0]\n",
    "a/=min(a)\n",
    "rw=np.clip(a,0,25)\n",
    "w_train*=rw[y_train]\n",
    "\n",
    "np.savetxt('rw_25.txt',rw)\n",
    "\n",
    "clf=XGBClassifier(max_depth=10, n_estimators=300, n_jobs=8, objective='multi:softmax', subsample=0.8)\n",
    "%time clf.fit(X_train,y_train,w_train)\n",
    "joblib.dump(clf, 'clf_25.joblib') "
   ]
  },
  {
   "cell_type": "code",
   "execution_count": 19,
   "metadata": {
    "collapsed": false
   },
   "outputs": [
    {
     "name": "stdout",
     "output_type": "stream",
     "text": [
      "CPU times: user 4min 19s, sys: 5.85 s, total: 4min 25s\n",
      "Wall time: 33.2 s\n"
     ]
    },
    {
     "data": {
      "text/plain": [
       "['clf_10.joblib']"
      ]
     },
     "execution_count": 19,
     "metadata": {},
     "output_type": "execute_result"
    }
   ],
   "source": [
    "#reweighting and clipping it at 10\n",
    "\n",
    "#slicing data randomly into training and testing sets- we take 20% to be the testing set\n",
    "X_train, X_test, y_train, y_test, w_train, w_test = train_test_split(X,y,w,test_size=0.2,random_state=12348)\n",
    "w_train = np.abs(w_train)\n",
    "\n",
    "#scale data\n",
    "X_train=pd.DataFrame(scaler.fit_transform(X_train))\n",
    "X_test=pd.DataFrame(scaler.transform(X_test))\n",
    "\n",
    "X_test.to_hdf(\"X_test_10.hd5\",key='df',mode=\"w\")\n",
    "y_test.to_hdf(\"y_test_10.hd5\",key='df',mode=\"w\")\n",
    "w_test.to_hdf(\"w_test_10.hd5\",key='df',mode=\"w\")\n",
    "\n",
    "h=np.histogram(y_train,weights=w_train,bins=13,range=[-0.5,12.5])\n",
    "a=1./h[0]\n",
    "a/=min(a)\n",
    "rw=np.clip(a,0,10)\n",
    "w_train*=rw[y_train]\n",
    "\n",
    "np.savetxt('rw_10.txt',rw)\n",
    "\n",
    "clf=XGBClassifier(max_depth=10, n_estimators=300, n_jobs=8, objective='multi:softmax', subsample=0.8)\n",
    "%time clf.fit(X_train,y_train,w_train)\n",
    "joblib.dump(clf, 'clf_10.joblib') "
   ]
  },
  {
   "cell_type": "code",
   "execution_count": 11,
   "metadata": {
    "collapsed": false
   },
   "outputs": [
    {
     "data": {
      "image/png": "[encoded data removed]",
      "text/plain": [
       "<matplotlib.figure.Figure at 0x7f52787d8d10>"
      ]
     },
     "metadata": {},
     "output_type": "display_data"
    }
   ],
   "source": [
    "#features importance\n",
    "clf=joblib.load('clf_10.joblib')\n",
    "importance=clf.feature_importances_\n",
    "y_pos=np.arange(len(features))\n",
    "plt.barh(y_pos,importance,align='center',alpha=0.5)\n",
    "plt.yticks(y_pos,features)\n",
    "plt.xlabel('Importance Score')\n",
    "plt.show()"
   ]
  },
  {
   "cell_type": "code",
   "execution_count": 20,
   "metadata": {
    "collapsed": false
   },
   "outputs": [
    {
     "name": "stdout",
     "output_type": "stream",
     "text": [
      "CPU times: user 8min 24s, sys: 9.19 s, total: 8min 33s\n",
      "Wall time: 1min 4s\n"
     ]
    },
    {
     "data": {
      "text/plain": [
       "['clf_75.joblib']"
      ]
     },
     "execution_count": 20,
     "metadata": {},
     "output_type": "execute_result"
    }
   ],
   "source": [
    "#reweighting and clipping it at 75\n",
    "\n",
    "X_train, X_test, y_train, y_test, w_train, w_test = train_test_split(X,y,w,test_size=0.2,random_state=12349)\n",
    "w_train = np.abs(w_train)\n",
    "\n",
    "X_train=pd.DataFrame(scaler.fit_transform(X_train))\n",
    "X_test=pd.DataFrame(scaler.transform(X_test))\n",
    "\n",
    "X_test.to_hdf(\"X_test_75.hd5\",key='df',mode=\"w\")\n",
    "y_test.to_hdf(\"y_test_75.hd5\",key='df',mode=\"w\")\n",
    "w_test.to_hdf(\"w_test_75.hd5\",key='df',mode=\"w\")\n",
    "\n",
    "h=np.histogram(y_train,weights=w_train,bins=13,range=[-0.5,12.5])\n",
    "a=1./h[0]\n",
    "a/=min(a)\n",
    "rw=np.clip(a,0,75)\n",
    "w_train*=rw[y_train]\n",
    "\n",
    "np.savetxt('rw_75.txt',rw)\n",
    "\n",
    "clf=XGBClassifier(max_depth=10, n_estimators=300, n_jobs=8, objective='multi:softmax', subsample=0.8)\n",
    "%time clf.fit(X_train,y_train,w_train)\n",
    "joblib.dump(clf, 'clf_75.joblib') "
   ]
  },
  {
   "cell_type": "code",
   "execution_count": 21,
   "metadata": {
    "collapsed": false
   },
   "outputs": [
    {
     "name": "stdout",
     "output_type": "stream",
     "text": [
      "CPU times: user 7min 41s, sys: 6.28 s, total: 7min 47s\n",
      "Wall time: 58.6 s\n"
     ]
    },
    {
     "data": {
      "text/plain": [
       "['clf_90.joblib']"
      ]
     },
     "execution_count": 21,
     "metadata": {},
     "output_type": "execute_result"
    }
   ],
   "source": [
    "#reweighting and clipping it at 90\n",
    "\n",
    "X_train, X_test, y_train, y_test, w_train, w_test = train_test_split(X,y,w,test_size=0.2,random_state=12350)\n",
    "w_train = np.abs(w_train)\n",
    "\n",
    "X_train=pd.DataFrame(scaler.fit_transform(X_train))\n",
    "X_test=pd.DataFrame(scaler.transform(X_test))\n",
    "\n",
    "X_test.to_hdf(\"X_test_90.hd5\",key='df',mode=\"w\")\n",
    "y_test.to_hdf(\"y_test_90.hd5\",key='df',mode=\"w\")\n",
    "w_test.to_hdf(\"w_test_90.hd5\",key='df',mode=\"w\")\n",
    "\n",
    "h=np.histogram(y_train,weights=w_train,bins=13,range=[-0.5,12.5])\n",
    "a=1./h[0]\n",
    "a/=min(a)\n",
    "rw=np.clip(a,0,90)\n",
    "w_train*=rw[y_train]\n",
    "\n",
    "np.savetxt('rw_90.txt',rw)\n",
    "\n",
    "clf=XGBClassifier(max_depth=10, n_estimators=300, n_jobs=8, objective='multi:softmax', subsample=0.8)\n",
    "%time clf.fit(X_train,y_train,w_train)\n",
    "joblib.dump(clf, 'clf_90.joblib')"
   ]
  },
  {
   "cell_type": "code",
   "execution_count": 11,
   "metadata": {
    "collapsed": false
   },
   "outputs": [
    {
     "name": "stdout",
     "output_type": "stream",
     "text": [
      "Best accuracy\n",
      "    clip_weight  learning_rate  max_depth  n_estimators  reg_lambda  \\\n",
      "24           40            0.5          7           800         0.1   \n",
      "\n",
      "    subsample  accu_mean  accu_stdev  cross_mean  cross_stdev  \n",
      "24        0.6   0.499228    0.001571    1.653461     0.006119  \n"
     ]
    }
   ],
   "source": [
    "opt_accu=pd.read_hdf(\"optimisation_accu.hd5\")\n",
    "print \"Best accuracy\"\n",
    "print opt_accu[0:1]"
   ]
  },
  {
   "cell_type": "code",
   "execution_count": 13,
   "metadata": {
    "collapsed": false
   },
   "outputs": [
    {
     "name": "stdout",
     "output_type": "stream",
     "text": [
      "CPU times: user 11min 55s, sys: 16.5 s, total: 12min 12s\n",
      "Wall time: 1min 31s\n"
     ]
    },
    {
     "data": {
      "text/plain": [
       "['clf_opt_accu.joblib']"
      ]
     },
     "execution_count": 13,
     "metadata": {},
     "output_type": "execute_result"
    }
   ],
   "source": [
    "#optimized- highest accuracy parameters: {'clip_weight': 40, 'learning_rate': 0.5, 'n_estimators': 800, \n",
    "#'subsample': 0.6, 'reg_lambda': 0.1, 'max_depth': 7}\n",
    "\n",
    "X_train, X_test, y_train, y_test, w_train, w_test = train_test_split(X,y,w,test_size=0.2, random_state=12351)\n",
    "w_train = np.abs(w_train)\n",
    "\n",
    "X_train=pd.DataFrame(scaler.fit_transform(X_train))\n",
    "X_test=pd.DataFrame(scaler.transform(X_test))\n",
    "\n",
    "X_test.to_hdf(\"X_test_opt_accu.hd5\",key='df',mode=\"w\")\n",
    "y_test.to_hdf(\"y_test_opt_accu.hd5\",key='df',mode=\"w\")\n",
    "w_test.to_hdf(\"w_test_opt_accu.hd5\",key='df',mode=\"w\")\n",
    " \n",
    "h=np.histogram(y_train,weights=w_train,bins=13,range=[-0.5,12.5])\n",
    "a=1./h[0]\n",
    "a/=min(a)\n",
    "rw=np.clip(a,0,40)\n",
    "w_train*=rw[y_train]\n",
    "\n",
    "np.savetxt('rw_opt_accu.txt',rw)\n",
    "\n",
    "clf=XGBClassifier(max_depth=7, n_estimators=800, n_jobs=8, objective='multi:softmax', subsample=0.6,\n",
    "                 reg_lambda=0.1, learning_rate=0.5)\n",
    "%time clf.fit(X_train,y_train,w_train)\n",
    "joblib.dump(clf, 'clf_opt_accu.joblib') "
   ]
  },
  {
   "cell_type": "code",
   "execution_count": 7,
   "metadata": {
    "collapsed": false
   },
   "outputs": [
    {
     "data": {
      "image/png": "[encoded data removed]",
      "text/plain": [
       "<matplotlib.figure.Figure at 0x7f0318d2be50>"
      ]
     },
     "metadata": {},
     "output_type": "display_data"
    }
   ],
   "source": [
    "#features importance\n",
    "clf=joblib.load('clf_opt_accu.joblib')\n",
    "importance=clf.feature_importances_\n",
    "y_pos=np.arange(len(features))\n",
    "plt.barh(y_pos,importance,align='center',alpha=0.5)\n",
    "plt.yticks(y_pos,features)\n",
    "plt.xlabel('Importance Score')\n",
    "plt.show()"
   ]
  },
  {
   "cell_type": "code",
   "execution_count": 12,
   "metadata": {
    "collapsed": false
   },
   "outputs": [
    {
     "name": "stdout",
     "output_type": "stream",
     "text": [
      "Best entropy\n",
      "    clip_weight  learning_rate  max_depth  n_estimators  reg_lambda  \\\n",
      "21           40          0.001         10           500         2.0   \n",
      "\n",
      "    subsample  accu_mean  accu_stdev  cross_mean  cross_stdev  \n",
      "21        0.6   0.495835    0.001765    1.613791     0.005415  \n"
     ]
    }
   ],
   "source": [
    "opt_cross=pd.read_hdf(\"optimisation_cross.hd5\")\n",
    "print \"Best entropy\"\n",
    "print opt_cross[0:1]"
   ]
  },
  {
   "cell_type": "code",
   "execution_count": 15,
   "metadata": {
    "collapsed": false
   },
   "outputs": [
    {
     "name": "stdout",
     "output_type": "stream",
     "text": [
      "CPU times: user 6min 48s, sys: 9.88 s, total: 6min 58s\n",
      "Wall time: 52.3 s\n"
     ]
    },
    {
     "data": {
      "text/plain": [
       "['clf_opt_cross.joblib']"
      ]
     },
     "execution_count": 15,
     "metadata": {},
     "output_type": "execute_result"
    }
   ],
   "source": [
    "#optimized- lowest cross entropy parameters: {'clip_weight': 40, 'learning_rate': 0.001, 'n_estimators': 500, \n",
    "#'subsample': 0.6, 'reg_lambda': 2, 'max_depth': 10}\n",
    "\n",
    "X_train, X_test, y_train, y_test, w_train, w_test = train_test_split(X,y,w,test_size=0.2, random_state=12351)\n",
    "w_train = np.abs(w_train)\n",
    "\n",
    "X_train=pd.DataFrame(scaler.fit_transform(X_train))\n",
    "X_test=pd.DataFrame(scaler.transform(X_test))\n",
    "\n",
    "X_test.to_hdf(\"X_test_opt_cross.hd5\",key='df',mode=\"w\")\n",
    "y_test.to_hdf(\"y_test_opt_cross.hd5\",key='df',mode=\"w\")\n",
    "w_test.to_hdf(\"w_test_opt_cross.hd5\",key='df',mode=\"w\")\n",
    " \n",
    "h=np.histogram(y_train,weights=w_train,bins=13,range=[-0.5,12.5])\n",
    "a=1./h[0]\n",
    "a/=min(a)\n",
    "rw=np.clip(a,0,40)\n",
    "w_train*=rw[y_train]\n",
    "\n",
    "np.savetxt('rw_opt_cross.txt',rw)\n",
    "\n",
    "clf=XGBClassifier(max_depth=10, n_estimators=500, n_jobs=8, objective='multi:softmax', subsample=0.6,\n",
    "                 reg_lambda=2, learning_rate=0.001)\n",
    "%time clf.fit(X_train,y_train,w_train)\n",
    "joblib.dump(clf, 'clf_opt_cross.joblib') "
   ]
  },
  {
   "cell_type": "code",
   "execution_count": 8,
   "metadata": {
    "collapsed": false
   },
   "outputs": [
    {
     "data": {
      "image/png": "[encoded data removed]",
      "text/plain": [
       "<matplotlib.figure.Figure at 0x7f0314f8fe10>"
      ]
     },
     "metadata": {},
     "output_type": "display_data"
    }
   ],
   "source": [
    "#features importance\n",
    "clf=joblib.load('clf_opt_cross.joblib')\n",
    "importance=clf.feature_importances_\n",
    "y_pos=np.arange(len(features))\n",
    "plt.barh(y_pos,importance,align='center',alpha=0.5)\n",
    "plt.yticks(y_pos,features)\n",
    "plt.xlabel('Importance Score')\n",
    "plt.show()"
   ]
  },
  {
   "cell_type": "code",
   "execution_count": null,
   "metadata": {
    "collapsed": true
   },
   "outputs": [],
   "source": []
  }
 ],
 "metadata": {
  "anaconda-cloud": {},
  "kernelspec": {
   "display_name": "Python [conda root]",
   "language": "python",
   "name": "conda-root-py"
  },
  "language_info": {
   "codemirror_mode": {
    "name": "ipython",
    "version": 2
   },
   "file_extension": ".py",
   "mimetype": "text/x-python",
   "name": "python",
   "nbconvert_exporter": "python",
   "pygments_lexer": "ipython2",
   "version": "2.7.12"
  }
 },
 "nbformat": 4,
 "nbformat_minor": 1
}

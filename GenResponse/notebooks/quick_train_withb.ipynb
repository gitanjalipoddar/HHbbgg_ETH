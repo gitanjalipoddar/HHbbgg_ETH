{
 "cells": [
  {
   "cell_type": "code",
   "execution_count": 35,
   "metadata": {
    "collapsed": true
   },
   "outputs": [],
   "source": [
    "import pandas as pd\n",
    "import numpy as np\n",
    "import matplotlib.pyplot as plt\n",
    "from sklearn.model_selection import train_test_split\n",
    "import xgboost\n",
    "from xgboost import XGBClassifier\n",
    "from sklearn.externals import joblib\n",
    "from sklearn.preprocessing import RobustScaler"
   ]
  },
  {
   "cell_type": "code",
   "execution_count": 36,
   "metadata": {
    "collapsed": false
   },
   "outputs": [],
   "source": [
    "#merging for BDT training\n",
    "node_6=pd.read_hdf(\"node_6.hd5\")\n",
    "node_4=pd.read_hdf(\"node_4.hd5\")\n",
    "node_9=pd.read_hdf(\"node_9.hd5\")\n",
    "node_SM=pd.read_hdf(\"node_SM.hd5\")\n",
    "\n",
    "frames=[node_6,node_4,node_SM]\n",
    "df=pd.concat(frames)\n",
    "\n",
    "#ignoring category 0\n",
    "df=df[df.cat>0]\n",
    "df.weight/=df.weight.mean()\n",
    "\n",
    "#indexing\n",
    "random_index = np.arange(df.shape[0]) \n",
    "np.random.shuffle(random_index)\n",
    "df[\"random_index\"]=random_index \n",
    "df.set_index(\"random_index\",inplace=True)\n",
    "df.sort_index(inplace=True)"
   ]
  },
  {
   "cell_type": "code",
   "execution_count": 37,
   "metadata": {
    "collapsed": false
   },
   "outputs": [
    {
     "data": {
      "text/plain": [
       "Index([u'candidate_id', u'weight', u'mgg', u'mbb', u'leadPho_px',\n",
       "       u'leadPho_py', u'leadPho_pz', u'leadPho_e', u'subleadPho_px',\n",
       "       u'subleadPho_py', u'subleadPho_pz', u'subleadPho_e', u'leadJet_px',\n",
       "       u'leadJet_py', u'leadJet_pz', u'leadJet_e', u'subleadJet_px',\n",
       "       u'subleadJet_py', u'subleadJet_pz', u'subleadJet_e', u'rho', u'nvtx',\n",
       "       u'event', u'lumi', u'processIndex', u'run', u'npu', u'puweight', u'cat',\n",
       "       u'bdtcat', u'mxcat', u'leadPho_pt', u'leadPho_eta', u'leadPho_phi',\n",
       "       u'leadPho_m', u'subleadPho_pt', u'subleadPho_eta', u'subleadPho_phi',\n",
       "       u'subleadPho_m', u'leadJet_pt', u'leadJet_eta', u'leadJet_phi',\n",
       "       u'leadJet_m', u'subleadJet_pt', u'subleadJet_eta', u'subleadJet_phi',\n",
       "       u'subleadJet_m', u'hgg_px', u'hgg_py', u'hgg_pz', u'hgg_e', u'hgg_pt',\n",
       "       u'hgg_eta', u'hgg_phi', u'hgg_m', u'hbb_px', u'hbb_py', u'hbb_pz',\n",
       "       u'hbb_e', u'hbb_pt', u'hbb_eta', u'hbb_phi', u'hbb_m', u'hh_px',\n",
       "       u'hh_py', u'hh_pz', u'hh_e', u'hh_pt', u'hh_eta', u'hh_phi', u'hh_m',\n",
       "       u'mtilda_x', u'hgg_pt_hh_m', u'hbb_pt_hh_m', u'cos_theta_cs',\n",
       "       u'cos_theta_hbb', u'cos_theta_hgg'],\n",
       "      dtype='object')"
      ]
     },
     "execution_count": 37,
     "metadata": {},
     "output_type": "execute_result"
    }
   ],
   "source": [
    "df.columns"
   ]
  },
  {
   "cell_type": "code",
   "execution_count": 38,
   "metadata": {
    "collapsed": false
   },
   "outputs": [],
   "source": [
    "features = ['hh_m','hh_pt', 'hh_eta','hgg_pt_hh_m','hbb_pt_hh_m','cos_theta_cs','cos_theta_hbb','cos_theta_hgg']\n",
    "features+=['leadJet_pt','leadJet_eta','subleadJet_pt','subleadJet_eta']\n",
    "features+=['leadPho_pt','leadPho_eta','subleadPho_pt','subleadPho_eta']"
   ]
  },
  {
   "cell_type": "code",
   "execution_count": 39,
   "metadata": {
    "collapsed": false
   },
   "outputs": [
    {
     "data": {
      "text/html": [
       "<div>\n",
       "<table border=\"1\" class=\"dataframe\">\n",
       "  <thead>\n",
       "    <tr style=\"text-align: right;\">\n",
       "      <th></th>\n",
       "      <th>sum</th>\n",
       "      <th>count</th>\n",
       "      <th>mean</th>\n",
       "    </tr>\n",
       "    <tr>\n",
       "      <th>cat</th>\n",
       "      <th></th>\n",
       "      <th></th>\n",
       "      <th></th>\n",
       "    </tr>\n",
       "  </thead>\n",
       "  <tbody>\n",
       "    <tr>\n",
       "      <th>1</th>\n",
       "      <td>7353.071144</td>\n",
       "      <td>7354</td>\n",
       "      <td>0.999874</td>\n",
       "    </tr>\n",
       "    <tr>\n",
       "      <th>2</th>\n",
       "      <td>6796.984495</td>\n",
       "      <td>6919</td>\n",
       "      <td>0.982365</td>\n",
       "    </tr>\n",
       "    <tr>\n",
       "      <th>3</th>\n",
       "      <td>1969.616944</td>\n",
       "      <td>2039</td>\n",
       "      <td>0.965972</td>\n",
       "    </tr>\n",
       "    <tr>\n",
       "      <th>4</th>\n",
       "      <td>353.156220</td>\n",
       "      <td>369</td>\n",
       "      <td>0.957063</td>\n",
       "    </tr>\n",
       "    <tr>\n",
       "      <th>5</th>\n",
       "      <td>1399.729497</td>\n",
       "      <td>1336</td>\n",
       "      <td>1.047702</td>\n",
       "    </tr>\n",
       "    <tr>\n",
       "      <th>6</th>\n",
       "      <td>2463.990999</td>\n",
       "      <td>2440</td>\n",
       "      <td>1.009832</td>\n",
       "    </tr>\n",
       "    <tr>\n",
       "      <th>7</th>\n",
       "      <td>1589.424430</td>\n",
       "      <td>1626</td>\n",
       "      <td>0.977506</td>\n",
       "    </tr>\n",
       "    <tr>\n",
       "      <th>8</th>\n",
       "      <td>544.508166</td>\n",
       "      <td>569</td>\n",
       "      <td>0.956956</td>\n",
       "    </tr>\n",
       "    <tr>\n",
       "      <th>9</th>\n",
       "      <td>1345.193675</td>\n",
       "      <td>1258</td>\n",
       "      <td>1.069311</td>\n",
       "    </tr>\n",
       "    <tr>\n",
       "      <th>10</th>\n",
       "      <td>3037.449509</td>\n",
       "      <td>2906</td>\n",
       "      <td>1.045234</td>\n",
       "    </tr>\n",
       "    <tr>\n",
       "      <th>11</th>\n",
       "      <td>2081.919630</td>\n",
       "      <td>2102</td>\n",
       "      <td>0.990447</td>\n",
       "    </tr>\n",
       "    <tr>\n",
       "      <th>12</th>\n",
       "      <td>672.965250</td>\n",
       "      <td>690</td>\n",
       "      <td>0.975312</td>\n",
       "    </tr>\n",
       "  </tbody>\n",
       "</table>\n",
       "</div>"
      ],
      "text/plain": [
       "             sum  count      mean\n",
       "cat                              \n",
       "1    7353.071144   7354  0.999874\n",
       "2    6796.984495   6919  0.982365\n",
       "3    1969.616944   2039  0.965972\n",
       "4     353.156220    369  0.957063\n",
       "5    1399.729497   1336  1.047702\n",
       "6    2463.990999   2440  1.009832\n",
       "7    1589.424430   1626  0.977506\n",
       "8     544.508166    569  0.956956\n",
       "9    1345.193675   1258  1.069311\n",
       "10   3037.449509   2906  1.045234\n",
       "11   2081.919630   2102  0.990447\n",
       "12    672.965250    690  0.975312"
      ]
     },
     "execution_count": 39,
     "metadata": {},
     "output_type": "execute_result"
    }
   ],
   "source": [
    "#finding sum, count, mean of each category in weights column\n",
    "df.groupby('cat')['weight'].agg(['sum','count','mean'])"
   ]
  },
  {
   "cell_type": "code",
   "execution_count": 40,
   "metadata": {
    "collapsed": false
   },
   "outputs": [],
   "source": [
    "X = df[features]\n",
    "y = df['cat'] \n",
    "w = df['weight']\n",
    "\n",
    "scaler=RobustScaler()"
   ]
  },
  {
   "cell_type": "code",
   "execution_count": 41,
   "metadata": {
    "collapsed": false
   },
   "outputs": [
    {
     "data": {
      "image/png": "[encoded data removed]",
      "text/plain": [
       "<matplotlib.figure.Figure at 0x7f379fa1ac90>"
      ]
     },
     "metadata": {},
     "output_type": "display_data"
    }
   ],
   "source": [
    "#plotting truth histogram\n",
    "plt.figure(2)\n",
    "bins=np.arange(0.5,13.5)\n",
    "plt.hist(y,weights=w,bins=bins,alpha=0.5)\n",
    "h=np.histogram(y,weights=w,bins=bins)\n",
    "plt.ylabel('Events')\n",
    "plt.xlabel('Category')\n",
    "plt.xticks(np.arange(1,13))\n",
    "plt.show()\n",
    "plt.close()"
   ]
  },
  {
   "cell_type": "code",
   "execution_count": 8,
   "metadata": {
    "collapsed": false,
    "scrolled": false
   },
   "outputs": [
    {
     "name": "stdout",
     "output_type": "stream",
     "text": [
      "CPU times: user 7min 9s, sys: 3.64 s, total: 7min 13s\n",
      "Wall time: 54.3 s\n"
     ]
    },
    {
     "data": {
      "text/plain": [
       "['clf.joblib']"
      ]
     },
     "execution_count": 8,
     "metadata": {},
     "output_type": "execute_result"
    }
   ],
   "source": [
    "#slicing data randomly into training and testing sets- we take 20% to be the testing set\n",
    "X_train, X_test, y_train, y_test, w_train, w_test = train_test_split(X,y,w,test_size=0.2,random_state=12345)\n",
    "w_train = np.abs(w_train)\n",
    "\n",
    "#scale data\n",
    "X_train=pd.DataFrame(scaler.fit_transform(X_train))\n",
    "X_test=pd.DataFrame(scaler.transform(X_test))\n",
    "\n",
    "#classifier fitted to training set \n",
    "clf=XGBClassifier(max_depth=10, n_estimators=300, n_jobs=8, objective='multi:softmax', subsample=0.8)\n",
    "%time clf.fit(X_train,y_train,w_train)\n",
    "joblib.dump(clf, 'clf.joblib') "
   ]
  },
  {
   "cell_type": "code",
   "execution_count": 9,
   "metadata": {
    "collapsed": false
   },
   "outputs": [
    {
     "data": {
      "image/png": "[encoded data removed]",
      "text/plain": [
       "<matplotlib.figure.Figure at 0x7f87f150db50>"
      ]
     },
     "metadata": {},
     "output_type": "display_data"
    }
   ],
   "source": [
    "#features importance\n",
    "clf=joblib.load('clf.joblib')\n",
    "importance=clf.feature_importances_\n",
    "y_pos=np.arange(len(features))\n",
    "plt.barh(y_pos,importance,align='center',alpha=0.5)\n",
    "plt.yticks(y_pos,features)\n",
    "plt.xlabel('Importance Score')\n",
    "plt.show()"
   ]
  },
  {
   "cell_type": "code",
   "execution_count": 10,
   "metadata": {
    "collapsed": false
   },
   "outputs": [
    {
     "name": "stdout",
     "output_type": "stream",
     "text": [
      "CPU times: user 7min 10s, sys: 2.84 s, total: 7min 13s\n",
      "Wall time: 54.3 s\n"
     ]
    },
    {
     "data": {
      "text/plain": [
       "['clf_10.joblib']"
      ]
     },
     "execution_count": 10,
     "metadata": {},
     "output_type": "execute_result"
    }
   ],
   "source": [
    "#reweighting and clipping it at 10\n",
    "X_train, X_test, y_train, y_test, w_train, w_test = train_test_split(X,y,w,test_size=0.2,random_state=12346)\n",
    "w_train = np.abs(w_train)\n",
    "\n",
    "#scale data\n",
    "X_train=pd.DataFrame(scaler.fit_transform(X_train))\n",
    "X_test=pd.DataFrame(scaler.transform(X_test))\n",
    "\n",
    "h=np.histogram(y_train,weights=w_train,bins=bins)\n",
    "a=1./h[0]\n",
    "a/=min(a)\n",
    "rw=np.clip(a,0,10)\n",
    "w_train*=rw[y_train-1]\n",
    "\n",
    "np.savetxt('rw_10.txt',rw)\n",
    "\n",
    "clf=XGBClassifier(max_depth=10, n_estimators=300, n_jobs=8, objective='multi:softmax', subsample=0.8)\n",
    "%time clf.fit(X_train,y_train,w_train)\n",
    "joblib.dump(clf, 'clf_10.joblib') "
   ]
  },
  {
   "cell_type": "code",
   "execution_count": 11,
   "metadata": {
    "collapsed": false
   },
   "outputs": [
    {
     "data": {
      "image/png": "[encoded data removed]",
      "text/plain": [
       "<matplotlib.figure.Figure at 0x7f87f03e4890>"
      ]
     },
     "metadata": {},
     "output_type": "display_data"
    }
   ],
   "source": [
    "#features importance\n",
    "clf=joblib.load('clf_10.joblib')\n",
    "importance=clf.feature_importances_\n",
    "y_pos=np.arange(len(features))\n",
    "plt.barh(y_pos,importance,align='center',alpha=0.5)\n",
    "plt.yticks(y_pos,features)\n",
    "plt.xlabel('Importance Score')\n",
    "plt.show()"
   ]
  },
  {
   "cell_type": "code",
   "execution_count": 31,
   "metadata": {
    "collapsed": false
   },
   "outputs": [
    {
     "name": "stdout",
     "output_type": "stream",
     "text": [
      "Best accuracy\n",
      "    clip_weight  learning_rate  max_depth  min_child_weight  n_estimators  \\\n",
      "44           20            0.5         10                20           300   \n",
      "\n",
      "    reg_lambda  subsample  accu_mean  accu_stdev  cross_mean       ...        \\\n",
      "44         2.0        0.8     0.5296    0.003646    1.878062       ...         \n",
      "\n",
      "    cross_mean_6  cross_stdev_6  accu_mean_9  accu_stdev_9  cross_mean_9  \\\n",
      "44      1.442199       0.044201     0.325602      0.004062      3.783617   \n",
      "\n",
      "    cross_stdev_9  accu_mean_SM  accu_stdev_SM  cross_mean_SM  cross_stdev_SM  \n",
      "44       0.052676      0.691966       0.007782       1.105245        0.028387  \n",
      "\n",
      "[1 rows x 27 columns]\n"
     ]
    }
   ],
   "source": [
    "result=pd.read_hdf(\"optimisation_accu_6.hd5\")\n",
    "print \"Best accuracy\"\n",
    "print result[0:1]"
   ]
  },
  {
   "cell_type": "code",
   "execution_count": 34,
   "metadata": {
    "collapsed": false
   },
   "outputs": [
    {
     "name": "stdout",
     "output_type": "stream",
     "text": [
      "Best entropy\n",
      "    clip_weight  learning_rate  max_depth  min_child_weight  n_estimators  \\\n",
      "40           30            0.1          3               200           300   \n",
      "\n",
      "    reg_lambda  subsample  accu_mean  accu_stdev  cross_mean       ...        \\\n",
      "40         2.0        1.0   0.560012    0.005602    1.193947       ...         \n",
      "\n",
      "    cross_mean_6  cross_stdev_6  accu_mean_9  accu_stdev_9  cross_mean_9  \\\n",
      "40      1.560514       0.025539      0.29887      0.007581       2.56976   \n",
      "\n",
      "    cross_stdev_9  accu_mean_SM  accu_stdev_SM  cross_mean_SM  cross_stdev_SM  \n",
      "40       0.055388      0.514969       0.006186       1.431611        0.022734  \n",
      "\n",
      "[1 rows x 27 columns]\n"
     ]
    }
   ],
   "source": [
    "result=pd.read_hdf(\"optimisation_cross_9.hd5\")\n",
    "print \"Best entropy\"\n",
    "print result[0:1]"
   ]
  },
  {
   "cell_type": "code",
   "execution_count": 44,
   "metadata": {
    "collapsed": false
   },
   "outputs": [
    {
     "name": "stdout",
     "output_type": "stream",
     "text": [
      "CPU times: user 6min 17s, sys: 3.3 s, total: 6min 20s\n",
      "Wall time: 47.6 s\n"
     ]
    },
    {
     "data": {
      "text/plain": [
       "['clf_accuSM9.joblib']"
      ]
     },
     "execution_count": 44,
     "metadata": {},
     "output_type": "execute_result"
    }
   ],
   "source": [
    "#optimised based on accuracy for SM and 9 \n",
    "X_train, X_test, y_train, y_test, w_train, w_test = train_test_split(X,y,w,test_size=0.2,random_state=12346)\n",
    "w_train = np.abs(w_train)\n",
    "\n",
    "#scale data\n",
    "X_train=pd.DataFrame(scaler.fit_transform(X_train))\n",
    "X_test=pd.DataFrame(scaler.transform(X_test))\n",
    "\n",
    "h=np.histogram(y_train,weights=w_train,bins=bins)\n",
    "a=1./h[0]\n",
    "a/=min(a)\n",
    "rw=np.clip(a,0,10)\n",
    "w_train*=rw[y_train-1]\n",
    "\n",
    "np.savetxt('rw_accuSM9.txt',rw)\n",
    "\n",
    "clf=XGBClassifier(learning_rate=0.5, reg_lambda=10, subsample=0.6, max_depth=10, n_estimators=500, \n",
    "                  min_child_weight=20, n_jobs=8, objective='multi:softmax')\n",
    "%time clf.fit(X_train,y_train,w_train)\n",
    "joblib.dump(clf, 'clf_accuSM9.joblib') "
   ]
  },
  {
   "cell_type": "code",
   "execution_count": 45,
   "metadata": {
    "collapsed": false
   },
   "outputs": [
    {
     "data": {
      "image/png": "[encoded data removed]",
      "text/plain": [
       "<matplotlib.figure.Figure at 0x7f379fa50710>"
      ]
     },
     "metadata": {},
     "output_type": "display_data"
    }
   ],
   "source": [
    "#features importance\n",
    "clf=joblib.load('clf_accuSM9.joblib')\n",
    "importance=clf.feature_importances_\n",
    "y_pos=np.arange(len(features))\n",
    "plt.barh(y_pos,importance,align='center',alpha=0.5)\n",
    "plt.yticks(y_pos,features)\n",
    "plt.xlabel('Importance Score')\n",
    "plt.show()"
   ]
  },
  {
   "cell_type": "code",
   "execution_count": 46,
   "metadata": {
    "collapsed": false
   },
   "outputs": [
    {
     "name": "stdout",
     "output_type": "stream",
     "text": [
      "CPU times: user 9min 40s, sys: 4.41 s, total: 9min 45s\n",
      "Wall time: 1min 13s\n"
     ]
    },
    {
     "data": {
      "text/plain": [
       "['clf_accu4.joblib']"
      ]
     },
     "execution_count": 46,
     "metadata": {},
     "output_type": "execute_result"
    }
   ],
   "source": [
    "#optimised based on accuracy for 4 \n",
    "X_train, X_test, y_train, y_test, w_train, w_test = train_test_split(X,y,w,test_size=0.2,random_state=12346)\n",
    "w_train = np.abs(w_train)\n",
    "\n",
    "#scale data\n",
    "X_train=pd.DataFrame(scaler.fit_transform(X_train))\n",
    "X_test=pd.DataFrame(scaler.transform(X_test))\n",
    "\n",
    "h=np.histogram(y_train,weights=w_train,bins=bins)\n",
    "a=1./h[0]\n",
    "a/=min(a)\n",
    "rw=np.clip(a,0,30)\n",
    "w_train*=rw[y_train-1]\n",
    "\n",
    "np.savetxt('rw_accu4.txt',rw)\n",
    "\n",
    "clf=XGBClassifier(learning_rate=0.5, reg_lambda=10, subsample=1, max_depth=10, n_estimators=800, \n",
    "                  min_child_weight=20, n_jobs=8, objective='multi:softmax')\n",
    "%time clf.fit(X_train,y_train,w_train)\n",
    "joblib.dump(clf, 'clf_accu4.joblib') "
   ]
  },
  {
   "cell_type": "code",
   "execution_count": 47,
   "metadata": {
    "collapsed": false
   },
   "outputs": [
    {
     "data": {
      "image/png": "[encoded data removed]",
      "text/plain": [
       "<matplotlib.figure.Figure at 0x7f3789ef6490>"
      ]
     },
     "metadata": {},
     "output_type": "display_data"
    }
   ],
   "source": [
    "#features importance\n",
    "clf=joblib.load('clf_accu4.joblib')\n",
    "importance=clf.feature_importances_\n",
    "y_pos=np.arange(len(features))\n",
    "plt.barh(y_pos,importance,align='center',alpha=0.5)\n",
    "plt.yticks(y_pos,features)\n",
    "plt.xlabel('Importance Score')\n",
    "plt.show()"
   ]
  },
  {
   "cell_type": "code",
   "execution_count": 48,
   "metadata": {
    "collapsed": false
   },
   "outputs": [
    {
     "name": "stdout",
     "output_type": "stream",
     "text": [
      "CPU times: user 4min 26s, sys: 2.9 s, total: 4min 28s\n",
      "Wall time: 33.7 s\n"
     ]
    },
    {
     "data": {
      "text/plain": [
       "['clf_accu6.joblib']"
      ]
     },
     "execution_count": 48,
     "metadata": {},
     "output_type": "execute_result"
    }
   ],
   "source": [
    "#optimised based on accuracy for 6 \n",
    "X_train, X_test, y_train, y_test, w_train, w_test = train_test_split(X,y,w,test_size=0.2,random_state=12346)\n",
    "w_train = np.abs(w_train)\n",
    "\n",
    "#scale data\n",
    "X_train=pd.DataFrame(scaler.fit_transform(X_train))\n",
    "X_test=pd.DataFrame(scaler.transform(X_test))\n",
    "\n",
    "h=np.histogram(y_train,weights=w_train,bins=bins)\n",
    "a=1./h[0]\n",
    "a/=min(a)\n",
    "rw=np.clip(a,0,20)\n",
    "w_train*=rw[y_train-1]\n",
    "\n",
    "np.savetxt('rw_accu6.txt',rw)\n",
    "\n",
    "clf=XGBClassifier(learning_rate=0.5, reg_lambda=2, subsample=0.8, max_depth=10, n_estimators=300, \n",
    "                  min_child_weight=20, n_jobs=8, objective='multi:softmax')\n",
    "%time clf.fit(X_train,y_train,w_train)\n",
    "joblib.dump(clf, 'clf_accu6.joblib') "
   ]
  },
  {
   "cell_type": "code",
   "execution_count": 49,
   "metadata": {
    "collapsed": false
   },
   "outputs": [
    {
     "data": {
      "image/png": "[encoded data removed]",
      "text/plain": [
       "<matplotlib.figure.Figure at 0x7f379fa0e550>"
      ]
     },
     "metadata": {},
     "output_type": "display_data"
    }
   ],
   "source": [
    "#features importance\n",
    "clf=joblib.load('clf_accu6.joblib')\n",
    "importance=clf.feature_importances_\n",
    "y_pos=np.arange(len(features))\n",
    "plt.barh(y_pos,importance,align='center',alpha=0.5)\n",
    "plt.yticks(y_pos,features)\n",
    "plt.xlabel('Importance Score')\n",
    "plt.show()"
   ]
  },
  {
   "cell_type": "code",
   "execution_count": 50,
   "metadata": {
    "collapsed": false
   },
   "outputs": [
    {
     "name": "stdout",
     "output_type": "stream",
     "text": [
      "CPU times: user 1min 44s, sys: 712 ms, total: 1min 45s\n",
      "Wall time: 13.2 s\n"
     ]
    },
    {
     "data": {
      "text/plain": [
       "['clf_accumerged.joblib']"
      ]
     },
     "execution_count": 50,
     "metadata": {},
     "output_type": "execute_result"
    }
   ],
   "source": [
    "#optimised based on accuracy for merged\n",
    "X_train, X_test, y_train, y_test, w_train, w_test = train_test_split(X,y,w,test_size=0.2,random_state=12346)\n",
    "w_train = np.abs(w_train)\n",
    "\n",
    "#scale data\n",
    "X_train=pd.DataFrame(scaler.fit_transform(X_train))\n",
    "X_test=pd.DataFrame(scaler.transform(X_test))\n",
    "\n",
    "h=np.histogram(y_train,weights=w_train,bins=bins)\n",
    "a=1./h[0]\n",
    "a/=min(a)\n",
    "rw=np.clip(a,0,30)\n",
    "w_train*=rw[y_train-1]\n",
    "\n",
    "np.savetxt('rw_accumerged.txt',rw)\n",
    "\n",
    "clf=XGBClassifier(learning_rate=0.1, reg_lambda=2, subsample=1, max_depth=3, n_estimators=300, \n",
    "                  min_child_weight=200, n_jobs=8, objective='multi:softmax')\n",
    "%time clf.fit(X_train,y_train,w_train)\n",
    "joblib.dump(clf, 'clf_accumerged.joblib') "
   ]
  },
  {
   "cell_type": "code",
   "execution_count": 51,
   "metadata": {
    "collapsed": false
   },
   "outputs": [
    {
     "data": {
      "image/png": "[encoded data removed]",
      "text/plain": [
       "<matplotlib.figure.Figure at 0x7f3789be0850>"
      ]
     },
     "metadata": {},
     "output_type": "display_data"
    }
   ],
   "source": [
    "#features importance\n",
    "clf=joblib.load('clf_accumerged.joblib')\n",
    "importance=clf.feature_importances_\n",
    "y_pos=np.arange(len(features))\n",
    "plt.barh(y_pos,importance,align='center',alpha=0.5)\n",
    "plt.yticks(y_pos,features)\n",
    "plt.xlabel('Importance Score')\n",
    "plt.show()"
   ]
  },
  {
   "cell_type": "code",
   "execution_count": 52,
   "metadata": {
    "collapsed": false
   },
   "outputs": [
    {
     "name": "stdout",
     "output_type": "stream",
     "text": [
      "CPU times: user 14min 19s, sys: 7.31 s, total: 14min 26s\n",
      "Wall time: 1min 48s\n"
     ]
    },
    {
     "data": {
      "text/plain": [
       "['clf_crossSM46.joblib']"
      ]
     },
     "execution_count": 52,
     "metadata": {},
     "output_type": "execute_result"
    }
   ],
   "source": [
    "#optimised based on entropy for SM,4,6\n",
    "X_train, X_test, y_train, y_test, w_train, w_test = train_test_split(X,y,w,test_size=0.2,random_state=12346)\n",
    "w_train = np.abs(w_train)\n",
    "\n",
    "#scale data\n",
    "X_train=pd.DataFrame(scaler.fit_transform(X_train))\n",
    "X_test=pd.DataFrame(scaler.transform(X_test))\n",
    "\n",
    "h=np.histogram(y_train,weights=w_train,bins=bins)\n",
    "a=1./h[0]\n",
    "a/=min(a)\n",
    "rw=np.clip(a,0,20)\n",
    "w_train*=rw[y_train-1]\n",
    "\n",
    "np.savetxt('rw_crossSM46.txt',rw)\n",
    "\n",
    "clf=XGBClassifier(learning_rate=0.1, reg_lambda=10, subsample=0.6, max_depth=10, n_estimators=800, \n",
    "                  min_child_weight=20, n_jobs=8, objective='multi:softmax')\n",
    "%time clf.fit(X_train,y_train,w_train)\n",
    "joblib.dump(clf, 'clf_crossSM46.joblib') "
   ]
  },
  {
   "cell_type": "code",
   "execution_count": 53,
   "metadata": {
    "collapsed": false
   },
   "outputs": [
    {
     "data": {
      "image/png": "[encoded data removed]",
      "text/plain": [
       "<matplotlib.figure.Figure at 0x7f3789969fd0>"
      ]
     },
     "metadata": {},
     "output_type": "display_data"
    }
   ],
   "source": [
    "#features importance\n",
    "clf=joblib.load('clf_crossSM46.joblib')\n",
    "importance=clf.feature_importances_\n",
    "y_pos=np.arange(len(features))\n",
    "plt.barh(y_pos,importance,align='center',alpha=0.5)\n",
    "plt.yticks(y_pos,features)\n",
    "plt.xlabel('Importance Score')\n",
    "plt.show()"
   ]
  },
  {
   "cell_type": "code",
   "execution_count": 59,
   "metadata": {
    "collapsed": false
   },
   "outputs": [
    {
     "name": "stdout",
     "output_type": "stream",
     "text": [
      "CPU times: user 1min 46s, sys: 1.02 s, total: 1min 47s\n",
      "Wall time: 13.4 s\n"
     ]
    },
    {
     "data": {
      "text/plain": [
       "['clf_cross9merged.joblib']"
      ]
     },
     "execution_count": 59,
     "metadata": {},
     "output_type": "execute_result"
    }
   ],
   "source": [
    "#optimised based on entropy for 9 and merged\n",
    "X_train, X_test, y_train, y_test, w_train, w_test = train_test_split(X,y,w,test_size=0.2,random_state=12346)\n",
    "w_train = np.abs(w_train)\n",
    "\n",
    "#scale data\n",
    "X_train=pd.DataFrame(scaler.fit_transform(X_train))\n",
    "X_test=pd.DataFrame(scaler.transform(X_test))\n",
    "\n",
    "h=np.histogram(y_train,weights=w_train,bins=bins)\n",
    "a=1./h[0]\n",
    "a/=min(a)\n",
    "rw=np.clip(a,0,30)\n",
    "w_train*=rw[y_train-1]\n",
    "\n",
    "np.savetxt('rw_cross9merged.txt',rw)\n",
    "\n",
    "clf=XGBClassifier(learning_rate=0.1, reg_lambda=2, subsample=1, max_depth=3, n_estimators=300, \n",
    "                  min_child_weight=200, n_jobs=8, objective='multi:softmax')\n",
    "%time clf.fit(X_train,y_train,w_train)\n",
    "joblib.dump(clf, 'clf_cross9merged.joblib') "
   ]
  },
  {
   "cell_type": "code",
   "execution_count": 60,
   "metadata": {
    "collapsed": false
   },
   "outputs": [
    {
     "data": {
      "image/png": "[encoded data removed]",
      "text/plain": [
       "<matplotlib.figure.Figure at 0x7f3789ae65d0>"
      ]
     },
     "metadata": {},
     "output_type": "display_data"
    }
   ],
   "source": [
    "#features importance\n",
    "clf=joblib.load('clf_cross9merged.joblib')\n",
    "importance=clf.feature_importances_\n",
    "y_pos=np.arange(len(features))\n",
    "plt.barh(y_pos,importance,align='center',alpha=0.5)\n",
    "plt.yticks(y_pos,features)\n",
    "plt.xlabel('Importance Score')\n",
    "plt.show()"
   ]
  },
  {
   "cell_type": "code",
   "execution_count": null,
   "metadata": {
    "collapsed": true
   },
   "outputs": [],
   "source": []
  }
 ],
 "metadata": {
  "anaconda-cloud": {},
  "kernelspec": {
   "display_name": "Python [conda root]",
   "language": "python",
   "name": "conda-root-py"
  }
 },
 "nbformat": 4,
 "nbformat_minor": 1
}

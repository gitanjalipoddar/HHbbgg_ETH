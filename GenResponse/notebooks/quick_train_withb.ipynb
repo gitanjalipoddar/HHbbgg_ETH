{
 "cells": [
  {
   "cell_type": "code",
   "execution_count": 2,
   "metadata": {
    "collapsed": true
   },
   "outputs": [],
   "source": [
    "import pandas as pd\n",
    "import numpy as np\n",
    "import matplotlib.pyplot as plt\n",
    "from sklearn.model_selection import train_test_split\n",
    "import xgboost\n",
    "from xgboost import XGBClassifier\n",
    "from sklearn.externals import joblib\n",
    "from sklearn.preprocessing import RobustScaler"
   ]
  },
  {
   "cell_type": "code",
   "execution_count": 8,
   "metadata": {
    "collapsed": false
   },
   "outputs": [],
   "source": [
    "#merging for BDT training\n",
    "node_6=pd.read_hdf(\"node_6.hd5\")\n",
    "node_9=pd.read_hdf(\"node_9.hd5\")\n",
    "node_4=pd.read_hdf(\"node_4.hd5\")\n",
    "node_SM=pd.read_hdf(\"node_SM.hd5\")\n",
    "\n",
    "frames=[node_6,node_9,node_4,node_SM]\n",
    "df=pd.concat(frames)\n",
    "\n",
    "#ignoring category 0\n",
    "df=df[df.cat>0]\n",
    "df.weight/=df.weight.mean()\n",
    "\n",
    "#indexing\n",
    "random_index = np.arange(df.shape[0]) \n",
    "np.random.shuffle(random_index)\n",
    "df[\"random_index\"]=random_index \n",
    "df.set_index(\"random_index\",inplace=True)\n",
    "df.sort_index(inplace=True)"
   ]
  },
  {
   "cell_type": "code",
   "execution_count": 52,
   "metadata": {
    "collapsed": false
   },
   "outputs": [
    {
     "data": {
      "text/plain": [
       "Index([u'candidate_id', u'weight', u'mgg', u'mbb', u'leadPho_px',\n",
       "       u'leadPho_py', u'leadPho_pz', u'leadPho_e', u'subleadPho_px',\n",
       "       u'subleadPho_py', u'subleadPho_pz', u'subleadPho_e', u'leadJet_px',\n",
       "       u'leadJet_py', u'leadJet_pz', u'leadJet_e', u'subleadJet_px',\n",
       "       u'subleadJet_py', u'subleadJet_pz', u'subleadJet_e', u'rho', u'nvtx',\n",
       "       u'event', u'lumi', u'processIndex', u'run', u'npu', u'puweight', u'cat',\n",
       "       u'bdtcat', u'mxcat', u'leadPho_pt', u'leadPho_eta', u'leadPho_phi',\n",
       "       u'leadPho_m', u'subleadPho_pt', u'subleadPho_eta', u'subleadPho_phi',\n",
       "       u'subleadPho_m', u'leadJet_pt', u'leadJet_eta', u'leadJet_phi',\n",
       "       u'leadJet_m', u'subleadJet_pt', u'subleadJet_eta', u'subleadJet_phi',\n",
       "       u'subleadJet_m', u'hgg_px', u'hgg_py', u'hgg_pz', u'hgg_e', u'hgg_pt',\n",
       "       u'hgg_eta', u'hgg_phi', u'hgg_m', u'hbb_px', u'hbb_py', u'hbb_pz',\n",
       "       u'hbb_e', u'hbb_pt', u'hbb_eta', u'hbb_phi', u'hbb_m', u'hh_px',\n",
       "       u'hh_py', u'hh_pz', u'hh_e', u'hh_pt', u'hh_eta', u'hh_phi', u'hh_m',\n",
       "       u'mtilda_x', u'hgg_pt_hh_m', u'hbb_pt_hh_m', u'cos_theta_cs',\n",
       "       u'cos_theta_hbb', u'cos_theta_hgg'],\n",
       "      dtype='object')"
      ]
     },
     "execution_count": 52,
     "metadata": {},
     "output_type": "execute_result"
    }
   ],
   "source": [
    "df.columns"
   ]
  },
  {
   "cell_type": "code",
   "execution_count": 9,
   "metadata": {
    "collapsed": false
   },
   "outputs": [],
   "source": [
    "features = ['hh_m','hh_pt', 'hh_eta','hgg_pt_hh_m','hbb_pt_hh_m','cos_theta_cs','cos_theta_hbb','cos_theta_hgg']\n",
    "features+=['leadJet_pt','leadJet_eta','subleadJet_pt','subleadJet_eta']\n",
    "features+=['leadPho_pt','leadPho_eta','subleadPho_pt','subleadPho_eta']"
   ]
  },
  {
   "cell_type": "code",
   "execution_count": 10,
   "metadata": {
    "collapsed": false
   },
   "outputs": [
    {
     "data": {
      "text/html": [
       "<div>\n",
       "<table border=\"1\" class=\"dataframe\">\n",
       "  <thead>\n",
       "    <tr style=\"text-align: right;\">\n",
       "      <th></th>\n",
       "      <th>sum</th>\n",
       "      <th>count</th>\n",
       "      <th>mean</th>\n",
       "    </tr>\n",
       "    <tr>\n",
       "      <th>cat</th>\n",
       "      <th></th>\n",
       "      <th></th>\n",
       "      <th></th>\n",
       "    </tr>\n",
       "  </thead>\n",
       "  <tbody>\n",
       "    <tr>\n",
       "      <th>1</th>\n",
       "      <td>8441.220892</td>\n",
       "      <td>8433</td>\n",
       "      <td>1.000975</td>\n",
       "    </tr>\n",
       "    <tr>\n",
       "      <th>2</th>\n",
       "      <td>8076.924645</td>\n",
       "      <td>8202</td>\n",
       "      <td>0.984751</td>\n",
       "    </tr>\n",
       "    <tr>\n",
       "      <th>3</th>\n",
       "      <td>2708.455813</td>\n",
       "      <td>2788</td>\n",
       "      <td>0.971469</td>\n",
       "    </tr>\n",
       "    <tr>\n",
       "      <th>4</th>\n",
       "      <td>722.065805</td>\n",
       "      <td>750</td>\n",
       "      <td>0.962754</td>\n",
       "    </tr>\n",
       "    <tr>\n",
       "      <th>5</th>\n",
       "      <td>1607.524199</td>\n",
       "      <td>1523</td>\n",
       "      <td>1.055498</td>\n",
       "    </tr>\n",
       "    <tr>\n",
       "      <th>6</th>\n",
       "      <td>2891.528065</td>\n",
       "      <td>2868</td>\n",
       "      <td>1.008204</td>\n",
       "    </tr>\n",
       "    <tr>\n",
       "      <th>7</th>\n",
       "      <td>2198.774568</td>\n",
       "      <td>2245</td>\n",
       "      <td>0.979410</td>\n",
       "    </tr>\n",
       "    <tr>\n",
       "      <th>8</th>\n",
       "      <td>1026.546038</td>\n",
       "      <td>1077</td>\n",
       "      <td>0.953153</td>\n",
       "    </tr>\n",
       "    <tr>\n",
       "      <th>9</th>\n",
       "      <td>1551.757501</td>\n",
       "      <td>1446</td>\n",
       "      <td>1.073138</td>\n",
       "    </tr>\n",
       "    <tr>\n",
       "      <th>10</th>\n",
       "      <td>3630.733358</td>\n",
       "      <td>3490</td>\n",
       "      <td>1.040325</td>\n",
       "    </tr>\n",
       "    <tr>\n",
       "      <th>11</th>\n",
       "      <td>2972.025439</td>\n",
       "      <td>2957</td>\n",
       "      <td>1.005081</td>\n",
       "    </tr>\n",
       "    <tr>\n",
       "      <th>12</th>\n",
       "      <td>1375.457055</td>\n",
       "      <td>1424</td>\n",
       "      <td>0.965911</td>\n",
       "    </tr>\n",
       "  </tbody>\n",
       "</table>\n",
       "</div>"
      ],
      "text/plain": [
       "             sum  count      mean\n",
       "cat                              \n",
       "1    8441.220892   8433  1.000975\n",
       "2    8076.924645   8202  0.984751\n",
       "3    2708.455813   2788  0.971469\n",
       "4     722.065805    750  0.962754\n",
       "5    1607.524199   1523  1.055498\n",
       "6    2891.528065   2868  1.008204\n",
       "7    2198.774568   2245  0.979410\n",
       "8    1026.546038   1077  0.953153\n",
       "9    1551.757501   1446  1.073138\n",
       "10   3630.733358   3490  1.040325\n",
       "11   2972.025439   2957  1.005081\n",
       "12   1375.457055   1424  0.965911"
      ]
     },
     "execution_count": 10,
     "metadata": {},
     "output_type": "execute_result"
    }
   ],
   "source": [
    "#finding sum, count, mean of each category in weights column\n",
    "df.groupby('cat')['weight'].agg(['sum','count','mean'])"
   ]
  },
  {
   "cell_type": "code",
   "execution_count": 11,
   "metadata": {
    "collapsed": false
   },
   "outputs": [],
   "source": [
    "X = df[features]\n",
    "y = df['cat'] \n",
    "w = df['weight']\n",
    "\n",
    "scaler=RobustScaler()"
   ]
  },
  {
   "cell_type": "code",
   "execution_count": 13,
   "metadata": {
    "collapsed": false
   },
   "outputs": [
    {
     "data": {
      "image/png": "[encoded data removed]",
      "text/plain": [
       "<matplotlib.figure.Figure at 0x7fcaf3d05150>"
      ]
     },
     "metadata": {},
     "output_type": "display_data"
    }
   ],
   "source": [
    "#plotting truth histogram\n",
    "plt.figure(2)\n",
    "bins=np.arange(0.5,13.5)\n",
    "plt.hist(y,weights=w,bins=bins,alpha=0.5)\n",
    "h=np.histogram(y,weights=w,bins=bins)\n",
    "plt.ylabel('Events')\n",
    "plt.xlabel('Category')\n",
    "plt.xticks(np.arange(1,13))\n",
    "plt.show()\n",
    "plt.close()"
   ]
  },
  {
   "cell_type": "code",
   "execution_count": 57,
   "metadata": {
    "collapsed": false,
    "scrolled": false
   },
   "outputs": [
    {
     "name": "stdout",
     "output_type": "stream",
     "text": [
      "CPU times: user 9min 10s, sys: 5.68 s, total: 9min 16s\n",
      "Wall time: 1min 9s\n"
     ]
    },
    {
     "data": {
      "text/plain": [
       "['clf.joblib']"
      ]
     },
     "execution_count": 57,
     "metadata": {},
     "output_type": "execute_result"
    }
   ],
   "source": [
    "#slicing data randomly into training and testing sets- we take 20% to be the testing set\n",
    "X_train, X_test, y_train, y_test, w_train, w_test = train_test_split(X,y,w,test_size=0.2,random_state=12345)\n",
    "w_train = np.abs(w_train)\n",
    "\n",
    "#scale data\n",
    "X_train=pd.DataFrame(scaler.fit_transform(X_train))\n",
    "X_test=pd.DataFrame(scaler.transform(X_test))\n",
    "\n",
    "#classifier fitted to training set \n",
    "clf=XGBClassifier(max_depth=10, n_estimators=300, n_jobs=8, objective='multi:softmax', subsample=0.8)\n",
    "%time clf.fit(X_train,y_train,w_train)\n",
    "joblib.dump(clf, 'clf.joblib') "
   ]
  },
  {
   "cell_type": "code",
   "execution_count": 58,
   "metadata": {
    "collapsed": false
   },
   "outputs": [
    {
     "data": {
      "image/png": "[encoded data removed]",
      "text/plain": [
       "<matplotlib.figure.Figure at 0x7f830c8ba350>"
      ]
     },
     "metadata": {},
     "output_type": "display_data"
    }
   ],
   "source": [
    "#features importance\n",
    "clf=joblib.load('clf.joblib')\n",
    "importance=clf.feature_importances_\n",
    "y_pos=np.arange(len(features))\n",
    "plt.barh(y_pos,importance,align='center',alpha=0.5)\n",
    "plt.yticks(y_pos,features)\n",
    "plt.xlabel('Importance Score')\n",
    "plt.show()"
   ]
  },
  {
   "cell_type": "code",
   "execution_count": 59,
   "metadata": {
    "collapsed": false
   },
   "outputs": [
    {
     "name": "stdout",
     "output_type": "stream",
     "text": [
      "CPU times: user 8min 53s, sys: 3.64 s, total: 8min 57s\n",
      "Wall time: 1min 7s\n"
     ]
    },
    {
     "data": {
      "text/plain": [
       "['clf_point5.joblib']"
      ]
     },
     "execution_count": 59,
     "metadata": {},
     "output_type": "execute_result"
    }
   ],
   "source": [
    "#reweighting and clipping it at 0.5\n",
    "X_train, X_test, y_train, y_test, w_train, w_test = train_test_split(X,y,w,test_size=0.2,random_state=12346)\n",
    "w_train = np.abs(w_train)\n",
    "\n",
    "#scale data\n",
    "X_train=pd.DataFrame(scaler.fit_transform(X_train))\n",
    "X_test=pd.DataFrame(scaler.transform(X_test))\n",
    "\n",
    "h=np.histogram(y_train,weights=w_train,bins=bins)\n",
    "a=1./h[0]\n",
    "a/=min(a)\n",
    "rw=np.clip(a,0,0.5) \n",
    "w_train*=rw[y_train-1] #y categories are from 1-12, whereas rw array is from 0-11 \n",
    "\n",
    "np.savetxt('rw_point5.txt',rw)\n",
    "\n",
    "clf=XGBClassifier(max_depth=10, n_estimators=300, n_jobs=8, objective='multi:softmax', subsample=0.8)\n",
    "%time clf.fit(X_train,y_train,w_train)\n",
    "joblib.dump(clf, 'clf_point5.joblib') "
   ]
  },
  {
   "cell_type": "code",
   "execution_count": 60,
   "metadata": {
    "collapsed": false
   },
   "outputs": [
    {
     "data": {
      "image/png": "[encoded data removed]",
      "text/plain": [
       "<matplotlib.figure.Figure at 0x7f830c7c3e50>"
      ]
     },
     "metadata": {},
     "output_type": "display_data"
    }
   ],
   "source": [
    "#features importance\n",
    "clf=joblib.load('clf_point5.joblib')\n",
    "importance=clf.feature_importances_\n",
    "y_pos=np.arange(len(features))\n",
    "plt.barh(y_pos,importance,align='center',alpha=0.5)\n",
    "plt.yticks(y_pos,features)\n",
    "plt.xlabel('Importance Score')\n",
    "plt.show()"
   ]
  },
  {
   "cell_type": "code",
   "execution_count": 61,
   "metadata": {
    "collapsed": false
   },
   "outputs": [
    {
     "name": "stdout",
     "output_type": "stream",
     "text": [
      "CPU times: user 7min 50s, sys: 4.27 s, total: 7min 54s\n",
      "Wall time: 59.4 s\n"
     ]
    },
    {
     "data": {
      "text/plain": [
       "['clf_point1.joblib']"
      ]
     },
     "execution_count": 61,
     "metadata": {},
     "output_type": "execute_result"
    }
   ],
   "source": [
    "#reweighting and clipping it at 0.1\n",
    "X_train, X_test, y_train, y_test, w_train, w_test = train_test_split(X,y,w,test_size=0.2,random_state=12346)\n",
    "w_train = np.abs(w_train)\n",
    "\n",
    "#scale data\n",
    "X_train=pd.DataFrame(scaler.fit_transform(X_train))\n",
    "X_test=pd.DataFrame(scaler.transform(X_test))\n",
    "\n",
    "h=np.histogram(y_train,weights=w_train,bins=bins)\n",
    "a=1./h[0]\n",
    "a/=min(a)\n",
    "rw=np.clip(a,0,0.1)\n",
    "w_train*=rw[y_train-1]\n",
    "\n",
    "np.savetxt('rw_point1.txt',rw)\n",
    "\n",
    "clf=XGBClassifier(max_depth=10, n_estimators=300, n_jobs=8, objective='multi:softmax', subsample=0.8)\n",
    "%time clf.fit(X_train,y_train,w_train)\n",
    "joblib.dump(clf, 'clf_point1.joblib') "
   ]
  },
  {
   "cell_type": "code",
   "execution_count": 62,
   "metadata": {
    "collapsed": false
   },
   "outputs": [
    {
     "data": {
      "image/png": "[encoded data removed]",
      "text/plain": [
       "<matplotlib.figure.Figure at 0x7f830c592fd0>"
      ]
     },
     "metadata": {},
     "output_type": "display_data"
    }
   ],
   "source": [
    "#features importance\n",
    "clf=joblib.load('clf_point1.joblib')\n",
    "importance=clf.feature_importances_\n",
    "y_pos=np.arange(len(features))\n",
    "plt.barh(y_pos,importance,align='center',alpha=0.5)\n",
    "plt.yticks(y_pos,features)\n",
    "plt.xlabel('Importance Score')\n",
    "plt.show()"
   ]
  },
  {
   "cell_type": "code",
   "execution_count": 63,
   "metadata": {
    "collapsed": false
   },
   "outputs": [
    {
     "name": "stdout",
     "output_type": "stream",
     "text": [
      "CPU times: user 4min 18s, sys: 2.72 s, total: 4min 21s\n",
      "Wall time: 32.7 s\n"
     ]
    },
    {
     "data": {
      "text/plain": [
       "['clf_point01.joblib']"
      ]
     },
     "execution_count": 63,
     "metadata": {},
     "output_type": "execute_result"
    }
   ],
   "source": [
    "#reweighting and clipping it at 0.01\n",
    "X_train, X_test, y_train, y_test, w_train, w_test = train_test_split(X,y,w,test_size=0.2,random_state=12346)\n",
    "w_train = np.abs(w_train)\n",
    "\n",
    "#scale data\n",
    "X_train=pd.DataFrame(scaler.fit_transform(X_train))\n",
    "X_test=pd.DataFrame(scaler.transform(X_test))\n",
    "\n",
    "h=np.histogram(y_train,weights=w_train,bins=bins)\n",
    "a=1./h[0]\n",
    "a/=min(a)\n",
    "rw=np.clip(a,0,0.01)\n",
    "w_train*=rw[y_train-1]\n",
    "\n",
    "np.savetxt('rw_point01.txt',rw)\n",
    "\n",
    "clf=XGBClassifier(max_depth=10, n_estimators=300, n_jobs=8, objective='multi:softmax', subsample=0.8)\n",
    "%time clf.fit(X_train,y_train,w_train)\n",
    "joblib.dump(clf, 'clf_point01.joblib') "
   ]
  },
  {
   "cell_type": "code",
   "execution_count": 64,
   "metadata": {
    "collapsed": false
   },
   "outputs": [
    {
     "data": {
      "image/png": "[encoded data removed]",
      "text/plain": [
       "<matplotlib.figure.Figure at 0x7f830c3bec10>"
      ]
     },
     "metadata": {},
     "output_type": "display_data"
    }
   ],
   "source": [
    "#features importance\n",
    "clf=joblib.load('clf_point01.joblib')\n",
    "importance=clf.feature_importances_\n",
    "y_pos=np.arange(len(features))\n",
    "plt.barh(y_pos,importance,align='center',alpha=0.5)\n",
    "plt.yticks(y_pos,features)\n",
    "plt.xlabel('Importance Score')\n",
    "plt.show()"
   ]
  },
  {
   "cell_type": "code",
   "execution_count": 65,
   "metadata": {
    "collapsed": false
   },
   "outputs": [
    {
     "name": "stdout",
     "output_type": "stream",
     "text": [
      "CPU times: user 1min 11s, sys: 1.29 s, total: 1min 12s\n",
      "Wall time: 9.1 s\n"
     ]
    },
    {
     "data": {
      "text/plain": [
       "['clf_point001.joblib']"
      ]
     },
     "execution_count": 65,
     "metadata": {},
     "output_type": "execute_result"
    }
   ],
   "source": [
    "#reweighting and clipping it at 0.001\n",
    "X_train, X_test, y_train, y_test, w_train, w_test = train_test_split(X,y,w,test_size=0.2,random_state=12346)\n",
    "w_train = np.abs(w_train)\n",
    "\n",
    "#scale data\n",
    "X_train=pd.DataFrame(scaler.fit_transform(X_train))\n",
    "X_test=pd.DataFrame(scaler.transform(X_test))\n",
    "\n",
    "h=np.histogram(y_train,weights=w_train,bins=bins)\n",
    "a=1./h[0]\n",
    "a/=min(a)\n",
    "rw=np.clip(a,0,0.001)\n",
    "w_train*=rw[y_train-1]\n",
    "\n",
    "np.savetxt('rw_point001.txt',rw)\n",
    "\n",
    "clf=XGBClassifier(max_depth=10, n_estimators=300, n_jobs=8, objective='multi:softmax', subsample=0.8)\n",
    "%time clf.fit(X_train,y_train,w_train)\n",
    "joblib.dump(clf, 'clf_point001.joblib') "
   ]
  },
  {
   "cell_type": "code",
   "execution_count": 66,
   "metadata": {
    "collapsed": false
   },
   "outputs": [
    {
     "data": {
      "image/png": "[encoded data removed]",
      "text/plain": [
       "<matplotlib.figure.Figure at 0x7f830c43a1d0>"
      ]
     },
     "metadata": {},
     "output_type": "display_data"
    }
   ],
   "source": [
    "#features importance\n",
    "clf=joblib.load('clf_point001.joblib')\n",
    "importance=clf.feature_importances_\n",
    "y_pos=np.arange(len(features))\n",
    "plt.barh(y_pos,importance,align='center',alpha=0.5)\n",
    "plt.yticks(y_pos,features)\n",
    "plt.xlabel('Importance Score')\n",
    "plt.show()"
   ]
  },
  {
   "cell_type": "code",
   "execution_count": 3,
   "metadata": {
    "collapsed": false
   },
   "outputs": [
    {
     "name": "stdout",
     "output_type": "stream",
     "text": [
      "Best accuracy\n",
      "    clip_weight  learning_rate  max_depth  n_estimators  reg_lambda  \\\n",
      "23         0.01            0.1          3           300        10.0   \n",
      "33         0.01            0.1         10           500        10.0   \n",
      "58         0.01            0.1          3           300         0.1   \n",
      "\n",
      "    subsample  accu_mean  accu_stdev  cross_mean  cross_stdev       ...        \\\n",
      "23        0.6   0.562060    0.004108    1.207228     0.007013       ...         \n",
      "33        0.6   0.560912    0.004160    1.202377     0.007305       ...         \n",
      "58        1.0   0.560073    0.003609    1.191093     0.008332       ...         \n",
      "\n",
      "    cross_mean_6  cross_stdev_6  accu_mean_9  accu_stdev_9  cross_mean_9  \\\n",
      "23      1.555488       0.031496     0.299363      0.017245      2.604613   \n",
      "33      1.528736       0.015316     0.302498      0.005670      2.649910   \n",
      "58      1.530436       0.034997     0.299343      0.008238      2.586019   \n",
      "\n",
      "    cross_stdev_9  accu_mean_SM  accu_stdev_SM  cross_mean_SM  cross_stdev_SM  \n",
      "23       0.062158       0.49314       0.004233       1.485649        0.018474  \n",
      "33       0.025542       0.49031       0.011493       1.486695        0.037008  \n",
      "58       0.021054       0.50059       0.008696       1.481713        0.029453  \n",
      "\n",
      "[3 rows x 26 columns]\n"
     ]
    }
   ],
   "source": [
    "opt_accu=pd.read_hdf(\"optimisation_accu.hd5\")\n",
    "print \"Best accuracy\"\n",
    "print opt_accu[0:3]"
   ]
  },
  {
   "cell_type": "code",
   "execution_count": 6,
   "metadata": {
    "collapsed": false
   },
   "outputs": [
    {
     "name": "stdout",
     "output_type": "stream",
     "text": [
      "Best entropy\n",
      "    clip_weight  learning_rate  max_depth  n_estimators  reg_lambda  \\\n",
      "58         0.01            0.1          3           300         0.1   \n",
      "1          0.05            0.1          3           500         1.0   \n",
      "47         0.10            0.1          3           500         1.0   \n",
      "\n",
      "    subsample  accu_mean  accu_stdev  cross_mean  cross_stdev       ...        \\\n",
      "58        1.0   0.560073    0.003609    1.191093     0.008332       ...         \n",
      "1         1.0   0.555465    0.002852    1.196472     0.008566       ...         \n",
      "47        1.0   0.555422    0.003736    1.198853     0.008818       ...         \n",
      "\n",
      "    cross_mean_6  cross_stdev_6  accu_mean_9  accu_stdev_9  cross_mean_9  \\\n",
      "58      1.530436       0.034997     0.299343      0.008238      2.586019   \n",
      "1       1.515789       0.032509     0.311575      0.014123      2.523072   \n",
      "47      1.537460       0.035103     0.296437      0.015707      2.570365   \n",
      "\n",
      "    cross_stdev_9  accu_mean_SM  accu_stdev_SM  cross_mean_SM  cross_stdev_SM  \n",
      "58       0.021054      0.500590       0.008696       1.481713        0.029453  \n",
      "1        0.070480      0.512669       0.008321       1.428296        0.024804  \n",
      "47       0.068945      0.515270       0.016889       1.442538        0.023699  \n",
      "\n",
      "[3 rows x 26 columns]\n"
     ]
    }
   ],
   "source": [
    "opt_cross=pd.read_hdf(\"optimisation_cross.hd5\")\n",
    "print \"Best entropy\"\n",
    "print opt_cross[0:3]"
   ]
  },
  {
   "cell_type": "code",
   "execution_count": 18,
   "metadata": {
    "collapsed": false
   },
   "outputs": [
    {
     "name": "stdout",
     "output_type": "stream",
     "text": [
      "CPU times: user 2min 6s, sys: 998 ms, total: 2min 7s\n",
      "Wall time: 16 s\n"
     ]
    },
    {
     "data": {
      "text/plain": [
       "['clf_opt.joblib']"
      ]
     },
     "execution_count": 18,
     "metadata": {},
     "output_type": "execute_result"
    }
   ],
   "source": [
    "#optimized- index 58\n",
    "\n",
    "X_train, X_test, y_train, y_test, w_train, w_test = train_test_split(X,y,w,test_size=0.2, random_state=12351)\n",
    "w_train = np.abs(w_train)\n",
    "\n",
    "X_train=pd.DataFrame(scaler.fit_transform(X_train))\n",
    "X_test=pd.DataFrame(scaler.transform(X_test))\n",
    " \n",
    "h=np.histogram(y_train,weights=w_train,bins=bins)\n",
    "a=1./h[0]\n",
    "a/=min(a)\n",
    "rw=np.clip(a,0,0.01)\n",
    "w_train*=rw[y_train-1]\n",
    "\n",
    "np.savetxt('rw_opt.txt',rw)\n",
    "\n",
    "clf=XGBClassifier(max_depth=3, n_estimators=300, n_jobs=8, objective='multi:softmax', subsample=1,\n",
    "                 reg_lambda=0.1, learning_rate=0.1)\n",
    "%time clf.fit(X_train,y_train,w_train)\n",
    "joblib.dump(clf, 'clf_opt.joblib') "
   ]
  },
  {
   "cell_type": "code",
   "execution_count": 19,
   "metadata": {
    "collapsed": false
   },
   "outputs": [
    {
     "data": {
      "image/png": "[encoded data removed]",
      "text/plain": [
       "<matplotlib.figure.Figure at 0x7fcacc299d90>"
      ]
     },
     "metadata": {},
     "output_type": "display_data"
    }
   ],
   "source": [
    "#features importance\n",
    "clf=joblib.load('clf_opt.joblib')\n",
    "importance=clf.feature_importances_\n",
    "y_pos=np.arange(len(features))\n",
    "plt.barh(y_pos,importance,align='center',alpha=0.5)\n",
    "plt.yticks(y_pos,features)\n",
    "plt.xlabel('Importance Score')\n",
    "plt.show()"
   ]
  },
  {
   "cell_type": "code",
   "execution_count": 20,
   "metadata": {
    "collapsed": false
   },
   "outputs": [
    {
     "name": "stdout",
     "output_type": "stream",
     "text": [
      "Best accuracy\n",
      "    clip_weight  learning_rate  max_depth  n_estimators  reg_lambda  \\\n",
      "37          0.5            0.1         10           800         2.0   \n",
      "56          0.1            0.5         10           800        10.0   \n",
      "16          0.1            0.5          7           500         2.0   \n",
      "\n",
      "    subsample  accu_mean  accu_stdev  cross_mean  cross_stdev       ...        \\\n",
      "37        0.8   0.542585    0.004349    1.551575     0.025162       ...         \n",
      "56        1.0   0.527738    0.005315    1.603233     0.027092       ...         \n",
      "16        0.8   0.521941    0.005022    1.653445     0.029044       ...         \n",
      "\n",
      "    cross_mean_6  cross_stdev_6  accu_mean_9  accu_stdev_9  cross_mean_9  \\\n",
      "37      1.300387       0.061743     0.338978      0.005170      3.162221   \n",
      "56      1.366558       0.039836     0.333091      0.011453      3.154969   \n",
      "16      1.402790       0.041164     0.331601      0.008959      3.221089   \n",
      "\n",
      "    cross_stdev_9  accu_mean_SM  accu_stdev_SM  cross_mean_SM  cross_stdev_SM  \n",
      "37       0.045031      0.727597       0.017539       0.955879        0.048939  \n",
      "56       0.047575      0.716520       0.009411       0.997114        0.030927  \n",
      "16       0.029985      0.710052       0.013246       1.031265        0.038848  \n",
      "\n",
      "[3 rows x 26 columns]\n",
      "Best entropy\n",
      "    clip_weight  learning_rate  max_depth  n_estimators  reg_lambda  \\\n",
      "37          0.5            0.1         10           800         2.0   \n",
      "56          0.1            0.5         10           800        10.0   \n",
      "32          0.1            0.5         10           300         2.0   \n",
      "\n",
      "    subsample  accu_mean  accu_stdev  cross_mean  cross_stdev       ...        \\\n",
      "37        0.8   0.542585    0.004349    1.551575     0.025162       ...         \n",
      "56        1.0   0.527738    0.005315    1.603233     0.027092       ...         \n",
      "32        0.6   0.520837    0.006232    1.600493     0.029307       ...         \n",
      "\n",
      "    cross_mean_6  cross_stdev_6  accu_mean_9  accu_stdev_9  cross_mean_9  \\\n",
      "37      1.300387       0.061743     0.338978      0.005170      3.162221   \n",
      "56      1.366558       0.039836     0.333091      0.011453      3.154969   \n",
      "32      1.328221       0.038958     0.336205      0.009813      2.994912   \n",
      "\n",
      "    cross_stdev_9  accu_mean_SM  accu_stdev_SM  cross_mean_SM  cross_stdev_SM  \n",
      "37       0.045031      0.727597       0.017539       0.955879        0.048939  \n",
      "56       0.047575      0.716520       0.009411       0.997114        0.030927  \n",
      "32       0.077209      0.703752       0.011117       1.009222        0.042535  \n",
      "\n",
      "[3 rows x 26 columns]\n"
     ]
    }
   ],
   "source": [
    "#node SM\n",
    "opt_accu=pd.read_hdf(\"optimisation_accu_SM.hd5\")\n",
    "print \"Best accuracy\"\n",
    "print opt_accu[0:3]\n",
    "opt_cross=pd.read_hdf(\"optimisation_cross_SM.hd5\")\n",
    "print \"Best entropy\"\n",
    "print opt_cross[0:3]"
   ]
  },
  {
   "cell_type": "code",
   "execution_count": 21,
   "metadata": {
    "collapsed": false
   },
   "outputs": [
    {
     "name": "stdout",
     "output_type": "stream",
     "text": [
      "Best accuracy\n",
      "    clip_weight  learning_rate  max_depth  n_estimators  reg_lambda  \\\n",
      "37          0.5            0.1         10           800         2.0   \n",
      "56          0.1            0.5         10           800        10.0   \n",
      "32          0.1            0.5         10           300         2.0   \n",
      "\n",
      "    subsample  accu_mean  accu_stdev  cross_mean  cross_stdev       ...        \\\n",
      "37        0.8   0.542585    0.004349    1.551575     0.025162       ...         \n",
      "56        1.0   0.527738    0.005315    1.603233     0.027092       ...         \n",
      "32        0.6   0.520837    0.006232    1.600493     0.029307       ...         \n",
      "\n",
      "    cross_mean_6  cross_stdev_6  accu_mean_9  accu_stdev_9  cross_mean_9  \\\n",
      "37      1.300387       0.061743     0.338978      0.005170      3.162221   \n",
      "56      1.366558       0.039836     0.333091      0.011453      3.154969   \n",
      "32      1.328221       0.038958     0.336205      0.009813      2.994912   \n",
      "\n",
      "    cross_stdev_9  accu_mean_SM  accu_stdev_SM  cross_mean_SM  cross_stdev_SM  \n",
      "37       0.045031      0.727597       0.017539       0.955879        0.048939  \n",
      "56       0.047575      0.716520       0.009411       0.997114        0.030927  \n",
      "32       0.077209      0.703752       0.011117       1.009222        0.042535  \n",
      "\n",
      "[3 rows x 26 columns]\n",
      "Best entropy\n",
      "    clip_weight  learning_rate  max_depth  n_estimators  reg_lambda  \\\n",
      "32          0.1            0.5         10           300         2.0   \n",
      "37          0.5            0.1         10           800         2.0   \n",
      "56          0.1            0.5         10           800        10.0   \n",
      "\n",
      "    subsample  accu_mean  accu_stdev  cross_mean  cross_stdev       ...        \\\n",
      "32        0.6   0.520837    0.006232    1.600493     0.029307       ...         \n",
      "37        0.8   0.542585    0.004349    1.551575     0.025162       ...         \n",
      "56        1.0   0.527738    0.005315    1.603233     0.027092       ...         \n",
      "\n",
      "    cross_mean_6  cross_stdev_6  accu_mean_9  accu_stdev_9  cross_mean_9  \\\n",
      "32      1.328221       0.038958     0.336205      0.009813      2.994912   \n",
      "37      1.300387       0.061743     0.338978      0.005170      3.162221   \n",
      "56      1.366558       0.039836     0.333091      0.011453      3.154969   \n",
      "\n",
      "    cross_stdev_9  accu_mean_SM  accu_stdev_SM  cross_mean_SM  cross_stdev_SM  \n",
      "32       0.077209      0.703752       0.011117       1.009222        0.042535  \n",
      "37       0.045031      0.727597       0.017539       0.955879        0.048939  \n",
      "56       0.047575      0.716520       0.009411       0.997114        0.030927  \n",
      "\n",
      "[3 rows x 26 columns]\n"
     ]
    }
   ],
   "source": [
    "#node 4\n",
    "opt_accu=pd.read_hdf(\"optimisation_accu_4.hd5\")\n",
    "print \"Best accuracy\"\n",
    "print opt_accu[0:3]\n",
    "opt_cross=pd.read_hdf(\"optimisation_cross_4.hd5\")\n",
    "print \"Best entropy\"\n",
    "print opt_cross[0:3]"
   ]
  },
  {
   "cell_type": "code",
   "execution_count": 24,
   "metadata": {
    "collapsed": false
   },
   "outputs": [
    {
     "name": "stdout",
     "output_type": "stream",
     "text": [
      "Best accuracy\n",
      "    clip_weight  learning_rate  max_depth  n_estimators  reg_lambda  \\\n",
      "37          0.5            0.1         10           800         2.0   \n",
      "56          0.1            0.5         10           800        10.0   \n",
      "26          0.5            0.3         10           500         1.0   \n",
      "16          0.1            0.5          7           500         2.0   \n",
      "\n",
      "    subsample  accu_mean  accu_stdev  cross_mean  cross_stdev       ...        \\\n",
      "37        0.8   0.542585    0.004349    1.551575     0.025162       ...         \n",
      "56        1.0   0.527738    0.005315    1.603233     0.027092       ...         \n",
      "26        1.0   0.537953    0.006171    1.742630     0.027373       ...         \n",
      "16        0.8   0.521941    0.005022    1.653445     0.029044       ...         \n",
      "\n",
      "    cross_mean_6  cross_stdev_6  accu_mean_9  accu_stdev_9  cross_mean_9  \\\n",
      "37      1.300387       0.061743     0.338978      0.005170      3.162221   \n",
      "56      1.366558       0.039836     0.333091      0.011453      3.154969   \n",
      "26      1.542394       0.063327     0.336898      0.008880      3.646380   \n",
      "16      1.402790       0.041164     0.331601      0.008959      3.221089   \n",
      "\n",
      "    cross_stdev_9  accu_mean_SM  accu_stdev_SM  cross_mean_SM  cross_stdev_SM  \n",
      "37       0.045031      0.727597       0.017539       0.955879        0.048939  \n",
      "56       0.047575      0.716520       0.009411       0.997114        0.030927  \n",
      "26       0.047948      0.698324       0.007705       1.138015        0.025165  \n",
      "16       0.029985      0.710052       0.013246       1.031265        0.038848  \n",
      "\n",
      "[4 rows x 26 columns]\n",
      "Best entropy\n",
      "    clip_weight  learning_rate  max_depth  n_estimators  reg_lambda  \\\n",
      "15          0.1            0.1          7           800         1.0   \n",
      "43          0.1            0.1          7           800         2.0   \n",
      "31          0.1            0.1          7           800         0.1   \n",
      "37          0.5            0.1         10           800         2.0   \n",
      "\n",
      "    subsample  accu_mean  accu_stdev  cross_mean  cross_stdev       ...        \\\n",
      "15        0.8   0.537955    0.006911    1.352302     0.017473       ...         \n",
      "43        0.6   0.536814    0.004487    1.343917     0.017474       ...         \n",
      "31        0.6   0.534842    0.004418    1.400452     0.018543       ...         \n",
      "37        0.8   0.542585    0.004349    1.551575     0.025162       ...         \n",
      "\n",
      "    cross_mean_6  cross_stdev_6  accu_mean_9  accu_stdev_9  cross_mean_9  \\\n",
      "15      1.240002       0.029447     0.333791      0.011238      2.732938   \n",
      "43      1.262151       0.064055     0.336026      0.009911      2.619743   \n",
      "31      1.285825       0.035448     0.326928      0.006145      2.822246   \n",
      "37      1.300387       0.061743     0.338978      0.005170      3.162221   \n",
      "\n",
      "    cross_stdev_9  accu_mean_SM  accu_stdev_SM  cross_mean_SM  cross_stdev_SM  \n",
      "15       0.047227      0.661190       0.003627       1.077369        0.026079  \n",
      "43       0.039855      0.669696       0.011783       1.040365        0.022454  \n",
      "31       0.055584      0.668681       0.011778       1.056613        0.048120  \n",
      "37       0.045031      0.727597       0.017539       0.955879        0.048939  \n",
      "\n",
      "[4 rows x 26 columns]\n"
     ]
    }
   ],
   "source": [
    "#node 6\n",
    "opt_accu=pd.read_hdf(\"optimisation_accu_6.hd5\")\n",
    "print \"Best accuracy\"\n",
    "print opt_accu[0:4]\n",
    "opt_cross=pd.read_hdf(\"optimisation_cross_6.hd5\")\n",
    "print \"Best entropy\"\n",
    "print opt_cross[0:4]"
   ]
  },
  {
   "cell_type": "code",
   "execution_count": 29,
   "metadata": {
    "collapsed": false,
    "scrolled": false
   },
   "outputs": [
    {
     "name": "stdout",
     "output_type": "stream",
     "text": [
      "Best accuracy\n",
      "    clip_weight  learning_rate  max_depth  n_estimators  reg_lambda  \\\n",
      "20         0.10            0.5          5           800         2.0   \n",
      "37         0.50            0.1         10           800         2.0   \n",
      "21         0.50            0.3          5           800         1.0   \n",
      "10         0.50            0.5          5           800         1.0   \n",
      "26         0.50            0.3         10           500         1.0   \n",
      "5          0.10            0.3         10           300        10.0   \n",
      "32         0.10            0.5         10           300         2.0   \n",
      "43         0.10            0.1          7           800         2.0   \n",
      "52         0.05            0.5         10           800         1.0   \n",
      "48         0.10            0.3          7           800         0.5   \n",
      "28         0.10            0.3          5           800        10.0   \n",
      "15         0.10            0.1          7           800         1.0   \n",
      "34         0.05            0.5         10           300        10.0   \n",
      "4          0.10            0.5          3           800         2.0   \n",
      "56         0.10            0.5         10           800        10.0   \n",
      "16         0.10            0.5          7           500         2.0   \n",
      "19         0.05            0.3          7           500         1.0   \n",
      "14         0.50            0.3         10           300         1.0   \n",
      "25         0.50            0.3          7           300         0.1   \n",
      "51         0.10            0.3          5           800         0.1   \n",
      "\n",
      "    subsample  accu_mean  accu_stdev  cross_mean  cross_stdev       ...        \\\n",
      "20        0.6   0.514151    0.004650    1.701851     0.032724       ...         \n",
      "37        0.8   0.542585    0.004349    1.551575     0.025162       ...         \n",
      "21        0.6   0.526099    0.003489    1.712538     0.031930       ...         \n",
      "10        0.8   0.526628    0.005795    1.934308     0.029649       ...         \n",
      "26        1.0   0.537953    0.006171    1.742630     0.027373       ...         \n",
      "5         1.0   0.536365    0.005606    1.338465     0.018894       ...         \n",
      "32        0.6   0.520837    0.006232    1.600493     0.029307       ...         \n",
      "43        0.6   0.536814    0.004487    1.343917     0.017474       ...         \n",
      "52        1.0   0.522783    0.004917    1.723830     0.026224       ...         \n",
      "48        1.0   0.529854    0.005875    1.619186     0.020484       ...         \n",
      "28        0.8   0.526462    0.005266    1.395821     0.018665       ...         \n",
      "15        0.8   0.537955    0.006911    1.352302     0.017473       ...         \n",
      "34        1.0   0.533108    0.005733    1.357127     0.019914       ...         \n",
      "4         0.8   0.521918    0.006048    1.428873     0.017756       ...         \n",
      "56        1.0   0.527738    0.005315    1.603233     0.027092       ...         \n",
      "16        0.8   0.521941    0.005022    1.653445     0.029044       ...         \n",
      "19        0.8   0.526833    0.003461    1.467006     0.021017       ...         \n",
      "14        1.0   0.539695    0.006276    1.606556     0.023589       ...         \n",
      "25        0.8   0.534561    0.005075    1.577455     0.021950       ...         \n",
      "51        0.6   0.520032    0.002839    1.634832     0.024562       ...         \n",
      "\n",
      "    cross_mean_6  cross_stdev_6  accu_mean_9  accu_stdev_9  cross_mean_9  \\\n",
      "20      1.441836       0.039138     0.339029      0.013121      3.217820   \n",
      "37      1.300387       0.061743     0.338978      0.005170      3.162221   \n",
      "21      1.465645       0.072987     0.337993      0.013549      3.480842   \n",
      "10      1.621074       0.083912     0.337794      0.008069      3.729879   \n",
      "26      1.542394       0.063327     0.336898      0.008880      3.646380   \n",
      "5       1.311254       0.042671     0.336752      0.016636      2.596566   \n",
      "32      1.328221       0.038958     0.336205      0.009813      2.994912   \n",
      "43      1.262151       0.064055     0.336026      0.009911      2.619743   \n",
      "52      1.487539       0.039464     0.335052      0.010631      3.328091   \n",
      "48      1.424555       0.044077     0.334990      0.004505      3.271910   \n",
      "28      1.302355       0.030310     0.334715      0.014202      2.683416   \n",
      "15      1.240002       0.029447     0.333791      0.011238      2.732938   \n",
      "34      1.324966       0.029752     0.333446      0.009521      2.598061   \n",
      "4       1.423184       0.052366     0.333134      0.012263      2.880050   \n",
      "56      1.366558       0.039836     0.333091      0.011453      3.154969   \n",
      "16      1.402790       0.041164     0.331601      0.008959      3.221089   \n",
      "19      1.301370       0.063170     0.331362      0.016044      2.812158   \n",
      "14      1.504983       0.055101     0.330022      0.014540      3.465422   \n",
      "25      1.427110       0.052463     0.329103      0.010841      3.380137   \n",
      "51      1.449171       0.059573     0.327555      0.005636      3.245645   \n",
      "\n",
      "    cross_stdev_9  accu_mean_SM  accu_stdev_SM  cross_mean_SM  cross_stdev_SM  \n",
      "20       0.093220      0.692596       0.009250       1.045031        0.037024  \n",
      "37       0.045031      0.727597       0.017539       0.955879        0.048939  \n",
      "21       0.051312      0.689308       0.004843       1.070530        0.042201  \n",
      "10       0.047794      0.696534       0.010858       1.150517        0.040717  \n",
      "26       0.047948      0.698324       0.007705       1.138015        0.025165  \n",
      "5        0.045990      0.672948       0.006094       1.036466        0.024887  \n",
      "32       0.077209      0.703752       0.011117       1.009222        0.042535  \n",
      "43       0.039855      0.669696       0.011783       1.040365        0.022454  \n",
      "52       0.123516      0.703213       0.010293       1.086721        0.042294  \n",
      "48       0.069801      0.674270       0.009569       1.123458        0.046908  \n",
      "28       0.112232      0.664105       0.012832       1.058850        0.050969  \n",
      "15       0.047227      0.661190       0.003627       1.077369        0.026079  \n",
      "34       0.035680      0.662888       0.008870       1.068350        0.021732  \n",
      "4        0.093818      0.605428       0.010364       1.207691        0.032747  \n",
      "56       0.047575      0.716520       0.009411       0.997114        0.030927  \n",
      "16       0.029985      0.710052       0.013246       1.031265        0.038848  \n",
      "19       0.067466      0.685758       0.010186       1.032623        0.024660  \n",
      "14       0.056203      0.682020       0.012453       1.157955        0.034275  \n",
      "25       0.039256      0.666589       0.008974       1.156692        0.031424  \n",
      "51       0.047097      0.660874       0.008699       1.131630        0.045576  \n",
      "\n",
      "[20 rows x 26 columns]\n",
      "Best entropy\n",
      "    clip_weight  learning_rate  max_depth  n_estimators  reg_lambda  \\\n",
      "1          0.05            0.1          3           500         1.0   \n",
      "57         0.50            0.1          3           800        10.0   \n",
      "0          0.50            0.1          3           800         1.0   \n",
      "3          0.05            0.1          7           300         1.0   \n",
      "40         0.05            0.5          3           800        10.0   \n",
      "47         0.10            0.1          3           500         1.0   \n",
      "6          0.01            0.3          7           300         1.0   \n",
      "55         0.01            0.3          3           800        10.0   \n",
      "12         0.10            0.1          3           500         2.0   \n",
      "58         0.01            0.1          3           300         0.1   \n",
      "44         0.05            0.1         10           300        10.0   \n",
      "27         0.01            0.3         10           300         1.0   \n",
      "5          0.10            0.3         10           300        10.0   \n",
      "18         0.10            0.1         10           300         1.0   \n",
      "46         0.01            0.3          5           500         0.5   \n",
      "34         0.05            0.5         10           300        10.0   \n",
      "8          0.01            0.1          7           800         1.0   \n",
      "23         0.01            0.1          3           300        10.0   \n",
      "22         0.01            0.3         10           300        10.0   \n",
      "36         0.05            0.1         10           500        10.0   \n",
      "\n",
      "    subsample  accu_mean  accu_stdev  cross_mean  cross_stdev       ...        \\\n",
      "1         1.0   0.555465    0.002852    1.196472     0.008566       ...         \n",
      "57        0.8   0.550555    0.005835    1.219368     0.009689       ...         \n",
      "0         1.0   0.548495    0.005426    1.222094     0.011870       ...         \n",
      "3         1.0   0.550398    0.005319    1.218561     0.009990       ...         \n",
      "40        1.0   0.534405    0.005885    1.289155     0.010510       ...         \n",
      "47        1.0   0.555422    0.003736    1.198853     0.008818       ...         \n",
      "6         1.0   0.538664    0.005087    1.260165     0.011483       ...         \n",
      "55        1.0   0.549625    0.004181    1.214435     0.010019       ...         \n",
      "12        0.6   0.555136    0.003355    1.203261     0.008458       ...         \n",
      "58        1.0   0.560073    0.003609    1.191093     0.008332       ...         \n",
      "44        0.6   0.553375    0.005255    1.208390     0.010096       ...         \n",
      "27        0.8   0.539489    0.004722    1.268502     0.011638       ...         \n",
      "5         1.0   0.536365    0.005606    1.338465     0.018894       ...         \n",
      "18        0.8   0.542899    0.004373    1.275304     0.014785       ...         \n",
      "46        0.6   0.532811    0.003947    1.292679     0.010250       ...         \n",
      "34        1.0   0.533108    0.005733    1.357127     0.019914       ...         \n",
      "8         1.0   0.543102    0.003578    1.245233     0.009741       ...         \n",
      "23        0.6   0.562060    0.004108    1.207228     0.007013       ...         \n",
      "22        1.0   0.552066    0.002974    1.212331     0.008690       ...         \n",
      "36        0.6   0.550255    0.005393    1.222449     0.011588       ...         \n",
      "\n",
      "    cross_mean_6  cross_stdev_6  accu_mean_9  accu_stdev_9  cross_mean_9  \\\n",
      "1       1.515789       0.032509     0.311575      0.014123      2.523072   \n",
      "57      1.449198       0.041651     0.308698      0.008121      2.540072   \n",
      "0       1.465416       0.032679     0.303962      0.008610      2.564169   \n",
      "3       1.459926       0.021784     0.308882      0.006657      2.565253   \n",
      "40      1.431503       0.036149     0.321806      0.012104      2.566731   \n",
      "47      1.537460       0.035103     0.296437      0.015707      2.570365   \n",
      "6       1.449822       0.023968     0.314660      0.011330      2.575749   \n",
      "55      1.525996       0.040548     0.302182      0.009480      2.583095   \n",
      "12      1.508650       0.075952     0.302937      0.015913      2.585151   \n",
      "58      1.530436       0.034997     0.299343      0.008238      2.586019   \n",
      "44      1.475444       0.033511     0.312111      0.018710      2.589638   \n",
      "27      1.463436       0.047071     0.306090      0.012270      2.593476   \n",
      "5       1.311254       0.042671     0.336752      0.016636      2.596566   \n",
      "18      1.331617       0.033544     0.326174      0.011638      2.596916   \n",
      "46      1.457114       0.018647     0.313956      0.012327      2.597926   \n",
      "34      1.324966       0.029752     0.333446      0.009521      2.598061   \n",
      "8       1.441630       0.027746     0.305275      0.005001      2.602495   \n",
      "23      1.555488       0.031496     0.299363      0.017245      2.604613   \n",
      "22      1.523300       0.037859     0.301024      0.010267      2.610409   \n",
      "36      1.440836       0.034663     0.308799      0.011768      2.614910   \n",
      "\n",
      "    cross_stdev_9  accu_mean_SM  accu_stdev_SM  cross_mean_SM  cross_stdev_SM  \n",
      "1        0.070480      0.512669       0.008321       1.428296        0.024804  \n",
      "57       0.054848      0.536355       0.009001       1.358711        0.037353  \n",
      "0        0.029912      0.530121       0.007433       1.393695        0.005691  \n",
      "3        0.062011      0.550763       0.003938       1.316229        0.018623  \n",
      "40       0.058498      0.558028       0.010693       1.312305        0.014217  \n",
      "47       0.068945      0.515270       0.016889       1.442538        0.023699  \n",
      "6        0.037238      0.557336       0.008810       1.298682        0.035810  \n",
      "55       0.027209      0.510676       0.006785       1.417252        0.025537  \n",
      "12       0.065003      0.531062       0.016061       1.380736        0.041577  \n",
      "58       0.021054      0.500590       0.008696       1.481713        0.029453  \n",
      "44       0.049316      0.535079       0.008092       1.378206        0.023322  \n",
      "27       0.069516      0.580919       0.015660       1.241648        0.046412  \n",
      "5        0.045990      0.672948       0.006094       1.036466        0.024887  \n",
      "18       0.055404      0.649195       0.013501       1.092910        0.047265  \n",
      "46       0.063976      0.567609       0.010625       1.277021        0.024897  \n",
      "34       0.035680      0.662888       0.008870       1.068350        0.021732  \n",
      "8        0.041071      0.559432       0.007502       1.312878        0.025779  \n",
      "23       0.062158      0.493140       0.004233       1.485649        0.018474  \n",
      "22       0.040136      0.517374       0.010118       1.419752        0.029600  \n",
      "36       0.042623      0.562806       0.006871       1.292659        0.009559  \n",
      "\n",
      "[20 rows x 26 columns]\n"
     ]
    }
   ],
   "source": [
    "#node 9\n",
    "opt_accu=pd.read_hdf(\"optimisation_accu_9.hd5\")\n",
    "print \"Best accuracy\"\n",
    "print opt_accu[0:20]\n",
    "opt_cross=pd.read_hdf(\"optimisation_cross_9.hd5\")\n",
    "print \"Best entropy\"\n",
    "print opt_cross[0:20]"
   ]
  },
  {
   "cell_type": "code",
   "execution_count": null,
   "metadata": {
    "collapsed": true
   },
   "outputs": [],
   "source": []
  }
 ],
 "metadata": {
  "anaconda-cloud": {},
  "kernelspec": {
   "display_name": "Python [conda root]",
   "language": "python",
   "name": "conda-root-py"
  },
  "language_info": {
   "codemirror_mode": {
    "name": "ipython",
    "version": 2
   },
   "file_extension": ".py",
   "mimetype": "text/x-python",
   "name": "python",
   "nbconvert_exporter": "python",
   "pygments_lexer": "ipython2",
   "version": "2.7.12"
  }
 },
 "nbformat": 4,
 "nbformat_minor": 1
}
